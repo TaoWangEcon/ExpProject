{
 "cells": [
  {
   "cell_type": "markdown",
   "metadata": {},
   "source": [
    "## Simulated method of moment estimation of an AR1"
   ]
  },
  {
   "cell_type": "code",
   "execution_count": 5,
   "metadata": {},
   "outputs": [],
   "source": [
    "import numpy as np\n",
    "import scipy as sp \n",
    "from scipy.optimize import minimize\n",
    "import matplotlib.pyplot as plt\n",
    "from scipy.stats import bernoulli"
   ]
  },
  {
   "cell_type": "code",
   "execution_count": 6,
   "metadata": {
    "code_folding": [
     5,
     15
    ]
   },
   "outputs": [
    {
     "data": {
      "text/plain": [
       " final_simplex: (array([[0.438125  ],\n",
       "       [0.43804688]]), array([8.32667268e-17, 8.32667268e-17]))\n",
       "           fun: 8.326672684688674e-17\n",
       "       message: 'Optimization terminated successfully.'\n",
       "          nfev: 34\n",
       "           nit: 16\n",
       "        status: 0\n",
       "       success: True\n",
       "             x: array([0.438125])"
      ]
     },
     "execution_count": 6,
     "metadata": {},
     "output_type": "execute_result"
    }
   ],
   "source": [
    "## A simple estimation \n",
    "\n",
    "data_mean,data_var = bernoulli.stats(0.45, loc=0, moments='mv')\n",
    "data_moms = np.array([data_mean,data_var])\n",
    "\n",
    "def simulate(p,\n",
    "           n_sim):\n",
    "    np.random.seed(22222)\n",
    "    draws = bernoulli.rvs(p = p,\n",
    "                          size = n_sim)\n",
    "    sim_mean = np.mean(draws)\n",
    "    sim_var = np.var(draws)\n",
    "    sim_moms = np.array([sim_mean,sim_var])\n",
    "    return sim_moms\n",
    "\n",
    "def loss(p):\n",
    "    #np.random.seed(1224)\n",
    "    sim_mom = simulate(p,n_sim = 1000)\n",
    "    distance = sim_mom - data_moms\n",
    "    loss = np.linalg.norm(distance)\n",
    "    #print('loss ='+str(loss))\n",
    "    return loss\n",
    "\n",
    "p_est = minimize(loss,\n",
    "                 method='Nelder-Mead',\n",
    "                 x0 = 0.8)\n",
    "p_est"
   ]
  },
  {
   "cell_type": "code",
   "execution_count": 7,
   "metadata": {},
   "outputs": [
    {
     "data": {
      "text/plain": [
       "[<matplotlib.lines.Line2D at 0x1a17af0400>]"
      ]
     },
     "execution_count": 7,
     "metadata": {},
     "output_type": "execute_result"
    },
    {
     "data": {
      "image/png": "[encoded data removed]",
      "text/plain": [
       "<Figure size 432x288 with 1 Axes>"
      ]
     },
     "metadata": {
      "needs_background": "light"
     },
     "output_type": "display_data"
    }
   ],
   "source": [
    "# plot the loss function for different p\n",
    "ps = np.linspace(0,1,40)\n",
    "losses = np.array([loss(p) for p in ps])\n",
    "plt.plot(ps,losses)"
   ]
  },
  {
   "cell_type": "code",
   "execution_count": 62,
   "metadata": {
    "code_folding": [
     3
    ]
   },
   "outputs": [],
   "source": [
    "## some process parameters \n",
    "rho = 0.93\n",
    "sigma = 0.14\n",
    "process_para = {'rho':rho,\n",
    "                'sigma':sigma}"
   ]
  },
  {
   "cell_type": "code",
   "execution_count": 63,
   "metadata": {
    "code_folding": [
     1,
     12,
     46,
     58,
     65,
     69,
     87,
     105,
     132,
     157,
     183,
     209,
     225
    ]
   },
   "outputs": [],
   "source": [
    "class SMMAR:\n",
    "    def __init__(self,\n",
    "                 process_para,\n",
    "                 T = 1000,\n",
    "                 T_burn = 30):\n",
    "        self.process_para = process_para\n",
    "        self.T = T\n",
    "        self.T_burn = T_burn\n",
    "        self.rho = self.process_para['rho']\n",
    "        self.sigma = self.process_para['sigma']\n",
    "        self.moments = ['YVar','resdVar','YATV']\n",
    "        \n",
    "    def Simulate(self,\n",
    "                 seed = True):\n",
    "        \n",
    "        T = self.T\n",
    "        T_burn = self.T_burn\n",
    "        rho = self.rho\n",
    "        self.sigma = self.sigma\n",
    "        \n",
    "        xxx = np.zeros(T+1)\n",
    "        if seed == True:\n",
    "            np.random.seed(12234)\n",
    "        elif seed == False:\n",
    "            None\n",
    "        shocks = np.random.randn(T+1)*sigma\n",
    "        xxx[0] = 0 \n",
    "        for i in range(T):\n",
    "            xxx[i+1] = rho*xxx[i] + shocks[i+1]\n",
    "        self.Simulated = xxx[T_burn:]\n",
    "        \n",
    "        ## simulated moments  \n",
    "        resds = np.mean(self.Simulated[1:]-rho*self.Simulated[:-1])\n",
    "        resd_sim = np.mean(resds)\n",
    "        resdVar_sim = np.mean(resds**2)\n",
    "        Yresd_sim = np.mean(self.Simulated[:-1]*resds)\n",
    "        YVar_sim = np.var(self.Simulated)\n",
    "        YATV_sim = np.cov(np.stack((self.Simulated[1:],self.Simulated[:-1]),axis=0))[0,1] \n",
    "        \n",
    "        self.SimulatedMoments= {\"resd\":resd_sim,\n",
    "                                \"Yresd\":Yresd_sim,\n",
    "                                \"YVar\":YVar_sim,\n",
    "                                \"resdVar\":resdVar_sim,\n",
    "                                \"YATV\":YATV_sim\n",
    "                               }\n",
    "        \n",
    "    def Compute(self):\n",
    "        rho = self.rho\n",
    "        sigma = self.sigma\n",
    "        \n",
    "        ## model \n",
    "        \n",
    "        resd = 0 \n",
    "        Yresd = 0 \n",
    "        resdVar = sigma**2\n",
    "        YVar = sigma**2/(1-rho**2)\n",
    "        YATV = rho*YVar\n",
    "        \n",
    "        self.ComputeMoments= {\"resd\":resd,\n",
    "                              \"Yresd\":Yresd,\n",
    "                              \"YVar\":YVar,\n",
    "                              \"resdVar\":resdVar,\n",
    "                              \"YATV\":YATV\n",
    "                             }\n",
    "        \n",
    "    def GetDataMoments(self,\n",
    "                       data_moms_dct):\n",
    "        self.data_moms_dct = data_moms_dct\n",
    "    \n",
    "    def SMMObj(self,\n",
    "               paras):\n",
    "        ## data moments\n",
    "        data_moms_dct = self.data_moms_dct\n",
    "        \n",
    "        ## parameters \n",
    "        self.rho = paras[0]\n",
    "        self.sigma = paras[1]\n",
    "        self.Simulate()\n",
    "        \n",
    "        sim_moms_dct = self.SimulatedMoments\n",
    "        sim_moms = np.array([sim_moms_dct[key] for key in self.moments])\n",
    "        data_moms = np.array([data_moms_dct[key] for key in self.moments])\n",
    "        assert len(sim_moms) == len(data_moms), \"not equal lenghth\"\n",
    "        distance = sim_moms - data_moms\n",
    "        obj_func = np.linalg.norm(distance)\n",
    "        return obj_func\n",
    "    \n",
    "    def GMMObj(self,\n",
    "               paras):\n",
    "        ## data moments\n",
    "        data_moms_dct = self.data_moms_dct\n",
    "        \n",
    "        ## parameters \n",
    "        self.rho = paras[0]\n",
    "        self.sigma = paras[1]\n",
    "        self.Compute()\n",
    "        \n",
    "        com_moms_dct = self.ComputeMoments\n",
    "        com_moms = np.array([com_moms_dct[key] for key in self.moments])\n",
    "        data_moms = np.array([data_moms_dct[key] for key in self.moments])\n",
    "        assert len(com_moms) == len(data_moms), \"not equal lenghth\"\n",
    "        distance = com_moms - data_moms\n",
    "        obj_func = np.linalg.norm(distance)\n",
    "        return obj_func\n",
    "    \n",
    "    def SMMObjwm1st(self,\n",
    "                    paras):\n",
    "        \n",
    "        # estimate first step \n",
    "        self.ParaEstimateSMM()\n",
    "        self.WM1st()\n",
    "        \n",
    "        ## data moments\n",
    "        data_moms_dct = self.data_moms_dct\n",
    "        \n",
    "        ## 1-step weighting matrix \n",
    "        wm1st = self.wm1st\n",
    "        \n",
    "        ## parameters \n",
    "        self.rho = paras[0]\n",
    "        self.sigma = paras[1]\n",
    "        self.Simulate(seed = True)\n",
    "        \n",
    "        sim_moms_dct = self.SimulatedMoments\n",
    "        sim_moms = np.array([sim_moms_dct[key] for key in self.moments])\n",
    "        data_moms = np.array([data_moms_dct[key] for key in self.moments])\n",
    "        assert len(sim_moms) == len(data_moms), \"not equal lenghth\"\n",
    "        distance = sim_moms - data_moms\n",
    "        tmp = np.multiply(np.multiply(distance.T,wm1st),distance)  ## need to make sure it is right. \n",
    "        obj_func = np.sum(tmp)\n",
    "        return obj_func\n",
    "    \n",
    "    def SMMObjwmboot(self,\n",
    "                    paras):\n",
    "        \n",
    "        # estimate bootstrapping sample \n",
    "        self.ParaEstimateSMM()\n",
    "        self.WMboot(n_boot = 100)\n",
    "        wm_boot = self.wm_boot\n",
    "        \n",
    "        ## data moments\n",
    "        data_moms_dct = self.data_moms_dct\n",
    "        \n",
    "        ## parameters \n",
    "        self.rho = paras[0]\n",
    "        self.sigma = paras[1]\n",
    "        self.Simulate()\n",
    "        \n",
    "        # loss func\n",
    "        sim_moms_dct = self.SimulatedMoments\n",
    "        sim_moms = np.array([sim_moms_dct[key] for key in self.moments])\n",
    "        data_moms = np.array([data_moms_dct[key] for key in self.moments])\n",
    "        assert len(sim_moms) == len(data_moms), \"not equal lenghth\"\n",
    "        distance = sim_moms - data_moms\n",
    "        obj_func = np.sum(distance*wm_boot*distance.T)\n",
    "        return obj_func\n",
    "        \n",
    "    def ParaEstimateSMM(self,\n",
    "                        wb = 'identity', ## the type of weighting matrix to use\n",
    "                        para_guess = np.array([0.8,0.1]),\n",
    "                        method='CG',\n",
    "                        bounds = None,\n",
    "                        options = None):\n",
    "        if wb =='identity':\n",
    "            self.para_estSMM = minimize(self.SMMObj,\n",
    "                                         x0 = para_guess,\n",
    "                                         method = method,\n",
    "                                         bounds = bounds,\n",
    "                                         options = options)\n",
    "        if wb == '2-step':\n",
    "            self.para_estSMM = minimize(self.SMMObjwm1st,\n",
    "                                         x0 = para_guess,\n",
    "                                         method = method,\n",
    "                                         bounds = bounds,\n",
    "                                         options = options)\n",
    "        if wb == 'bootstrap':\n",
    "            self.para_estSMM = minimize(self.SMMObjwmboot,\n",
    "                                         x0 = para_guess,\n",
    "                                         method = method,\n",
    "                                         bounds = bounds,\n",
    "                                         options = options)\n",
    "        return self.para_estSMM\n",
    "    \n",
    "    def ParaEstimateGMM(self,\n",
    "                        wb = 'identity', ## the type of weighting matrix to use\n",
    "                        para_guess = np.array([0.8,0.1]),\n",
    "                        method='CG',\n",
    "                        bounds = None,\n",
    "                        options = None):\n",
    "        if wb =='identity':\n",
    "            self.para_estGMM = minimize(self.GMMObj,\n",
    "                                         x0 = para_guess,\n",
    "                                         method = method,\n",
    "                                         bounds = bounds,\n",
    "                                         options = options)\n",
    "        if wb == '2-step':\n",
    "            self.para_estGMM = minimize(self.GMMObjwm1st,\n",
    "                                         x0 = para_guess,\n",
    "                                         method = method,\n",
    "                                         bounds = bounds,\n",
    "                                         options = options)\n",
    "        if wb == 'bootstrap':\n",
    "            self.para_estGMM = minimize(self.GMMObjwmboot,\n",
    "                                         x0 = para_guess,\n",
    "                                         method = method,\n",
    "                                         bounds = bounds,\n",
    "                                         options = options)\n",
    "        return self.para_estGMM\n",
    "    \n",
    "    def WM1st(self):\n",
    "        \"\"\"\n",
    "        - get the 1-st step variance and covariance matrix\n",
    "        \"\"\"\n",
    "        self.rho = self.para_estSMM['x'][0]\n",
    "        self.sigma = self.para_estSMM['x'][1]\n",
    "        self.Simulate()\n",
    "        sim_moms_dct = self.SimulatedMoments\n",
    "        data_moms_dct = self.data_moms_dct\n",
    "        sim_moms = np.array([sim_moms_dct[key] for key in self.moments])\n",
    "        data_moms = np.array([data_moms_dct[key] for key in self.moments])\n",
    "        distance = sim_moms - data_moms\n",
    "        distance_diag = np.diag(distance*distance.T)\n",
    "        self.wm1st = np.linalg.inv(distance_diag)\n",
    "        return self.wm1st\n",
    "    \n",
    "    def WMboot(self,\n",
    "               n_boot = 3):\n",
    "        # data moments \n",
    "        data_moms_dct = self.data_moms_dct\n",
    "        \n",
    "        # parameters \n",
    "        self.rho = self.para_estSMM['x'][0]\n",
    "        self.sigma = self.para_estSMM['x'][1]\n",
    "        \n",
    "\n",
    "        distance_boot = []\n",
    "        \n",
    "        for i in range(n_boot): \n",
    "            self.Simulate(seed = False)\n",
    "            sim_moms_dct = self.SimulatedMoments\n",
    "            sim_moms = np.array([sim_moms_dct[key] for key in self.moments])\n",
    "            data_moms = np.array([data_moms_dct[key] for key in self.moments])\n",
    "            distance = sim_moms - data_moms\n",
    "            distance_boot.append(np.array(distance))\n",
    "        #print(np.array(distance_boot).shape)\n",
    "        vcv_boot_ary = np.array(distance_boot, dtype=np.float64)\n",
    "        self.vcv_boot = np.cov(vcv_boot_ary.T)\n",
    "        #print(self.vcv_boot)\n",
    "        self.wm_boot = np.linalg.inv(self.vcv_boot)"
   ]
  },
  {
   "cell_type": "code",
   "execution_count": 64,
   "metadata": {
    "code_folding": []
   },
   "outputs": [],
   "source": [
    "## prepare instances \n",
    "\n",
    "smm_fake = SMMAR(process_para)\n",
    "\n",
    "smm_est = SMMAR(process_para)"
   ]
  },
  {
   "cell_type": "code",
   "execution_count": 65,
   "metadata": {
    "code_folding": []
   },
   "outputs": [
    {
     "data": {
      "text/plain": [
       "[<matplotlib.lines.Line2D at 0x1a18a20048>]"
      ]
     },
     "execution_count": 65,
     "metadata": {},
     "output_type": "execute_result"
    },
    {
     "data": {
      "image/png": "[encoded data removed]",
      "text/plain": [
       "<Figure size 432x288 with 1 Axes>"
      ]
     },
     "metadata": {
      "needs_background": "light"
     },
     "output_type": "display_data"
    }
   ],
   "source": [
    "## simulation \n",
    "smm_fake.Simulate()\n",
    "plt.plot(smm_fake.Simulated.copy())"
   ]
  },
  {
   "cell_type": "code",
   "execution_count": 66,
   "metadata": {
    "code_folding": []
   },
   "outputs": [],
   "source": [
    "## Try computing some losses\n",
    "smm_est.GetDataMoments(smm_fake.SimulatedMoments.copy())\n",
    "#smm_est.GMMObj(np.array([0.89,0.2]))"
   ]
  },
  {
   "cell_type": "code",
   "execution_count": 67,
   "metadata": {
    "code_folding": []
   },
   "outputs": [
    {
     "data": {
      "text/plain": [
       "     fun: 0.01281815190932274\n",
       "   maxcv: 0.0\n",
       " message: 'Optimization terminated successfully.'\n",
       "    nfev: 431\n",
       "  status: 1\n",
       " success: True\n",
       "       x: array([0.95932027, 0.112485  ])"
      ]
     },
     "execution_count": 67,
     "metadata": {},
     "output_type": "execute_result"
    }
   ],
   "source": [
    "## GMM Estimation\n",
    "\n",
    "smm_est.ParaEstimateGMM(method ='COBYLA',\n",
    "                        para_guess = np.array([0.9,0.1]),\n",
    "                        options = {'disp':True})"
   ]
  },
  {
   "cell_type": "code",
   "execution_count": 68,
   "metadata": {
    "code_folding": []
   },
   "outputs": [
    {
     "name": "stdout",
     "output_type": "stream",
     "text": [
      "Optimization terminated successfully.\n",
      "         Current function value: 0.000000\n",
      "         Iterations: 61\n",
      "         Function evaluations: 130\n"
     ]
    },
    {
     "data": {
      "text/plain": [
       " final_simplex: (array([[0.93      , 0.09640625],\n",
       "       [0.93      , 0.09634277],\n",
       "       [0.93      , 0.09644043]]), array([0.00000000e+00, 3.14018492e-16, 3.14018492e-16]))\n",
       "           fun: 0.0\n",
       "       message: 'Optimization terminated successfully.'\n",
       "          nfev: 130\n",
       "           nit: 61\n",
       "        status: 0\n",
       "       success: True\n",
       "             x: array([0.93      , 0.09640625])"
      ]
     },
     "execution_count": 68,
     "metadata": {},
     "output_type": "execute_result"
    }
   ],
   "source": [
    "## SMM Estimation \n",
    "smm_est.ParaEstimateSMM(method='Nelder-Mead',\n",
    "                        options = {'disp':True})"
   ]
  },
  {
   "cell_type": "code",
   "execution_count": 69,
   "metadata": {
    "scrolled": false
   },
   "outputs": [
    {
     "name": "stdout",
     "output_type": "stream",
     "text": [
      "Optimization terminated successfully.\n",
      "         Current function value: 0.004846\n",
      "         Iterations: 42\n",
      "         Function evaluations: 119\n"
     ]
    },
    {
     "data": {
      "text/plain": [
       " final_simplex: (array([[0.9321875 , 0.09330078],\n",
       "       [0.9321875 , 0.09330078],\n",
       "       [0.9321875 , 0.09330078]]), array([0.00484644, 0.00484644, 0.00484644]))\n",
       "           fun: 0.004846441607329661\n",
       "       message: 'Optimization terminated successfully.'\n",
       "          nfev: 119\n",
       "           nit: 42\n",
       "        status: 0\n",
       "       success: True\n",
       "             x: array([0.9321875 , 0.09330078])"
      ]
     },
     "execution_count": 69,
     "metadata": {},
     "output_type": "execute_result"
    }
   ],
   "source": [
    "## Estimation \n",
    "smm_est.ParaEstimateSMM(method='Nelder-Mead',\n",
    "                        wb = '2-step',\n",
    "                        options = {'disp':True})"
   ]
  },
  {
   "cell_type": "code",
   "execution_count": 70,
   "metadata": {},
   "outputs": [],
   "source": [
    "#smm_est.WMboot()\n",
    "#smm_est.SMMObjwmboot(np.array([0.7,0.2]))"
   ]
  },
  {
   "cell_type": "code",
   "execution_count": 71,
   "metadata": {
    "code_folding": [],
    "scrolled": true
   },
   "outputs": [
    {
     "name": "stdout",
     "output_type": "stream",
     "text": [
      "Optimization terminated successfully.\n",
      "         Current function value: -0.000000\n",
      "         Iterations: 59\n",
      "         Function evaluations: 124\n"
     ]
    },
    {
     "data": {
      "text/plain": [
       " final_simplex: (array([[0.93      , 0.091875  ],\n",
       "       [0.93      , 0.09194336],\n",
       "       [0.93      , 0.09187256]]), array([-9.18217089e-26,  3.47960095e-26,  3.47960095e-26]))\n",
       "           fun: -9.18217088622008e-26\n",
       "       message: 'Optimization terminated successfully.'\n",
       "          nfev: 124\n",
       "           nit: 59\n",
       "        status: 0\n",
       "       success: True\n",
       "             x: array([0.93    , 0.091875])"
      ]
     },
     "execution_count": 71,
     "metadata": {},
     "output_type": "execute_result"
    }
   ],
   "source": [
    "#np.seterr(all='warn')\n",
    "\n",
    "smm_est.ParaEstimateSMM(method='Nelder-Mead',\n",
    "                        wb = 'bootstrap',\n",
    "                        options = {'disp':True})"
   ]
  }
 ],
 "metadata": {
  "kernelspec": {
   "display_name": "Python 3",
   "language": "python",
   "name": "python3"
  },
  "language_info": {
   "codemirror_mode": {
    "name": "ipython",
    "version": 3
   },
   "file_extension": ".py",
   "mimetype": "text/x-python",
   "name": "python",
   "nbconvert_exporter": "python",
   "pygments_lexer": "ipython3",
   "version": "3.7.3"
  }
 },
 "nbformat": 4,
 "nbformat_minor": 2
}
