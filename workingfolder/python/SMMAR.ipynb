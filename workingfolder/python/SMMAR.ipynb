{
 "cells": [
  {
   "cell_type": "code",
   "execution_count": 143,
   "metadata": {},
   "outputs": [],
   "source": [
    "import numpy as np\n",
    "import scipy as sp \n",
    "from scipy.optimize import minimize\n",
    "import matplotlib.pyplot as plt"
   ]
  },
  {
   "cell_type": "code",
   "execution_count": 144,
   "metadata": {
    "code_folding": [
     3
    ]
   },
   "outputs": [],
   "source": [
    "## some process parameters \n",
    "rho = 0.9\n",
    "sigma = 0.5\n",
    "process_para = {'rho':rho,\n",
    "                'sigma':sigma}"
   ]
  },
  {
   "cell_type": "code",
   "execution_count": 158,
   "metadata": {
    "code_folding": [
     1,
     43,
     47,
     65,
     92,
     113
    ]
   },
   "outputs": [],
   "source": [
    "class SMMAR:\n",
    "    def __init__(self,\n",
    "                 process_para,\n",
    "                 T = 200,\n",
    "                 T_burn = 20):\n",
    "        self.process_para = process_para\n",
    "        self.T = T\n",
    "        self.T_burn = T_burn\n",
    "        self.rho = self.process_para['rho']\n",
    "        self.sigma = self.process_para['sigma']\n",
    "        self.moments = ['resd','Yresd','YVar','resdVar','YATV']\n",
    "        \n",
    "    def Simulate(self):\n",
    "        \n",
    "        T = self.T\n",
    "        T_burn = self.T_burn\n",
    "        rho = self.rho\n",
    "        self.sigma = self.sigma\n",
    "        \n",
    "        xxx = np.zeros(T+1)\n",
    "        np.random.seed(12234)\n",
    "        \n",
    "        shocks = np.random.randn(T+1)*sigma\n",
    "        xxx[0] = 0 \n",
    "        for i in range(T):\n",
    "            xxx[i+1] = rho*xxx[i] + shocks[i+1]\n",
    "        self.Simulated = xxx[T_burn:]\n",
    "        \n",
    "        ## simulated moments  \n",
    "        resds = np.mean(self.Simulated[1:]-rho*self.Simulated[:-1])\n",
    "        resd_sim = np.mean(resds)\n",
    "        resdVar_sim = np.mean(resds**2)\n",
    "        Yresd_sim = np.mean(self.Simulated[:-1]*resds)\n",
    "        YVar_sim = np.var(self.Simulated)\n",
    "        YATV_sim = np.cov(np.stack((self.Simulated[1:],self.Simulated[:-1]),axis=0))[0,1] \n",
    "        \n",
    "        self.SimulatedMoments= {\"resd\":resd_sim,\n",
    "                                \"Yresd\":Yresd_sim,\n",
    "                                \"YVar\":YVar_sim,\n",
    "                                \"resdVar\":resdVar_sim,\n",
    "                                \"YATV\":YATV_sim\n",
    "                               }\n",
    "        \n",
    "    def GetDataMoments(self,\n",
    "                       data_moms_dct):\n",
    "        self.data_moms_dct = data_moms_dct\n",
    "    \n",
    "    def SMMObj(self,\n",
    "               paras):\n",
    "        ## data moments\n",
    "        data_moms_dct = self.data_moms_dct\n",
    "        \n",
    "        ## parameters \n",
    "        self.rho = paras[0]\n",
    "        self.sigma = paras[1]\n",
    "        self.Simulate()\n",
    "        \n",
    "        sim_moms_dct = self.SimulatedMoments\n",
    "        sim_moms = np.array([sim_moms_dct[key] for key in self.moments])\n",
    "        data_moms = np.array([data_moms_dct[key] for key in self.moments])\n",
    "        assert len(sim_moms) == len(data_moms), \"not equal lenghth\"\n",
    "        distance = sim_moms - data_moms\n",
    "        obj_func = np.linalg.norm(distance)\n",
    "        return obj_func\n",
    "    \n",
    "    def SMMObjwm1st(self,\n",
    "                    paras):\n",
    "        \n",
    "        # estimate first step \n",
    "        self.ParaEstimateSMM()\n",
    "        \n",
    "        self.WM1st()\n",
    "        \n",
    "        ## data moments\n",
    "        data_moms_dct = self.data_moms_dct\n",
    "        \n",
    "        ## 1-step weighting matrix \n",
    "        wm1st = self.wm1st\n",
    "        \n",
    "        ## parameters \n",
    "        self.rho = paras[0]\n",
    "        self.sigma = paras[1]\n",
    "        self.Simulate()\n",
    "        \n",
    "        sim_moms_dct = self.SimulatedMoments\n",
    "        sim_moms = np.array([sim_moms_dct[key] for key in self.moments])\n",
    "        data_moms = np.array([data_moms_dct[key] for key in self.moments])\n",
    "        assert len(sim_moms) == len(data_moms), \"not equal lenghth\"\n",
    "        distance = sim_moms - data_moms\n",
    "        obj_func = np.sum(distance*wm1st*distance.T)\n",
    "        return obj_func\n",
    "        \n",
    "    def ParaEstimateSMM(self,\n",
    "                        wb = 'identity', ## the type of weighting matrix to use\n",
    "                        \n",
    "                        para_guess = np.array([0.8,0.1]),\n",
    "                        method='CG',\n",
    "                        bounds = None,\n",
    "                        options = None):\n",
    "        if wb =='identity':\n",
    "            self.para_estSMM = minimize(self.SMMObj,\n",
    "                                         x0 = para_guess,\n",
    "                                         method = method,\n",
    "                                         bounds = bounds,\n",
    "                                         options = options)\n",
    "        if wb == '2-step':\n",
    "            self.para_estSMM = minimize(self.SMMObjwm1st,\n",
    "                                         x0 = para_guess,\n",
    "                                         method = method,\n",
    "                                         bounds = bounds,\n",
    "                                         options = options)\n",
    "        return self.para_estSMM\n",
    "    \n",
    "    def WM1st(self):\n",
    "        \"\"\"\n",
    "        - get the 1-st step variance and covariance matrix\n",
    "        \"\"\"\n",
    "        self.rho = self.para_estSMM['x'][0]\n",
    "        self.sigma = self.para_estSMM['x'][1]\n",
    "        self.Simulate()\n",
    "        sim_moms_dct = self.SimulatedMoments\n",
    "        data_moms_dct = self.data_moms_dct\n",
    "        sim_moms = np.array([sim_moms_dct[key] for key in self.moments])\n",
    "        data_moms = np.array([data_moms_dct[key] for key in self.moments])\n",
    "        distance = sim_moms - data_moms\n",
    "        distance_diag = np.diag(distance*distance.T)\n",
    "        self.wm1st = np.linalg.inv(distance_diag)\n",
    "        return self.wm1st"
   ]
  },
  {
   "cell_type": "code",
   "execution_count": 159,
   "metadata": {},
   "outputs": [],
   "source": [
    "## prepare instances \n",
    "\n",
    "smm_fake = SMMAR(process_para)\n",
    "\n",
    "smm_est = SMMAR(process_para)"
   ]
  },
  {
   "cell_type": "code",
   "execution_count": 160,
   "metadata": {
    "code_folding": []
   },
   "outputs": [
    {
     "data": {
      "text/plain": [
       "[<matplotlib.lines.Line2D at 0x101bb70f98>]"
      ]
     },
     "execution_count": 160,
     "metadata": {},
     "output_type": "execute_result"
    },
    {
     "data": {
      "image/png": "[encoded data removed]",
      "text/plain": [
       "<Figure size 432x288 with 1 Axes>"
      ]
     },
     "metadata": {
      "needs_background": "light"
     },
     "output_type": "display_data"
    }
   ],
   "source": [
    "## simulation \n",
    "smm_fake.Simulate()\n",
    "plt.plot(smm_fake.Simulated.copy())"
   ]
  },
  {
   "cell_type": "code",
   "execution_count": 161,
   "metadata": {},
   "outputs": [
    {
     "data": {
      "text/plain": [
       "0.3399952410863106"
      ]
     },
     "execution_count": 161,
     "metadata": {},
     "output_type": "execute_result"
    }
   ],
   "source": [
    "## Try computing some losses\n",
    "smm_est.GetDataMoments(smm_fake.SimulatedMoments.copy())\n",
    "smm_est.SMMObj(np.array([0.8,0.5]))"
   ]
  },
  {
   "cell_type": "code",
   "execution_count": 162,
   "metadata": {},
   "outputs": [
    {
     "data": {
      "text/plain": [
       "     fun: 0.5856161025605536\n",
       "     jac: array([2.18945738e+08, 0.00000000e+00])\n",
       " message: 'Converged (|x_n-x_(n-1)| ~= 0)'\n",
       "    nfev: 19\n",
       "     nit: 5\n",
       "  status: 2\n",
       " success: True\n",
       "       x: array([0.9, 0.1])"
      ]
     },
     "execution_count": 162,
     "metadata": {},
     "output_type": "execute_result"
    }
   ],
   "source": [
    "## Estimation \n",
    "smm_est.ParaEstimateSMM(method='TNC',\n",
    "                        wb = '2-step')"
   ]
  },
  {
   "cell_type": "code",
   "execution_count": 163,
   "metadata": {},
   "outputs": [
    {
     "data": {
      "text/plain": [
       "190170048912595.7"
      ]
     },
     "execution_count": 163,
     "metadata": {},
     "output_type": "execute_result"
    }
   ],
   "source": [
    "smm_est.SMMObjwm1st(np.array([0.8,0.5]))"
   ]
  },
  {
   "cell_type": "code",
   "execution_count": null,
   "metadata": {},
   "outputs": [],
   "source": []
  }
 ],
 "metadata": {
  "kernelspec": {
   "display_name": "Python 3",
   "language": "python",
   "name": "python3"
  },
  "language_info": {
   "codemirror_mode": {
    "name": "ipython",
    "version": 3
   },
   "file_extension": ".py",
   "mimetype": "text/x-python",
   "name": "python",
   "nbconvert_exporter": "python",
   "pygments_lexer": "ipython3",
   "version": "3.7.3"
  }
 },
 "nbformat": 4,
 "nbformat_minor": 2
}
