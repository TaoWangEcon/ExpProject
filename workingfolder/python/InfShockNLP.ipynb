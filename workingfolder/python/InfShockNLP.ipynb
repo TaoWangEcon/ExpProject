{
 "cells": [
  {
   "cell_type": "markdown",
   "metadata": {},
   "source": [
    "## News-based Shock to Inflation \n",
    "\n",
    "- The codes in this notebook construct topic-specific shock to inflation based on news articles. \n",
    "- News media: New York Times. (Wall Streat Journal for future) \n",
    "- Currently, the sample period is 2009-2019, and there are,in total, 4670 articles."
   ]
  },
  {
   "cell_type": "code",
   "execution_count": 1,
   "metadata": {},
   "outputs": [],
   "source": [
    "import numpy as np\n",
    "import pandas as pd\n",
    "import nltk  \n",
    "#nltk.download('stopwords')\n",
    "#nltk.download('punkt')\n",
    "#nltk.download('wordnet')\n",
    "\n",
    "from nltk.corpus import stopwords\n",
    "from nltk.stem import WordNetLemmatizer\n",
    "\n",
    "import re\n",
    "\n",
    "from IPython.display import Markdown, display\n",
    "def printmd(string):\n",
    "    display(Markdown(string))\n",
    "    \n",
    "import matplotlib.pyplot as plt\n",
    "%matplotlib inline"
   ]
  },
  {
   "cell_type": "markdown",
   "metadata": {},
   "source": [
    "### 1. Data Pre-processing"
   ]
  },
  {
   "cell_type": "code",
   "execution_count": 2,
   "metadata": {},
   "outputs": [],
   "source": [
    "test_txt = open('../TextData/InfNYT1.txt').read()"
   ]
  },
  {
   "cell_type": "code",
   "execution_count": 3,
   "metadata": {},
   "outputs": [
    {
     "name": "stdout",
     "output_type": "stream",
     "text": [
      "../TextData/InfNYT1.txt\n",
      "lenght of the txt is 4655162\n",
      "Total length of the text is 4655162\n"
     ]
    }
   ],
   "source": [
    "raw_txt =''\n",
    "for txt_id in range(1):\n",
    "    myfile = ('../TextData/InfNYT'+str(txt_id+1)+'.txt')\n",
    "    print(myfile)\n",
    "    txt_temp = open(myfile).read()\n",
    "    print('lenght of the txt is '+ str(len(txt_temp)))\n",
    "    raw_txt += txt_temp\n",
    "print('Total length of the text is '+str(len(raw_txt)))"
   ]
  },
  {
   "cell_type": "code",
   "execution_count": 4,
   "metadata": {},
   "outputs": [],
   "source": [
    "## split raw texts into articles \n",
    "divider = '\\n____________________________________________________________\\n'\n",
    "articles = raw_txt.split(divider)"
   ]
  },
  {
   "cell_type": "code",
   "execution_count": 5,
   "metadata": {
    "code_folding": [],
    "scrolled": true
   },
   "outputs": [
    {
     "data": {
      "text/plain": [
       "'\\nTrump Picks Fed Veteran And Fed Critic for Board\\n\\nAuthor: Smialek, Jeanna\\n\\nPublication info: New York Times , Late Edition (East Coast); New York, N.Y. [New York, N.Y]03 July 2019: B.3.\\n\\nhttps://search.proquest.com/docview/2250900451?accountid=11752\\n\\nAbstract: None available.\\n\\nLinks: http://findit.library.jhu.edu/resolve?url_ver=Z39.88-2004&amp;rft_val_fmt=info:ofi/fmt:kev:mtx:journal&amp;genre=article&amp;sid=ProQ:ProQ%3Anytimes&amp;atitle=Trump+Picks+Fed+Veteran+And+Fed+Critic+for+Board%3A+%5BBusiness%2FFinancial+Desk%5D&amp;title=New+York+Times&amp;issn=03624331&amp;date=2019-07-03&amp;volume=&amp;issue=&amp;spage=B.3&amp;au=Smialek%2C+Jeanna&amp;isbn=&amp;jtitle=New+York+Times&amp;btitle=&amp;rft_id=info:eric/&amp;rft_id=info:doi/\\n\\nFull text: WASHINGTON -- President Trump, who has spent months assailing the Federal Reserve for its interest rate policies, said he planned to nominate Christopher Waller, a longtime regional Fed official, and Judy Shelton, a Fed critic, to serve on the central bank\\'s seven-member board.\\nThe president announced his intentions on Tuesday evening in a series of tweets. Mr. Waller, the executive vice president at the Federal Reserve Bank of St. Louis, is a far more conventional pick than Mr. Trump\\'s earlier Fed choices of Herman Cain and Stephen Moore.\\nMr. Cain, a former presidential candidate, and Mr. Moore, a conservative economist, were outspoken pundits with strong political views. Both men -- whose past actions and views toward women elicited strong criticism -- withdrew from consideration after congressional opposition made it clear that neither would win Senate confirmation.\\nMs. Shelton is a former Trump campaign adviser and transition team member who has been an outspoken advocate for the president\\'s policies and a critic of current Fed policy. She has held court at the Trump hotel in Washington in recent months, meeting with news organizations, lauding the administration\\'s trade war with China and making a case for cutting interest rates.\\nMr. Trump has been pressuring the Fed to lower rates, regularly criticizing the central bank and its chair, Jerome H. Powell, whom the president chose for the top post.\\nMr. Trump has already appointed four of the Fed\\'s five sitting governors. He now has the chance to more fully remake the Fed with two additional open seats.\\nBut his choices contrast sharply.\\nMs. Shelton is currently the United States executive director of the European Bank for Reconstruction and Development. She has praised the administration\\'s tax cuts and deregulatory policy, and has long been a proponent of anchoring global currencies to some universal unit of measure, like gold. She has praised Mr. Trump\\'s trade war with China as a necessary step to push back against a nation that does not play by the rules.\\nOnce a critic of low-rate policies, Ms. Shelton now takes issue with the Fed\\'s practice of setting rates by paying banks interest to park money at the Fed. She has said she would favor gradually dropping borrowing costs back to zero to phase out the practice.\\nMs. Shelton holds a doctorate in business administration from the University of Utah. She started the 2016 election cycle advising Ben Carson, who ran against Mr. Trump for the Republican nomination. But shortly after she wrote an opinion piece in August 2016 for The Wall Street Journal titled \"Trump\\'s Contribution to Sound Money,\" she began advising Mr. Trump\\'s campaign. She went on to work for the Trump transition team in a Treasury role before taking her current position at the European Bank for Reconstruction and Development.\\nMr. Waller, on the other hand, has worked at the St. Louis Fed as research director since 2009. He has an economics degree from Washington State University, and was previously a professor at the University of Notre Dame, which Mr. Trump noted in his tweet. Mr. Waller\\'s research has defended Fed independence and has dug into the causes of low inflation.\\nThe St. Louis Fed said that Mr. Waller met with the president on Tuesday, after the White House initially approached him about the role last month.\\nThe president of the St. Louis Fed, James Bullard, was the only voting governor to dissent in the decision last month on whether to keep interest rates steady. Mr. Bullard favored cutting rates, delivering the first \"no\" vote of Mr. Powell\\'s tenure. In a recent interview with Bloomberg Radio, Mr. Waller said he and his colleagues at the St. Louis Fed did not agree with the idea that low unemployment caused high inflation, a view that argues against pre-emptive interest rate increases.\\n\"We don\\'t buy into it. Look at Japan,\" he said. \"If you take that off the table, suddenly you\\'re like: Unemployment can stay low, and it doesn\\'t cause inflation, then what are you worried about?\"\\nIf Ms. Shelton and Mr. Waller are formally nominated, they will need to be confirmed by the Senate before assuming the posts. Fed governors have a constant vote on monetary policy, unlike the 12 regional presidents, who rotate in and out of voting seats.\\nBut even some of Mr. Trump\\'s conventional picks for the Fed have failed to gain favor in Congress. Marvin Goodfriend, a Carnegie Mellon University economist, and Nellie Liang, a longtime Fed official now at the Brookings Institution, were both formally nominated to the central bank. Neither won Senate confirmation.\\nPhotograph Judy Shelton was a Trump adviser. (PHOTOGRAPH BY LUCIE STEINZOVA/ RADIO FREE EUROPE-RADIO LIBERTY)\\n\\nSubject: Nominations; Interest rates; Central banks; Federal Reserve monetary policy\\n\\nLocation: United States--US China Japan\\n\\nPeople: Trump, Donald J Bullard, James Waller, Christopher Carson, Ben Goodfriend, Marvin Shelton, Judy Cain, Herman\\n\\nCompany / organization: Name: Brookings Institution; NAICS: 541711, 541720; Name: Congress; NAICS: 921120; Name: University of Utah; NAICS: 611310; Name: Senate; NAICS: 921120; Name: Wall Street Journal; NAICS: 511110; Name: University of Notre Dame; NAICS: 611310; Name: European Bank for Reconstruction & Developm ent; NAICS: 522110; Name: Washington State University; NAICS: 611310; Name: Carnegie Mellon University; NAICS: 611310\\n\\nURL: https://www.nytimes.com/2019/07/02/business/trump-fed-nominees.html\\n\\nTitle: Trump Picks Fed Veteran And Fed Critic for Board: \\xa0 [Business/Financial Desk ]\\n\\nPublication title: New York Times, Late Edition (East Coast); New York, N.Y.\\n\\nPages: B.3\\n\\nPublication year: 2019\\n\\nPublication date: Jul 3, 2019\\n\\nSection: B\\n\\nPublisher: New York Times Company\\n\\nPlace of publication: New York, N.Y.\\n\\nCountry of publication: United States, New York, N.Y.\\n\\nPublication subject: General Interest Periodicals--United States\\n\\nISSN: 03624331\\n\\nSource type: Newspapers\\n\\nLanguage of publication: English\\n\\nDocument type: News\\n\\nProQuest document ID: 2250900451\\n\\nDocument URL: https://search.proquest.com/docview/2250900451?accountid=11752\\n\\nCopyright: Copyright New York Times Company Jul 3, 2019\\n\\nLast updated: 2019-07-03\\n\\nDatabase: ProQuest Central\\n'"
      ]
     },
     "execution_count": 5,
     "metadata": {},
     "output_type": "execute_result"
    }
   ],
   "source": [
    "articles[2]"
   ]
  },
  {
   "cell_type": "code",
   "execution_count": 6,
   "metadata": {},
   "outputs": [
    {
     "data": {
      "text/plain": [
       "501"
      ]
     },
     "execution_count": 6,
     "metadata": {},
     "output_type": "execute_result"
    }
   ],
   "source": [
    "len(articles)"
   ]
  },
  {
   "cell_type": "code",
   "execution_count": 31,
   "metadata": {},
   "outputs": [
    {
     "data": {
      "text/plain": [
       "nan"
      ]
     },
     "execution_count": 31,
     "metadata": {},
     "output_type": "execute_result"
    }
   ],
   "source": [
    "## create empty dataframe to store articles information\n",
    "index = np.arange(len(articles))\n",
    "columns = ['author',\n",
    "          'text',\n",
    "          'subject',\n",
    "          'location',\n",
    "          'company',\n",
    "          'people',\n",
    "           'organization',\n",
    "          'title',\n",
    "          'doctype',\n",
    "           'date']\n",
    "\n",
    "dt = pd.DataFrame(index=index,columns = columns)\n",
    "\n",
    "dt['author'][1]"
   ]
  },
  {
   "cell_type": "code",
   "execution_count": 37,
   "metadata": {
    "code_folding": [],
    "scrolled": true
   },
   "outputs": [],
   "source": [
    "## new codes that extract information about each article\n",
    "author_str0 = '\\nAuthor:'\n",
    "author_str1 = '\\nPublication info:'\n",
    "author_str = [author_str0,author_str1]\n",
    "\n",
    "text_str0 = '\\nFull text:'\n",
    "text_str1 = '\\nSubject:'\n",
    "text_str =[text_str0,text_str1]\n",
    "\n",
    "subject_str0 = '\\nSubject:'\n",
    "subject_str1 = '\\nLocation:'\n",
    "subject_str = [subject_str0,subject_str1]\n",
    "\n",
    "location_str0 = '\\nLocation:'\n",
    "location_str1 ='\\nCompany / organization:'\n",
    "location_str = [location_str0,location_str1]\n",
    "\n",
    "organ_str0 = '\\nCompany / organization:'\n",
    "organ_str1 = '\\nURL:'\n",
    "organ_str = [organ_str0,organ_str1]\n",
    "\n",
    "people_str0 = '\\nPeople:'\n",
    "people_str1 = '\\nCompany / organization:'\n",
    "people_str = [people_str0,people_str1]\n",
    "\n",
    "title_str0 = '\\nTitle:'\n",
    "title_str1 = ': \\xa0'\n",
    "title_str = [title_str0,title_str1]\n",
    "\n",
    "doc_type_str0 = '\\nDocument type:'\n",
    "doc_type_str1 = '\\nProQuest document ID:'\n",
    "doc_type_str = [doc_type_str0,doc_type_str1]\n",
    "\n",
    "date_str0 = '\\nLast updated:'\n",
    "date_str1 ='\\nDatabase:'\n",
    "date_str = [date_str0,date_str1]\n",
    "\n",
    "str_list = {'author':author_str,\n",
    "           'text':text_str,\n",
    "           'subject':subject_str,\n",
    "           'location':location_str,\n",
    "            'organization':organ_str,\n",
    "           'people':people_str,\n",
    "           'title':title_str,\n",
    "           'doctype':doc_type_str,\n",
    "           'date':date_str}\n",
    "\n",
    "# first, check if all articles contain these strings. \n",
    "\n",
    "#for article in articles:\n",
    "#    for string in str_list:\n",
    "#        i = 0\n",
    "#        if string[0] not in article:\n",
    "#            i+=1\n",
    "#        if i >0:\n",
    "#            print(\"There is \"+str(i)+ ' article, for which there is no such a string' )\n",
    "\n",
    "\n",
    "# second, locate them \n",
    "\n",
    "for i,article in enumerate(articles[:3]):\n",
    "    for info,string in str_list.items():\n",
    "        if string[0] in article and string[1] in article:\n",
    "            loc_str = article.find(string[0])\n",
    "            loc_str1= article.find(string[1])\n",
    "            #print(string)\n",
    "            #print(str(loc_str) + ' is where the string starts')\n",
    "            extract = article[loc_str:loc_str1].split(string[0])[1]\n",
    "            #pd[info][i] = extract  "
   ]
  },
  {
   "cell_type": "code",
   "execution_count": 8,
   "metadata": {
    "code_folding": []
   },
   "outputs": [
    {
     "name": "stdout",
     "output_type": "stream",
     "text": [
      "location: United States--US\n",
      "\n",
      "location: Iran United States--US\n",
      "\n",
      "location: United States--US Denmark Canada Palo Alto California\n",
      "\n",
      "Company / organization: Name: Canada Pension Plan Investment Board; NAICS: 923130; Name: Environmental Protection Agency--EPA; NAICS: 924110\n",
      "\n",
      "Title: The Digest:   [Business/Financial Desk ]\n",
      "\n",
      "Publication title: New York Times, Late Edition (East Coast); New York, N.Y.\n",
      "\n",
      "Pages: B.2\n",
      "\n",
      "Publication year: 2019\n",
      "\n",
      "Publication date: Jun 29, 2019\n",
      "\n",
      "Section: B\n",
      "\n",
      "Publisher: New York Times Company\n",
      "\n",
      "Place of publication: New York, N.Y.\n",
      "\n",
      "Country of publication: United States, New York, N.Y.\n",
      "\n",
      "Publication subject: General Interest Periodicals--United States\n",
      "\n",
      "ISSN: 03624331\n",
      "\n",
      "Source type: Newspapers\n",
      "\n",
      "Language of publication: English\n",
      "\n",
      "Document type: News\n",
      "\n",
      "ProQuest document ID: 2248848807\n",
      "\n",
      "Document URL: https://search.proquest.com/docview/2248848807?accountid=11752\n",
      "\n",
      "Copyright: Copyright New York Times Company Jun 29, 2019\n",
      "\n",
      "Last updated: 2019-06-29\n",
      "\n",
      "Database: ProQuest Central\n",
      "\n"
     ]
    }
   ],
   "source": [
    "## extract information about articles \n",
    "\n",
    "\n",
    "## locators \n",
    "start_where = '___\\n'\n",
    "title_where = '\\nAuthor:'\n",
    "author_where = '\\nPublication'\n",
    "text_where ='\\nFull text:'\n",
    "subject_where ='\\nSubject:'\n",
    "location_where = '\\nLocation:'\n",
    "people_where = '\\nPeople:'\n",
    "\n",
    "# document_type_where\n",
    "\n",
    "\n",
    "author_lst = []\n",
    "title_lst = []\n",
    "\n",
    "for article in articles[3:6]:\n",
    "    # full text \n",
    "    text = article.split(text_where)[1].split(subject_where)[0]\n",
    "    # location \n",
    "    location =article.split(location_where)[1].split(people_where)[0]\n",
    "    \n",
    "    if title_where in article:\n",
    "        ## info about the article\n",
    "        if len(article.split(author_where))>=2: \n",
    "            if len(article.split(author_where)[0].split(title_where)) >=2:\n",
    "                author = article.split(author_where)[0].split(title_where)[1]\n",
    "            else:\n",
    "                author=''\n",
    "                title=''\n",
    "            if len(article.split(title_where)[0])>=2:\n",
    "                title = article.split(title_where)[0]\n",
    "            else:\n",
    "                title=''\n",
    "    else:\n",
    "        author = ''\n",
    "        title=article.split(author_where)[0]\n",
    "    \n",
    "    title = title[title.find('_\\n')+2:]  # regular expression\n",
    "\n",
    "    author_lst.append(author)\n",
    "    title_lst.append(title)\n",
    "\n",
    "    ## print\n",
    "    #print('author:'+ author)\n",
    "    #print('title:'+ title)\n",
    "    #print('full text:'+text)\n",
    "    print('location:'+location)"
   ]
  },
  {
   "cell_type": "code",
   "execution_count": 9,
   "metadata": {
    "code_folding": [
     0
    ]
   },
   "outputs": [],
   "source": [
    "# tokenize the raw texts\n",
    "tokenizer = nltk.RegexpTokenizer(r'\\w+')  # ignore putuations \n",
    "toks = tokenizer.tokenize(raw_txt)\n",
    "# convert to lower case\n",
    "toks = [w.lower() for w in toks]\n",
    "\n",
    "## clean tokens\n",
    "\n",
    "### remove stop words\n",
    "stop_words = set(stopwords.words('english'))\n",
    "toks = [w for w in toks if not w in stop_words]\n",
    "toks.sort()\n",
    "\n",
    "### lemmatizing\n",
    "\n",
    "lemmatizer = WordNetLemmatizer()\n",
    "toks = [lemmatizer.lemmatize(w) for w in toks]\n",
    "\n",
    "### exclude numbers\n",
    "\n",
    "#toks = [w for w in toks if not r'[0-9]*']\n",
    "\n",
    "### exclude news paper information\n",
    "\n",
    "source_inf = ['publication','proquest','copyright']\n",
    "toks = [w for w in toks if not w in source_inf]"
   ]
  },
  {
   "cell_type": "code",
   "execution_count": 10,
   "metadata": {},
   "outputs": [
    {
     "name": "stdout",
     "output_type": "stream",
     "text": [
      "Number of unique tokens is 22479\n"
     ]
    }
   ],
   "source": [
    "# count frequency \n",
    "freq = nltk.FreqDist(toks)\n",
    "print('Number of unique tokens is '+str(len(freq)))"
   ]
  },
  {
   "cell_type": "code",
   "execution_count": 11,
   "metadata": {},
   "outputs": [
    {
     "data": {
      "text/plain": [
       "[('amp', 8003),\n",
       " ('new', 7089),\n",
       " ('york', 6193),\n",
       " ('time', 4407),\n",
       " ('mr', 4089),\n",
       " ('said', 3731),\n",
       " ('state', 3390),\n",
       " ('year', 3340),\n",
       " ('percent', 2959),\n",
       " ('united', 2933),\n",
       " ('company', 2697),\n",
       " ('n', 2556),\n",
       " ('rate', 2454),\n",
       " ('trump', 2328),\n",
       " ('2018', 2155),\n",
       " ('economy', 2039),\n",
       " ('info', 2001),\n",
       " ('economic', 1981),\n",
       " ('http', 1899),\n",
       " ('market', 1877),\n",
       " ('would', 1843),\n",
       " ('fed', 1789),\n",
       " ('interest', 1674),\n",
       " ('2019', 1638),\n",
       " ('1', 1580),\n",
       " ('last', 1572),\n",
       " ('document', 1528),\n",
       " ('title', 1510),\n",
       " ('country', 1499),\n",
       " ('president', 1488),\n",
       " ('com', 1479),\n",
       " ('name', 1445),\n",
       " ('growth', 1418),\n",
       " ('people', 1380),\n",
       " ('naics', 1377),\n",
       " ('american', 1366),\n",
       " ('china', 1327),\n",
       " ('price', 1307),\n",
       " ('trade', 1299),\n",
       " ('one', 1251),\n",
       " ('inflation', 1234),\n",
       " ('2', 1221),\n",
       " ('stock', 1217),\n",
       " ('could', 1206),\n",
       " ('late', 1180),\n",
       " ('bank', 1177),\n",
       " ('u', 1174),\n",
       " ('central', 1156),\n",
       " ('government', 1131),\n",
       " ('business', 1119),\n",
       " ('tax', 1093),\n",
       " ('east', 1082),\n",
       " ('policy', 1066),\n",
       " ('subject', 1051),\n",
       " ('type', 1044),\n",
       " ('search', 1042),\n",
       " ('date', 1026),\n",
       " ('also', 1025),\n",
       " ('coast', 1022),\n",
       " ('like', 1008),\n",
       " ('edition', 1005),\n",
       " ('11752', 1000),\n",
       " ('docview', 1000),\n",
       " ('issn', 1000),\n",
       " ('proq', 1000),\n",
       " ('rft_id', 1000),\n",
       " ('03624331', 999),\n",
       " ('accountid', 997),\n",
       " ('may', 981),\n",
       " ('tariff', 967),\n",
       " ('financial', 897),\n",
       " ('federal', 891),\n",
       " ('url', 881),\n",
       " ('b', 854),\n",
       " ('even', 843),\n",
       " ('cut', 820),\n",
       " ('many', 813),\n",
       " ('month', 813),\n",
       " ('desk', 795),\n",
       " ('wage', 781),\n",
       " ('job', 761),\n",
       " ('3', 752),\n",
       " ('increase', 751),\n",
       " ('place', 743),\n",
       " ('source', 738),\n",
       " ('official', 730),\n",
       " ('news', 720),\n",
       " ('much', 719),\n",
       " ('since', 711),\n",
       " ('economist', 709),\n",
       " ('issue', 706),\n",
       " ('worker', 706),\n",
       " ('two', 699),\n",
       " ('make', 675),\n",
       " ('investor', 674),\n",
       " ('world', 658),\n",
       " ('good', 650),\n",
       " ('photograph', 648),\n",
       " ('general', 646),\n",
       " ('2c', 634)]"
      ]
     },
     "execution_count": 11,
     "metadata": {},
     "output_type": "execute_result"
    }
   ],
   "source": [
    "list(freq.most_common(100))"
   ]
  },
  {
   "cell_type": "code",
   "execution_count": 12,
   "metadata": {
    "collapsed": true
   },
   "outputs": [
    {
     "data": {
      "image/png": "[encoded data removed]",
      "text/plain": [
       "<Figure size 432x288 with 1 Axes>"
      ]
     },
     "metadata": {
      "needs_background": "light"
     },
     "output_type": "display_data"
    }
   ],
   "source": [
    "plt = freq.plot(20)"
   ]
  },
  {
   "cell_type": "code",
   "execution_count": 13,
   "metadata": {},
   "outputs": [],
   "source": [
    "## ngrams \n",
    "toks.sort()\n",
    "#bigram = list(nltk.bigrams(toks))\n",
    "#bigram[-100:-1]"
   ]
  },
  {
   "cell_type": "code",
   "execution_count": 14,
   "metadata": {},
   "outputs": [],
   "source": [
    "# tokenize each articles"
   ]
  },
  {
   "cell_type": "code",
   "execution_count": null,
   "metadata": {},
   "outputs": [],
   "source": []
  }
 ],
 "metadata": {
  "kernelspec": {
   "display_name": "Python 3",
   "language": "python",
   "name": "python3"
  },
  "language_info": {
   "codemirror_mode": {
    "name": "ipython",
    "version": 3
   },
   "file_extension": ".py",
   "mimetype": "text/x-python",
   "name": "python",
   "nbconvert_exporter": "python",
   "pygments_lexer": "ipython3",
   "version": "3.7.3"
  }
 },
 "nbformat": 4,
 "nbformat_minor": 2
}
