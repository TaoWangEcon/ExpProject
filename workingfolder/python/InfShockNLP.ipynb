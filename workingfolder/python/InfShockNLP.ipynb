{
 "cells": [
  {
   "cell_type": "markdown",
   "metadata": {},
   "source": [
    "## News-based Shock to Inflation \n",
    "\n",
    "- The codes in this notebook construct topic-specific shock to inflation based on news articles. \n",
    "- News media: New York Times. (Wall Streat Journal for future) \n",
    "- Currently, the sample period is 2009-2019, and there are,in total, 4670 articles."
   ]
  },
  {
   "cell_type": "code",
   "execution_count": 79,
   "metadata": {},
   "outputs": [],
   "source": [
    "import numpy as np\n",
    "import pandas as pd\n",
    "import nltk  \n",
    "#nltk.download('stopwords')\n",
    "#nltk.download('punkt')\n",
    "#nltk.download('wordnet')\n",
    "\n",
    "from nltk.corpus import stopwords\n",
    "from nltk.stem import WordNetLemmatizer\n",
    "\n",
    "import re\n",
    "\n",
    "from IPython.display import Markdown, display\n",
    "def printmd(string):\n",
    "    display(Markdown(string))\n",
    "    \n",
    "import matplotlib.pyplot as plt\n",
    "%matplotlib inline\n",
    "\n",
    "import math as mt"
   ]
  },
  {
   "cell_type": "markdown",
   "metadata": {},
   "source": [
    "### 1. Data Pre-processing"
   ]
  },
  {
   "cell_type": "code",
   "execution_count": 2,
   "metadata": {},
   "outputs": [],
   "source": [
    "test_txt = open('../TextData/InfNYT1.txt').read()"
   ]
  },
  {
   "cell_type": "code",
   "execution_count": 3,
   "metadata": {
    "code_folding": [
     1
    ]
   },
   "outputs": [
    {
     "name": "stdout",
     "output_type": "stream",
     "text": [
      "../TextData/InfNYT1.txt\n",
      "lenght of the txt is 4655162\n",
      "Total length of the text is 4655162\n"
     ]
    }
   ],
   "source": [
    "raw_txt =''\n",
    "for txt_id in range(1):\n",
    "    myfile = ('../TextData/InfNYT'+str(txt_id+1)+'.txt')\n",
    "    print(myfile)\n",
    "    txt_temp = open(myfile).read()\n",
    "    print('lenght of the txt is '+ str(len(txt_temp)))\n",
    "    raw_txt += txt_temp\n",
    "print('Total length of the text is '+str(len(raw_txt)))"
   ]
  },
  {
   "cell_type": "code",
   "execution_count": 4,
   "metadata": {
    "code_folding": [
     0
    ]
   },
   "outputs": [],
   "source": [
    "## split raw texts into articles \n",
    "divider = '\\n____________________________________________________________\\n'\n",
    "articles = raw_txt.split(divider)"
   ]
  },
  {
   "cell_type": "code",
   "execution_count": 5,
   "metadata": {
    "code_folding": [],
    "scrolled": true
   },
   "outputs": [],
   "source": [
    "#articles[2]"
   ]
  },
  {
   "cell_type": "code",
   "execution_count": 6,
   "metadata": {},
   "outputs": [
    {
     "data": {
      "text/plain": [
       "501"
      ]
     },
     "execution_count": 6,
     "metadata": {},
     "output_type": "execute_result"
    }
   ],
   "source": [
    "len(articles)"
   ]
  },
  {
   "cell_type": "code",
   "execution_count": 7,
   "metadata": {
    "code_folding": [
     0
    ]
   },
   "outputs": [],
   "source": [
    "## create empty dataframe to store articles information\n",
    "index = np.arange(len(articles))\n",
    "columns = ['author',\n",
    "          'text',\n",
    "          'subject',\n",
    "          'location',\n",
    "          'company',\n",
    "          'people',\n",
    "           'organization',\n",
    "          'title',\n",
    "          'doctype',\n",
    "           'date']\n",
    "\n",
    "dt = pd.DataFrame(index=index,columns = columns)"
   ]
  },
  {
   "cell_type": "code",
   "execution_count": 8,
   "metadata": {
    "code_folding": [
     0
    ],
    "scrolled": true
   },
   "outputs": [],
   "source": [
    "## new codes that extract information about each article\n",
    "author_str0 = '\\nAuthor:'\n",
    "author_str1 = '\\nPublication info:'\n",
    "author_str = [author_str0,author_str1]\n",
    "\n",
    "text_str0 = '\\nFull text:'\n",
    "text_str1 = '\\nSubject:'\n",
    "text_str =[text_str0,text_str1]\n",
    "\n",
    "subject_str0 = '\\nSubject:'\n",
    "subject_str1 = '\\nLocation:'\n",
    "subject_str = [subject_str0,subject_str1]\n",
    "\n",
    "location_str0 = '\\nLocation:'\n",
    "location_str1 ='\\nCompany / organization:'\n",
    "location_str = [location_str0,location_str1]\n",
    "\n",
    "organ_str0 = '\\nCompany / organization:'\n",
    "organ_str1 = '\\nURL:'\n",
    "organ_str = [organ_str0,organ_str1]\n",
    "\n",
    "people_str0 = '\\nPeople:'\n",
    "people_str1 = '\\nCompany / organization:'\n",
    "people_str = [people_str0,people_str1]\n",
    "\n",
    "title_str0 = '\\nTitle:'\n",
    "title_str1 = ': \\xa0'\n",
    "title_str = [title_str0,title_str1]\n",
    "\n",
    "doc_type_str0 = '\\nDocument type:'\n",
    "doc_type_str1 = '\\nProQuest document ID:'\n",
    "doc_type_str = [doc_type_str0,doc_type_str1]\n",
    "\n",
    "date_str0 = '\\nLast updated:'\n",
    "date_str1 ='\\nDatabase:'\n",
    "date_str = [date_str0,date_str1]\n",
    "\n",
    "str_list = {'author':author_str,\n",
    "           'text':text_str,\n",
    "           'subject':subject_str,\n",
    "           'location':location_str,\n",
    "            'organization':organ_str,\n",
    "           'people':people_str,\n",
    "           'title':title_str,\n",
    "           'doctype':doc_type_str,\n",
    "           'date':date_str}\n",
    "\n",
    "# first, check if all articles contain these strings. \n",
    "\n",
    "#for article in articles:\n",
    "#    for string in str_list:\n",
    "#        i = 0\n",
    "#        if string[0] not in article:\n",
    "#            i+=1\n",
    "#        if i >0:\n",
    "#            print(\"There is \"+str(i)+ ' article, for which there is no such a string' )\n",
    "\n",
    "\n",
    "# second, locate them \n",
    "\n",
    "for i,article in enumerate(articles):\n",
    "    for info,string in str_list.items():\n",
    "        if string[0] in article and string[1] in article:\n",
    "            loc_str = article.find(string[0])\n",
    "            loc_str1= article.find(string[1])\n",
    "            #print(string)\n",
    "            #print(str(loc_str) + ' is where the string starts')\n",
    "            extract = article[loc_str:loc_str1].split(string[0])[1]\n",
    "            extract = extract.strip('\\n')\n",
    "            dt[info][i] = extract  "
   ]
  },
  {
   "cell_type": "code",
   "execution_count": 9,
   "metadata": {},
   "outputs": [
    {
     "data": {
      "text/html": [
       "<div>\n",
       "<style scoped>\n",
       "    .dataframe tbody tr th:only-of-type {\n",
       "        vertical-align: middle;\n",
       "    }\n",
       "\n",
       "    .dataframe tbody tr th {\n",
       "        vertical-align: top;\n",
       "    }\n",
       "\n",
       "    .dataframe thead th {\n",
       "        text-align: right;\n",
       "    }\n",
       "</style>\n",
       "<table border=\"1\" class=\"dataframe\">\n",
       "  <thead>\n",
       "    <tr style=\"text-align: right;\">\n",
       "      <th></th>\n",
       "      <th>author</th>\n",
       "      <th>text</th>\n",
       "      <th>subject</th>\n",
       "      <th>location</th>\n",
       "      <th>company</th>\n",
       "      <th>people</th>\n",
       "      <th>organization</th>\n",
       "      <th>title</th>\n",
       "      <th>doctype</th>\n",
       "      <th>date</th>\n",
       "    </tr>\n",
       "  </thead>\n",
       "  <tbody>\n",
       "    <tr>\n",
       "      <th>496</th>\n",
       "      <td>Goldstein, Dana</td>\n",
       "      <td>DURHAM, N.C. -- The nationwide teacher protes...</td>\n",
       "      <td>Students; Charter schools; Tax cuts; Funding;...</td>\n",
       "      <td>Indiana Louisiana Arkansas Colorado Idaho Nev...</td>\n",
       "      <td>NaN</td>\n",
       "      <td>NaN</td>\n",
       "      <td>Name: National Education Association; NAICS: ...</td>\n",
       "      <td>North Carolina Teachers Join Walkout Movement</td>\n",
       "      <td>News</td>\n",
       "      <td>2018-11-12</td>\n",
       "    </tr>\n",
       "    <tr>\n",
       "      <th>497</th>\n",
       "      <td>NaN</td>\n",
       "      <td>Losses in technology and health-care companie...</td>\n",
       "      <td>Mortgage rates; Interest rates; Stock exchang...</td>\n",
       "      <td>New York United States--US</td>\n",
       "      <td>NaN</td>\n",
       "      <td>NaN</td>\n",
       "      <td>NaN</td>\n",
       "      <td>Losses in Tech and Health Care End The Dow's ...</td>\n",
       "      <td>News</td>\n",
       "      <td>2018-11-12</td>\n",
       "    </tr>\n",
       "    <tr>\n",
       "      <th>498</th>\n",
       "      <td>Phillips, Matt</td>\n",
       "      <td>As a candidate, President Trump said he would...</td>\n",
       "      <td>Central banks; Interest rates; Recessions; Ec...</td>\n",
       "      <td>United States--US San Francisco California\\n\\...</td>\n",
       "      <td>NaN</td>\n",
       "      <td>Trump, Donald J</td>\n",
       "      <td>Name: Thomson Reuters; NAICS: 511110, 511140;...</td>\n",
       "      <td>Bond Market Signals Doubt About Economic Goals</td>\n",
       "      <td>News</td>\n",
       "      <td>2018-11-12</td>\n",
       "    </tr>\n",
       "    <tr>\n",
       "      <th>499</th>\n",
       "      <td>Shiller, Robert J</td>\n",
       "      <td>When the next big recession comes, we'll be m...</td>\n",
       "      <td>Treasuries; Investments; Rating services; Eco...</td>\n",
       "      <td>New York United States--US China</td>\n",
       "      <td>NaN</td>\n",
       "      <td>NaN</td>\n",
       "      <td>Name: New York Times Co; NAICS: 511110, 51112...</td>\n",
       "      <td>Bonds That Ride the Economy's Ups and Downs</td>\n",
       "      <td>News</td>\n",
       "      <td>2018-11-12</td>\n",
       "    </tr>\n",
       "    <tr>\n",
       "      <th>500</th>\n",
       "      <td>NaN</td>\n",
       "      <td>NaN</td>\n",
       "      <td>NaN</td>\n",
       "      <td>NaN</td>\n",
       "      <td>NaN</td>\n",
       "      <td>NaN</td>\n",
       "      <td>NaN</td>\n",
       "      <td>NaN</td>\n",
       "      <td>NaN</td>\n",
       "      <td>NaN</td>\n",
       "    </tr>\n",
       "  </tbody>\n",
       "</table>\n",
       "</div>"
      ],
      "text/plain": [
       "                 author                                               text  \\\n",
       "496     Goldstein, Dana   DURHAM, N.C. -- The nationwide teacher protes...   \n",
       "497                 NaN   Losses in technology and health-care companie...   \n",
       "498      Phillips, Matt   As a candidate, President Trump said he would...   \n",
       "499   Shiller, Robert J   When the next big recession comes, we'll be m...   \n",
       "500                 NaN                                                NaN   \n",
       "\n",
       "                                               subject  \\\n",
       "496   Students; Charter schools; Tax cuts; Funding;...   \n",
       "497   Mortgage rates; Interest rates; Stock exchang...   \n",
       "498   Central banks; Interest rates; Recessions; Ec...   \n",
       "499   Treasuries; Investments; Rating services; Eco...   \n",
       "500                                                NaN   \n",
       "\n",
       "                                              location company  \\\n",
       "496   Indiana Louisiana Arkansas Colorado Idaho Nev...     NaN   \n",
       "497                         New York United States--US     NaN   \n",
       "498   United States--US San Francisco California\\n\\...     NaN   \n",
       "499                   New York United States--US China     NaN   \n",
       "500                                                NaN     NaN   \n",
       "\n",
       "               people                                       organization  \\\n",
       "496               NaN   Name: National Education Association; NAICS: ...   \n",
       "497               NaN                                                NaN   \n",
       "498   Trump, Donald J   Name: Thomson Reuters; NAICS: 511110, 511140;...   \n",
       "499               NaN   Name: New York Times Co; NAICS: 511110, 51112...   \n",
       "500               NaN                                                NaN   \n",
       "\n",
       "                                                 title doctype         date  \n",
       "496      North Carolina Teachers Join Walkout Movement    News   2018-11-12  \n",
       "497   Losses in Tech and Health Care End The Dow's ...    News   2018-11-12  \n",
       "498     Bond Market Signals Doubt About Economic Goals    News   2018-11-12  \n",
       "499        Bonds That Ride the Economy's Ups and Downs    News   2018-11-12  \n",
       "500                                                NaN     NaN          NaN  "
      ]
     },
     "execution_count": 9,
     "metadata": {},
     "output_type": "execute_result"
    }
   ],
   "source": [
    "dt.tail()"
   ]
  },
  {
   "cell_type": "code",
   "execution_count": 17,
   "metadata": {
    "code_folding": [
     0
    ]
   },
   "outputs": [
    {
     "name": "stdout",
     "output_type": "stream",
     "text": [
      "The types of documents include {nan, ' Opinions, Commentary', ' Editorial, Opinions', ' Obituary', ' Corrections/Retraction', ' Commentary', ' Commentary, Opinions', ' Review', ' Opinions, Editorial', ' News', ' Letter To The Editor', ' Editorial'}\n"
     ]
    }
   ],
   "source": [
    "## types of the documents\n",
    "print( \"The types of documents include \"+ str( set( dt['doctype'] ) ) )"
   ]
  },
  {
   "cell_type": "code",
   "execution_count": 21,
   "metadata": {
    "code_folding": [
     0
    ]
   },
   "outputs": [
    {
     "name": "stdout",
     "output_type": "stream",
     "text": [
      "Three are 210 unique authors\n"
     ]
    }
   ],
   "source": [
    "## number of authors\n",
    "print(\"Three are \" + str( len(set(dt['author']) ) ) + \" unique authors\")"
   ]
  },
  {
   "cell_type": "code",
   "execution_count": 111,
   "metadata": {
    "code_folding": [
     0
    ]
   },
   "outputs": [
    {
     "name": "stdout",
     "output_type": "stream",
     "text": [
      "There are 1034 unique subjects\n"
     ]
    }
   ],
   "source": [
    "## subjects \n",
    "subject_lst = []\n",
    "\n",
    "for i in range(len(dt)):\n",
    "    if str(dt['subject'][i]) != 'nan':\n",
    "        subjects = dt['subject'][i].split(';')\n",
    "        subject_lst += subjects\n",
    "    subject_lst = [subject.strip(\"'\") for subject in subject_lst]\n",
    "    subject_set =   set(subject_lst)\n",
    "print(\"There are \" + str( len(subject_set) ) +\" unique subjects\")\n",
    "\n",
    "subject_ct = [subject_lst.count(subject) for subject in subject_set]\n",
    "subject_set_sort = sorted(zip (subject_ct,subject_set), reverse=True )"
   ]
  },
  {
   "cell_type": "code",
   "execution_count": 115,
   "metadata": {},
   "outputs": [
    {
     "data": {
      "text/plain": [
       "[(180, ' Interest rates'),\n",
       " (110, ' Presidents'),\n",
       " (106, ' Economic growth'),\n",
       " (99, ' Economic conditions'),\n",
       " (93, ' Central banks'),\n",
       " (92, ' Investments'),\n",
       " (90, ' Tariffs'),\n",
       " (81, ' Federal Reserve monetary policy'),\n",
       " (79, ' Stock exchanges'),\n",
       " (65, ' Recessions'),\n",
       " (47, ' Unemployment'),\n",
       " (42, ' Tax cuts'),\n",
       " (41, ' Politics'),\n",
       " (40, ' Wages & salaries'),\n",
       " (40, ' Economists'),\n",
       " (39, ' International trade'),\n",
       " (39, ' Economic crisis'),\n",
       " (37, ' Gross Domestic Product--GDP'),\n",
       " (34, ' Securities markets'),\n",
       " (33, ' Employment')]"
      ]
     },
     "execution_count": 115,
     "metadata": {},
     "output_type": "execute_result"
    }
   ],
   "source": [
    "# the most common subjects \n",
    "subject_set_sort[:20]"
   ]
  },
  {
   "cell_type": "markdown",
   "metadata": {},
   "source": [
    "## 2. Tokenizing"
   ]
  },
  {
   "cell_type": "code",
   "execution_count": 11,
   "metadata": {
    "code_folding": [
     0
    ]
   },
   "outputs": [],
   "source": [
    "# tokenize the raw texts\n",
    "tokenizer = nltk.RegexpTokenizer(r'\\w+')  # ignore putuations \n",
    "toks = tokenizer.tokenize(raw_txt)\n",
    "# convert to lower case\n",
    "toks = [w.lower() for w in toks]\n",
    "\n",
    "## clean tokens\n",
    "\n",
    "### remove stop words\n",
    "stop_words = set(stopwords.words('english'))\n",
    "toks = [w for w in toks if not w in stop_words]\n",
    "toks.sort()\n",
    "\n",
    "### lemmatizing\n",
    "\n",
    "lemmatizer = WordNetLemmatizer()\n",
    "toks = [lemmatizer.lemmatize(w) for w in toks]\n",
    "\n",
    "### exclude numbers\n",
    "\n",
    "#toks = [w for w in toks if not r'[0-9]*']\n",
    "\n",
    "### exclude news paper information\n",
    "\n",
    "source_inf = ['publication','proquest','copyright']\n",
    "toks = [w for w in toks if not w in source_inf]"
   ]
  },
  {
   "cell_type": "code",
   "execution_count": 12,
   "metadata": {},
   "outputs": [
    {
     "name": "stdout",
     "output_type": "stream",
     "text": [
      "Number of unique tokens is 22479\n"
     ]
    }
   ],
   "source": [
    "# count frequency \n",
    "freq = nltk.FreqDist(toks)\n",
    "print('Number of unique tokens is '+str(len(freq)))"
   ]
  },
  {
   "cell_type": "code",
   "execution_count": 13,
   "metadata": {},
   "outputs": [
    {
     "data": {
      "text/plain": [
       "[('amp', 8003),\n",
       " ('new', 7089),\n",
       " ('york', 6193),\n",
       " ('time', 4407),\n",
       " ('mr', 4089),\n",
       " ('said', 3731),\n",
       " ('state', 3390),\n",
       " ('year', 3340),\n",
       " ('percent', 2959),\n",
       " ('united', 2933),\n",
       " ('company', 2697),\n",
       " ('n', 2556),\n",
       " ('rate', 2454),\n",
       " ('trump', 2328),\n",
       " ('2018', 2155),\n",
       " ('economy', 2039),\n",
       " ('info', 2001),\n",
       " ('economic', 1981),\n",
       " ('http', 1899),\n",
       " ('market', 1877),\n",
       " ('would', 1843),\n",
       " ('fed', 1789),\n",
       " ('interest', 1674),\n",
       " ('2019', 1638),\n",
       " ('1', 1580),\n",
       " ('last', 1572),\n",
       " ('document', 1528),\n",
       " ('title', 1510),\n",
       " ('country', 1499),\n",
       " ('president', 1488),\n",
       " ('com', 1479),\n",
       " ('name', 1445),\n",
       " ('growth', 1418),\n",
       " ('people', 1380),\n",
       " ('naics', 1377),\n",
       " ('american', 1366),\n",
       " ('china', 1327),\n",
       " ('price', 1307),\n",
       " ('trade', 1299),\n",
       " ('one', 1251),\n",
       " ('inflation', 1234),\n",
       " ('2', 1221),\n",
       " ('stock', 1217),\n",
       " ('could', 1206),\n",
       " ('late', 1180),\n",
       " ('bank', 1177),\n",
       " ('u', 1174),\n",
       " ('central', 1156),\n",
       " ('government', 1131),\n",
       " ('business', 1119),\n",
       " ('tax', 1093),\n",
       " ('east', 1082),\n",
       " ('policy', 1066),\n",
       " ('subject', 1051),\n",
       " ('type', 1044),\n",
       " ('search', 1042),\n",
       " ('date', 1026),\n",
       " ('also', 1025),\n",
       " ('coast', 1022),\n",
       " ('like', 1008),\n",
       " ('edition', 1005),\n",
       " ('11752', 1000),\n",
       " ('docview', 1000),\n",
       " ('issn', 1000),\n",
       " ('proq', 1000),\n",
       " ('rft_id', 1000),\n",
       " ('03624331', 999),\n",
       " ('accountid', 997),\n",
       " ('may', 981),\n",
       " ('tariff', 967),\n",
       " ('financial', 897),\n",
       " ('federal', 891),\n",
       " ('url', 881),\n",
       " ('b', 854),\n",
       " ('even', 843),\n",
       " ('cut', 820),\n",
       " ('many', 813),\n",
       " ('month', 813),\n",
       " ('desk', 795),\n",
       " ('wage', 781),\n",
       " ('job', 761),\n",
       " ('3', 752),\n",
       " ('increase', 751),\n",
       " ('place', 743),\n",
       " ('source', 738),\n",
       " ('official', 730),\n",
       " ('news', 720),\n",
       " ('much', 719),\n",
       " ('since', 711),\n",
       " ('economist', 709),\n",
       " ('issue', 706),\n",
       " ('worker', 706),\n",
       " ('two', 699),\n",
       " ('make', 675),\n",
       " ('investor', 674),\n",
       " ('world', 658),\n",
       " ('good', 650),\n",
       " ('photograph', 648),\n",
       " ('general', 646),\n",
       " ('2c', 634)]"
      ]
     },
     "execution_count": 13,
     "metadata": {},
     "output_type": "execute_result"
    }
   ],
   "source": [
    "list(freq.most_common(100))"
   ]
  },
  {
   "cell_type": "code",
   "execution_count": 14,
   "metadata": {},
   "outputs": [
    {
     "data": {
      "image/png": "[encoded data removed]",
      "text/plain": [
       "<Figure size 432x288 with 1 Axes>"
      ]
     },
     "metadata": {
      "needs_background": "light"
     },
     "output_type": "display_data"
    }
   ],
   "source": [
    "plt = freq.plot(20)"
   ]
  },
  {
   "cell_type": "code",
   "execution_count": 15,
   "metadata": {},
   "outputs": [],
   "source": [
    "## ngrams \n",
    "toks.sort()\n",
    "#bigram = list(nltk.bigrams(toks))\n",
    "#bigram[-100:-1]"
   ]
  },
  {
   "cell_type": "code",
   "execution_count": 16,
   "metadata": {},
   "outputs": [],
   "source": [
    "# tokenize each articles"
   ]
  },
  {
   "cell_type": "code",
   "execution_count": null,
   "metadata": {},
   "outputs": [],
   "source": []
  }
 ],
 "metadata": {
  "kernelspec": {
   "display_name": "Python 3",
   "language": "python",
   "name": "python3"
  },
  "language_info": {
   "codemirror_mode": {
    "name": "ipython",
    "version": 3
   },
   "file_extension": ".py",
   "mimetype": "text/x-python",
   "name": "python",
   "nbconvert_exporter": "python",
   "pygments_lexer": "ipython3",
   "version": "3.7.3"
  }
 },
 "nbformat": 4,
 "nbformat_minor": 2
}
