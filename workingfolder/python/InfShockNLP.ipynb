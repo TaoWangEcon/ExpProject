{
 "cells": [
  {
   "cell_type": "markdown",
   "metadata": {},
   "source": [
    "## News-based Shock to Inflation \n",
    "\n",
    "- The codes in this notebook constructs topic-specific shock to inflation based on news articles. \n",
    "- News media: New York Times. (Wall Streat Journal for future) "
   ]
  },
  {
   "cell_type": "code",
   "execution_count": 52,
   "metadata": {},
   "outputs": [],
   "source": [
    "import numpy as np\n",
    "import pandas as pd\n",
    "import nltk  \n",
    "#nltk.download('punkt')\n",
    "\n",
    "from IPython.display import Markdown, display\n",
    "def printmd(string):\n",
    "    display(Markdown(string))"
   ]
  },
  {
   "cell_type": "markdown",
   "metadata": {},
   "source": [
    "### 1. Data Pro-processing"
   ]
  },
  {
   "cell_type": "code",
   "execution_count": 53,
   "metadata": {},
   "outputs": [],
   "source": [
    "test_txt = open('../TextData/InfNYT1.txt').read()"
   ]
  },
  {
   "cell_type": "code",
   "execution_count": 54,
   "metadata": {},
   "outputs": [
    {
     "name": "stdout",
     "output_type": "stream",
     "text": [
      "../TextData/InfNYT1.txt\n",
      "lenght of the txt is 4655162\n",
      "Total length of the text is 4655162\n"
     ]
    }
   ],
   "source": [
    "raw_txt =''\n",
    "for txt_id in range(1):\n",
    "    myfile = ('../TextData/InfNYT'+str(txt_id+1)+'.txt')\n",
    "    print(myfile)\n",
    "    txt_temp = open(myfile).read()\n",
    "    print('lenght of the txt is '+ str(len(txt_temp)))\n",
    "    raw_txt += txt_temp\n",
    "print('Total length of the text is '+str(len(raw_txt)))"
   ]
  },
  {
   "cell_type": "code",
   "execution_count": 58,
   "metadata": {},
   "outputs": [],
   "source": [
    "# tokenize \n",
    "tokenizer = nltk.RegexpTokenizer(r'\\w+')  # ignore putuations \n",
    "toks = tokenizer.tokenize(raw_txt)\n",
    "\n",
    "## clean tokens"
   ]
  },
  {
   "cell_type": "code",
   "execution_count": 59,
   "metadata": {},
   "outputs": [
    {
     "name": "stdout",
     "output_type": "stream",
     "text": [
      "Number of unique tokens is 30245\n"
     ]
    }
   ],
   "source": [
    "# count frequency \n",
    "freq = nltk.FreqDist(toks)\n",
    "\n",
    "print('Number of unique tokens is '+str(len(freq)))"
   ]
  },
  {
   "cell_type": "code",
   "execution_count": 62,
   "metadata": {},
   "outputs": [
    {
     "data": {
      "text/plain": [
       "[('the', 31897),\n",
       " ('of', 17445),\n",
       " ('to', 16079),\n",
       " ('a', 13550),\n",
       " ('and', 12988),\n",
       " ('in', 12090),\n",
       " ('that', 8033),\n",
       " ('amp', 8003),\n",
       " ('s', 6237),\n",
       " ('New', 6195),\n",
       " ('York', 6020),\n",
       " ('for', 5791),\n",
       " ('is', 5524),\n",
       " ('on', 5040),\n",
       " ('The', 4882),\n",
       " ('Mr', 4064),\n",
       " ('said', 3725),\n",
       " ('as', 3401),\n",
       " ('it', 3393),\n",
       " ('has', 3314),\n",
       " ('Times', 3272),\n",
       " ('have', 3090),\n",
       " ('with', 3078),\n",
       " ('are', 2999),\n",
       " ('at', 2976),\n",
       " ('percent', 2955),\n",
       " ('United', 2919),\n",
       " ('from', 2794),\n",
       " ('States', 2779),\n",
       " ('was', 2755),\n",
       " ('by', 2583),\n",
       " ('N', 2552),\n",
       " ('Y', 2508),\n",
       " ('Publication', 2499),\n",
       " ('an', 2426),\n",
       " ('be', 2420),\n",
       " ('he', 2418),\n",
       " ('year', 2303),\n",
       " ('more', 2281),\n",
       " ('Trump', 2258),\n",
       " ('2018', 2155),\n",
       " ('not', 2126),\n",
       " ('info', 2001),\n",
       " ('its', 1889),\n",
       " ('would', 1830),\n",
       " ('his', 1791),\n",
       " ('economy', 1760),\n",
       " ('Fed', 1737),\n",
       " ('they', 1706),\n",
       " ('A', 1690),\n",
       " ('2019', 1638),\n",
       " ('than', 1614),\n",
       " ('1', 1580),\n",
       " ('will', 1569),\n",
       " ('this', 1563),\n",
       " ('about', 1555),\n",
       " ('But', 1554),\n",
       " ('or', 1541),\n",
       " ('publication', 1504),\n",
       " ('their', 1494),\n",
       " ('com', 1478),\n",
       " ('Company', 1436),\n",
       " ('rates', 1427),\n",
       " ('but', 1416),\n",
       " ('who', 1396),\n",
       " ('economic', 1394),\n",
       " ('which', 1390),\n",
       " ('https', 1388),\n",
       " ('Name', 1379),\n",
       " ('NAICS', 1377),\n",
       " ('been', 1373),\n",
       " ('had', 1345),\n",
       " ('growth', 1330),\n",
       " ('t', 1321),\n",
       " ('China', 1300),\n",
       " ('I', 1262),\n",
       " ('In', 1229),\n",
       " ('2', 1221),\n",
       " ('up', 1201),\n",
       " ('could', 1180),\n",
       " ('were', 1136),\n",
       " ('It', 1093),\n",
       " ('inflation', 1089),\n",
       " ('East', 1075),\n",
       " ('American', 1067),\n",
       " ('trade', 1065),\n",
       " ('search', 1035),\n",
       " ('one', 1026),\n",
       " ('type', 1021),\n",
       " ('date', 1018),\n",
       " ('market', 1014),\n",
       " ('title', 1009),\n",
       " ('Coast', 1007),\n",
       " ('Late', 1004),\n",
       " ('also', 1002),\n",
       " ('Copyright', 1001),\n",
       " ('docview', 1000),\n",
       " ('11752', 1000),\n",
       " ('ProQ', 1000),\n",
       " ('rft_id', 1000)]"
      ]
     },
     "execution_count": 62,
     "metadata": {},
     "output_type": "execute_result"
    }
   ],
   "source": [
    "freq.most_common(100)"
   ]
  },
  {
   "cell_type": "code",
   "execution_count": null,
   "metadata": {},
   "outputs": [],
   "source": []
  }
 ],
 "metadata": {
  "kernelspec": {
   "display_name": "Python 3",
   "language": "python",
   "name": "python3"
  },
  "language_info": {
   "codemirror_mode": {
    "name": "ipython",
    "version": 3
   },
   "file_extension": ".py",
   "mimetype": "text/x-python",
   "name": "python",
   "nbconvert_exporter": "python",
   "pygments_lexer": "ipython3",
   "version": "3.7.3"
  }
 },
 "nbformat": 4,
 "nbformat_minor": 2
}
