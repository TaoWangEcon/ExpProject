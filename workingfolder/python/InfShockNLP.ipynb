{
 "cells": [
  {
   "cell_type": "markdown",
   "metadata": {},
   "source": [
    "## News-based Shock to Inflation \n",
    "\n",
    "- The codes in this notebook construct topic-specific shock to inflation based on news articles. \n",
    "- News media: New York Times. (Wall Streat Journal for future) \n",
    "- Currently, the sample period is 2009-2019, and there are,in total, 4670 articles."
   ]
  },
  {
   "cell_type": "code",
   "execution_count": 1,
   "metadata": {},
   "outputs": [],
   "source": [
    "import numpy as np\n",
    "import pandas as pd\n",
    "import nltk  \n",
    "#nltk.download('stopwords')\n",
    "#nltk.download('punkt')\n",
    "#nltk.download('wordnet')\n",
    "\n",
    "from nltk.corpus import stopwords\n",
    "from nltk.stem import WordNetLemmatizer\n",
    "\n",
    "import re\n",
    "\n",
    "from IPython.display import Markdown, display\n",
    "def printmd(string):\n",
    "    display(Markdown(string))\n",
    "    \n",
    "import matplotlib.pyplot as plt\n",
    "%matplotlib inline\n",
    "\n",
    "import math as mt"
   ]
  },
  {
   "cell_type": "markdown",
   "metadata": {},
   "source": [
    "### 1. Data Pre-processing"
   ]
  },
  {
   "cell_type": "code",
   "execution_count": 2,
   "metadata": {},
   "outputs": [],
   "source": [
    "test_txt = open('../TextData/InfNYT1.txt').read()"
   ]
  },
  {
   "cell_type": "code",
   "execution_count": 3,
   "metadata": {
    "code_folding": []
   },
   "outputs": [
    {
     "name": "stdout",
     "output_type": "stream",
     "text": [
      "Total length of the text is 13774359\n"
     ]
    }
   ],
   "source": [
    "raw_txt =''\n",
    "for txt_id in range(10):\n",
    "    myfile = ('../TextData/InfNYT'+str(txt_id+1)+'.txt')\n",
    "    #print(myfile)\n",
    "    txt_temp = open(myfile).read()\n",
    "    #print('lenght of the txt is '+ str(len(txt_temp)))\n",
    "    raw_txt += txt_temp\n",
    "print('Total length of the text is '+str(len(raw_txt)))"
   ]
  },
  {
   "cell_type": "code",
   "execution_count": 4,
   "metadata": {
    "code_folding": [
     0
    ]
   },
   "outputs": [],
   "source": [
    "## split raw texts into articles \n",
    "divider = '\\n____________________________________________________________\\n'\n",
    "articles = raw_txt.split(divider)"
   ]
  },
  {
   "cell_type": "code",
   "execution_count": 5,
   "metadata": {
    "code_folding": [],
    "scrolled": true
   },
   "outputs": [],
   "source": [
    "#articles[30]"
   ]
  },
  {
   "cell_type": "code",
   "execution_count": 6,
   "metadata": {},
   "outputs": [
    {
     "data": {
      "text/plain": [
       "1501"
      ]
     },
     "execution_count": 6,
     "metadata": {},
     "output_type": "execute_result"
    }
   ],
   "source": [
    "len(articles)"
   ]
  },
  {
   "cell_type": "code",
   "execution_count": 7,
   "metadata": {
    "code_folding": [
     0
    ]
   },
   "outputs": [],
   "source": [
    "## create empty dataframe to store articles information\n",
    "index = np.arange(len(articles))\n",
    "columns = ['author',\n",
    "          'text',\n",
    "          'subject',\n",
    "          'location',\n",
    "          'company',\n",
    "          'people',\n",
    "           'organization',\n",
    "          'title',\n",
    "          'doctype',\n",
    "           'date']\n",
    "\n",
    "dt = pd.DataFrame(index=index,columns = columns)"
   ]
  },
  {
   "cell_type": "code",
   "execution_count": 8,
   "metadata": {
    "code_folding": [
     0
    ],
    "scrolled": true
   },
   "outputs": [],
   "source": [
    "## new codes that extract information about each article\n",
    "author_str0 = '\\nAuthor:'\n",
    "author_str1 = '\\nPublication info:'\n",
    "author_str = [author_str0,author_str1]\n",
    "\n",
    "text_str0 = '\\nFull text:'\n",
    "text_str1 = '\\nSubject:'\n",
    "text_str =[text_str0,text_str1]\n",
    "\n",
    "subject_str0 = '\\nSubject:'\n",
    "subject_str1 = '\\nLocation:'\n",
    "subject_str = [subject_str0,subject_str1]\n",
    "\n",
    "location_str0 = '\\nLocation:'\n",
    "location_str1 = '\\nPeople:'\n",
    "location_str = [location_str0,location_str1]\n",
    "\n",
    "people_str0 = '\\nPeople:'\n",
    "people_str1 = '\\nCompany / organization:'\n",
    "people_str = [people_str0,people_str1]\n",
    "\n",
    "organ_str0 = '\\nCompany / organization:'\n",
    "organ_str1 = '\\nURL:'\n",
    "organ_str = [organ_str0,organ_str1]\n",
    "\n",
    "title_str0 = '\\nTitle:'\n",
    "title_str1 = ': \\xa0'\n",
    "title_str = [title_str0,title_str1]\n",
    "\n",
    "doc_type_str0 = '\\nDocument type:'\n",
    "doc_type_str1 = '\\nProQuest document ID:'\n",
    "doc_type_str = [doc_type_str0,doc_type_str1]\n",
    "\n",
    "date_str0 = '\\nLast updated:'\n",
    "date_str1 ='\\nDatabase:'\n",
    "date_str = [date_str0,date_str1]\n",
    "\n",
    "str_list = {'author':author_str,\n",
    "           'text':text_str,\n",
    "           'subject':subject_str,\n",
    "           'location':location_str,\n",
    "            'organization':organ_str,\n",
    "           'people':people_str,\n",
    "           'title':title_str,\n",
    "           'doctype':doc_type_str,\n",
    "           'date':date_str}\n",
    "\n",
    "# first, check if all articles contain these strings. \n",
    "\n",
    "#for article in articles:\n",
    "#    for string in str_list:\n",
    "#        i = 0\n",
    "#        if string[0] not in article:\n",
    "#            i+=1\n",
    "#        if i >0:\n",
    "#            print(\"There is \"+str(i)+ ' article, for which there is no such a string' )\n",
    "\n",
    "\n",
    "# second, locate them \n",
    "\n",
    "for i,article in enumerate(articles):\n",
    "    for info,string in str_list.items():\n",
    "        if string[0] in article and string[1] in article:\n",
    "            loc_str = article.find(string[0])\n",
    "            loc_str1= article.find(string[1])\n",
    "            #print(string)\n",
    "            #print(str(loc_str) + ' is where the string starts')\n",
    "            extract = article[loc_str:loc_str1].split(string[0])[1]\n",
    "            extract = extract.strip('\\n')\n",
    "            dt[info][i] = extract  "
   ]
  },
  {
   "cell_type": "code",
   "execution_count": 9,
   "metadata": {},
   "outputs": [
    {
     "data": {
      "text/html": [
       "<div>\n",
       "<style scoped>\n",
       "    .dataframe tbody tr th:only-of-type {\n",
       "        vertical-align: middle;\n",
       "    }\n",
       "\n",
       "    .dataframe tbody tr th {\n",
       "        vertical-align: top;\n",
       "    }\n",
       "\n",
       "    .dataframe thead th {\n",
       "        text-align: right;\n",
       "    }\n",
       "</style>\n",
       "<table border=\"1\" class=\"dataframe\">\n",
       "  <thead>\n",
       "    <tr style=\"text-align: right;\">\n",
       "      <th></th>\n",
       "      <th>author</th>\n",
       "      <th>text</th>\n",
       "      <th>subject</th>\n",
       "      <th>location</th>\n",
       "      <th>company</th>\n",
       "      <th>people</th>\n",
       "      <th>organization</th>\n",
       "      <th>title</th>\n",
       "      <th>doctype</th>\n",
       "      <th>date</th>\n",
       "    </tr>\n",
       "  </thead>\n",
       "  <tbody>\n",
       "    <tr>\n",
       "      <th>0</th>\n",
       "      <td>Irwin, Neil</td>\n",
       "      <td>American borrowing costs keep plunging, and t...</td>\n",
       "      <td>Unemployment; Economic conditions; Interest r...</td>\n",
       "      <td>NaN</td>\n",
       "      <td>NaN</td>\n",
       "      <td>NaN</td>\n",
       "      <td>Name: New York Stock Exchange--NYSE; NAICS: 5...</td>\n",
       "      <td>Rates Keep Falling, Befuddling the Experts</td>\n",
       "      <td>News</td>\n",
       "      <td>2019-07-05</td>\n",
       "    </tr>\n",
       "    <tr>\n",
       "      <th>1</th>\n",
       "      <td>NaN</td>\n",
       "      <td>Raise a glass to the longest economic expansi...</td>\n",
       "      <td>Executive compensation; Unemployment; Economi...</td>\n",
       "      <td>United States--US</td>\n",
       "      <td>NaN</td>\n",
       "      <td>NaN</td>\n",
       "      <td>NaN</td>\n",
       "      <td>Two Cheers for a Lackluster Economy</td>\n",
       "      <td>Opinions, Editorial</td>\n",
       "      <td>2019-07-03</td>\n",
       "    </tr>\n",
       "    <tr>\n",
       "      <th>2</th>\n",
       "      <td>Smialek, Jeanna</td>\n",
       "      <td>WASHINGTON -- President Trump, who has spent ...</td>\n",
       "      <td>Nominations; Interest rates; Central banks; F...</td>\n",
       "      <td>United States--US China Japan</td>\n",
       "      <td>NaN</td>\n",
       "      <td>Trump, Donald J Bullard, James Waller, Christ...</td>\n",
       "      <td>Name: Brookings Institution; NAICS: 541711, 5...</td>\n",
       "      <td>Trump Picks Fed Veteran And Fed Critic for Board</td>\n",
       "      <td>News</td>\n",
       "      <td>2019-07-03</td>\n",
       "    </tr>\n",
       "    <tr>\n",
       "      <th>3</th>\n",
       "      <td>Friedman, Thomas L</td>\n",
       "      <td>Near the close of last Wednesday's Democratic...</td>\n",
       "      <td>Life expectancy; Political parties; Geopoliti...</td>\n",
       "      <td>United States--US</td>\n",
       "      <td>NaN</td>\n",
       "      <td>NaN</td>\n",
       "      <td>NaN</td>\n",
       "      <td>The Biggest Threat to America Is Us</td>\n",
       "      <td>Commentary, Opinions</td>\n",
       "      <td>2019-07-03</td>\n",
       "    </tr>\n",
       "    <tr>\n",
       "      <th>4</th>\n",
       "      <td>Sanger, David E</td>\n",
       "      <td>WASHINGTON -- Iran on Monday violated a key p...</td>\n",
       "      <td>Agreements; Violations; Nuclear fuels; Diplom...</td>\n",
       "      <td>Iran United States--US</td>\n",
       "      <td>NaN</td>\n",
       "      <td>Trump, Donald J Pompeo, Mike Zarif, Mohammed ...</td>\n",
       "      <td>Name: Department of Defense; NAICS: 928110; N...</td>\n",
       "      <td>Iran Breaches Nuclear Limit Set in '15 Deal</td>\n",
       "      <td>News</td>\n",
       "      <td>2019-07-02</td>\n",
       "    </tr>\n",
       "  </tbody>\n",
       "</table>\n",
       "</div>"
      ],
      "text/plain": [
       "                author                                               text  \\\n",
       "0          Irwin, Neil   American borrowing costs keep plunging, and t...   \n",
       "1                  NaN   Raise a glass to the longest economic expansi...   \n",
       "2      Smialek, Jeanna   WASHINGTON -- President Trump, who has spent ...   \n",
       "3   Friedman, Thomas L   Near the close of last Wednesday's Democratic...   \n",
       "4      Sanger, David E   WASHINGTON -- Iran on Monday violated a key p...   \n",
       "\n",
       "                                             subject  \\\n",
       "0   Unemployment; Economic conditions; Interest r...   \n",
       "1   Executive compensation; Unemployment; Economi...   \n",
       "2   Nominations; Interest rates; Central banks; F...   \n",
       "3   Life expectancy; Political parties; Geopoliti...   \n",
       "4   Agreements; Violations; Nuclear fuels; Diplom...   \n",
       "\n",
       "                         location company  \\\n",
       "0                             NaN     NaN   \n",
       "1               United States--US     NaN   \n",
       "2   United States--US China Japan     NaN   \n",
       "3               United States--US     NaN   \n",
       "4          Iran United States--US     NaN   \n",
       "\n",
       "                                              people  \\\n",
       "0                                                NaN   \n",
       "1                                                NaN   \n",
       "2   Trump, Donald J Bullard, James Waller, Christ...   \n",
       "3                                                NaN   \n",
       "4   Trump, Donald J Pompeo, Mike Zarif, Mohammed ...   \n",
       "\n",
       "                                        organization  \\\n",
       "0   Name: New York Stock Exchange--NYSE; NAICS: 5...   \n",
       "1                                                NaN   \n",
       "2   Name: Brookings Institution; NAICS: 541711, 5...   \n",
       "3                                                NaN   \n",
       "4   Name: Department of Defense; NAICS: 928110; N...   \n",
       "\n",
       "                                               title                doctype  \\\n",
       "0         Rates Keep Falling, Befuddling the Experts                   News   \n",
       "1                Two Cheers for a Lackluster Economy    Opinions, Editorial   \n",
       "2   Trump Picks Fed Veteran And Fed Critic for Board                   News   \n",
       "3                The Biggest Threat to America Is Us   Commentary, Opinions   \n",
       "4        Iran Breaches Nuclear Limit Set in '15 Deal                   News   \n",
       "\n",
       "          date  \n",
       "0   2019-07-05  \n",
       "1   2019-07-03  \n",
       "2   2019-07-03  \n",
       "3   2019-07-03  \n",
       "4   2019-07-02  "
      ]
     },
     "execution_count": 9,
     "metadata": {},
     "output_type": "execute_result"
    }
   ],
   "source": [
    "dt.head()"
   ]
  },
  {
   "cell_type": "code",
   "execution_count": 10,
   "metadata": {},
   "outputs": [],
   "source": [
    "## dates \n",
    "\n",
    "#dates = pd.to_datetime(dt['date'])\n",
    "#dt['date'] = dates"
   ]
  },
  {
   "cell_type": "code",
   "execution_count": 11,
   "metadata": {
    "code_folding": [
     0
    ]
   },
   "outputs": [
    {
     "name": "stdout",
     "output_type": "stream",
     "text": [
      "The types of documents include {nan, ' Letter To The Editor', ' Commentary, Op-Ed', ' Editorial, Opinions', ' Review', ' Obituary', ' News', ' Corrections/Retraction', ' Question', ' Opinions, Letter To The Editor', ' Commentary, Opinions', ' Op-Ed', ' Opinions, Commentary', ' Obituary (Obit); Biography', ' Commentary', ' Opinions, Editorial', ' Obituary, Obituary (Obit); Biography', ' Editorial'}\n"
     ]
    }
   ],
   "source": [
    "## types of the documents\n",
    "print( \"The types of documents include \"+ str( set( dt['doctype'] ) ) )"
   ]
  },
  {
   "cell_type": "code",
   "execution_count": 12,
   "metadata": {
    "code_folding": []
   },
   "outputs": [
    {
     "name": "stdout",
     "output_type": "stream",
     "text": [
      "Three are 338 unique authors for 1501 articles.\n"
     ]
    }
   ],
   "source": [
    "## number of authors\n",
    "print(\"Three are \" + str( len(set(dt['author']) ) ) + \" unique authors for \" + str(len(articles)) + \" articles.\")"
   ]
  },
  {
   "cell_type": "code",
   "execution_count": 13,
   "metadata": {
    "code_folding": [
     0
    ]
   },
   "outputs": [
    {
     "name": "stdout",
     "output_type": "stream",
     "text": [
      "There are 1441 unique subjects\n"
     ]
    },
    {
     "data": {
      "text/plain": [
       "[(505, ' Interest rates'),\n",
       " (301, ' Economic growth'),\n",
       " (285, ' Investments'),\n",
       " (283, ' Presidents'),\n",
       " (266, ' Economic conditions'),\n",
       " (260, ' Stock exchanges'),\n",
       " (254, ' Central banks'),\n",
       " (203, ' Federal Reserve monetary policy'),\n",
       " (201, ' Tariffs'),\n",
       " (153, ' Recessions'),\n",
       " (145, ' Tax cuts'),\n",
       " (133, ' Unemployment'),\n",
       " (120, ' Politics'),\n",
       " (117, ' Wages & salaries'),\n",
       " (117, ' Economists'),\n",
       " (116, ' Economic crisis'),\n",
       " (114, ' Securities markets'),\n",
       " (98, ' Gross Domestic Product--GDP'),\n",
       " (93, ' International trade'),\n",
       " (92, ' Prices'),\n",
       " (90, ' Employment'),\n",
       " (75, ' Stock prices'),\n",
       " (74, ' Social networks'),\n",
       " (72, ' Inflation'),\n",
       " (68, ' Dow Jones averages'),\n",
       " (67, ' Labor market'),\n",
       " (62, ' Tax rates'),\n",
       " (61, ' Budget deficits'),\n",
       " (59, ' Economic policy'),\n",
       " (58, ' Editorials')]"
      ]
     },
     "execution_count": 13,
     "metadata": {},
     "output_type": "execute_result"
    }
   ],
   "source": [
    "## subjects \n",
    "subject_lst = []\n",
    "\n",
    "for i in range(len(dt)):\n",
    "    if str(dt['subject'][i]) != 'nan':\n",
    "        subjects = dt['subject'][i].split(';')\n",
    "        subject_lst += subjects\n",
    "    subject_lst = [subject.strip(\"'\") for subject in subject_lst]\n",
    "    subject_set =   set(subject_lst)\n",
    "print(\"There are \" + str( len(subject_set) ) +\" unique subjects\")\n",
    "\n",
    "subject_ct = [subject_lst.count(subject) for subject in subject_set]\n",
    "subject_set_sort = sorted(zip (subject_ct,subject_set), reverse=True )\n",
    "\n",
    "# the most common subjects \n",
    "subject_set_sort[:30]"
   ]
  },
  {
   "cell_type": "code",
   "execution_count": 14,
   "metadata": {},
   "outputs": [
    {
     "data": {
      "image/png": "[encoded data removed]",
      "text/plain": [
       "<Figure size 432x288 with 1 Axes>"
      ]
     },
     "metadata": {
      "needs_background": "light"
     },
     "output_type": "display_data"
    }
   ],
   "source": [
    "## most common subjects\n",
    "sub_freq = nltk.FreqDist(subject_lst)\n",
    "list(sub_freq.most_common(10))\n",
    "plt = sub_freq.plot(20)"
   ]
  },
  {
   "cell_type": "code",
   "execution_count": 15,
   "metadata": {
    "code_folding": [
     0
    ]
   },
   "outputs": [
    {
     "name": "stdout",
     "output_type": "stream",
     "text": [
      "There are 311 unique locations\n"
     ]
    },
    {
     "data": {
      "text/plain": [
       "[(353, ' United States--US'),\n",
       " (27, ' United States--US China'),\n",
       " (18, ' Venezuela'),\n",
       " (18, ' China United States--US'),\n",
       " (16, ' New York United States--US'),\n",
       " (9, ' United States--US New York'),\n",
       " (8, ' United States--US New York China'),\n",
       " (8, ' Turkey'),\n",
       " (7, ' United States--US Venezuela'),\n",
       " (5, ' United States--US Europe'),\n",
       " (5, ' China United States--US New York'),\n",
       " (4, ' United States--US Canada North America'),\n",
       " (4, ' Mexico United States--US China'),\n",
       " (4, ' Iran'),\n",
       " (3, ' United States--US Venezuela Latin America Western Hemisphere'),\n",
       " (3, ' United States--US Venezuela Florida South Florida'),\n",
       " (3,\n",
       "  ' United States--US Venezuela Canada Peru Cuba Argentina Brazil Rio de Janeiro Brazil Colombia'),\n",
       " (3, ' United States--US New York Japan'),\n",
       " (3,\n",
       "  ' United States--US New York Canada North America China Los Angeles California'),\n",
       " (3, ' United States--US New York Canada North America China'),\n",
       " (3,\n",
       "  ' United States--US New York Americas Washington DC Pennsylvania Los Angeles California San Francisco California'),\n",
       " (3, ' United States--US Minnesota'),\n",
       " (3, ' United States--US China Europe'),\n",
       " (3, ' United States--US Canada Saudi Arabia Germany China Asia Japan Europe'),\n",
       " (3, ' United States--US Canada'),\n",
       " (3, ' Turkey United States--US Saudi Arabia'),\n",
       " (3, ' Turkey United States--US Istanbul Turkey'),\n",
       " (3,\n",
       "  ' Sudan Darfur Sudan United States--US Horn of Africa Africa Yemen South Sudan'),\n",
       " (3,\n",
       "  ' Spain New York United States--US Germany United Kingdom--UK Hong Kong France Japan Europe South Korea'),\n",
       " (3, ' Silicon Valley-California United States--US Mississippi China Utah')]"
      ]
     },
     "execution_count": 15,
     "metadata": {},
     "output_type": "execute_result"
    }
   ],
   "source": [
    "##location\n",
    "\n",
    "location_lst = []\n",
    "\n",
    "for i in range(len(dt)):\n",
    "    if str(dt['location'][i]) != 'nan':\n",
    "        locations = dt['location'][i].split(';')\n",
    "        location_lst += locations\n",
    "    location_lst = [location.strip(\"'\") for location in location_lst]\n",
    "    location_set =   set(location_lst)\n",
    "print(\"There are \" + str( len(location_set) ) +\" unique locations\")\n",
    "\n",
    "location_ct = [location_lst.count(location) for location in location_set]\n",
    "location_set_sort = sorted(zip (location_ct,location_set), reverse=True )\n",
    "\n",
    "# the most common locations \n",
    "location_set_sort[:30]"
   ]
  },
  {
   "cell_type": "code",
   "execution_count": 16,
   "metadata": {
    "code_folding": [
     0
    ],
    "lines_to_next_cell": 0
   },
   "outputs": [
    {
     "name": "stdout",
     "output_type": "stream",
     "text": [
      "There are 643 unique organizations\n"
     ]
    },
    {
     "data": {
      "image/png": "[encoded data removed]",
      "text/plain": [
       "<Figure size 432x288 with 1 Axes>"
      ]
     },
     "metadata": {
      "needs_background": "light"
     },
     "output_type": "display_data"
    }
   ],
   "source": [
    "##organizations/companies\n",
    "\n",
    "organization_lst = []\n",
    "\n",
    "for i in range(len(dt)):\n",
    "    if str(dt['organization'][i]) != 'nan':\n",
    "        organizations = dt['organization'][i].split(';')\n",
    "        organization_lst += organizations\n",
    "    organization_lst = [organization.strip(\"'\") for organization in organization_lst]\n",
    "    organization_set =   set(organization_lst)\n",
    "print(\"There are \" + str( len(organization_set) ) +\" unique organizations\")\n",
    "\n",
    "#organization_ct = [organization_lst.count(organization) for organization in organization_set]\n",
    "#organization_set_sort = sorted(zip (organization_ct,organization_set), reverse=True )\n",
    "\n",
    "# the most common locations \n",
    "#organization_set_sort[:30]\n",
    "\n",
    "org_freq = nltk.FreqDist(organization_lst)\n",
    "list(org_freq.most_common(10))\n",
    "plt = org_freq.plot(20)"
   ]
  },
  {
   "cell_type": "code",
   "execution_count": 24,
   "metadata": {
    "code_folding": [
     0
    ],
    "lines_to_next_cell": 2
   },
   "outputs": [
    {
     "name": "stdout",
     "output_type": "stream",
     "text": [
      "There are 302 unique authors\n"
     ]
    },
    {
     "data": {
      "image/png": "[encoded data removed]",
      "text/plain": [
       "<Figure size 432x288 with 1 Axes>"
      ]
     },
     "metadata": {
      "needs_background": "light"
     },
     "output_type": "display_data"
    }
   ],
   "source": [
    "## author \n",
    "author_lst = []\n",
    "\n",
    "for i in range(len(dt)):\n",
    "    if str(dt['author'][i]) != 'nan':\n",
    "        authors = dt['author'][i].split(';')\n",
    "        author_lst += authors\n",
    "    author_lst = [author.strip(\"'\") for author in author_lst]\n",
    "    author_set =   set(author_lst)\n",
    "print(\"There are \" + str( len(author_set) ) +\" unique authors\")\n",
    "\n",
    "author_freq = nltk.FreqDist(author_lst)\n",
    "list(author_freq.most_common(10))\n",
    "plt = author_freq.plot(20)"
   ]
  },
  {
   "cell_type": "markdown",
   "metadata": {},
   "source": [
    "## 2. Tokenizing"
   ]
  },
  {
   "cell_type": "code",
   "execution_count": 18,
   "metadata": {
    "code_folding": [
     0
    ]
   },
   "outputs": [],
   "source": [
    "# tokenize the raw texts\n",
    "tokenizer = nltk.RegexpTokenizer(r'\\w+')  # ignore putuations \n",
    "toks = tokenizer.tokenize(raw_txt)\n",
    "# convert to lower case\n",
    "toks = [w.lower() for w in toks]\n",
    "\n",
    "## clean tokens\n",
    "\n",
    "### remove stop words\n",
    "stop_words = set(stopwords.words('english'))\n",
    "toks = [w for w in toks if not w in stop_words]\n",
    "toks.sort()\n",
    "\n",
    "### lemmatizing\n",
    "\n",
    "lemmatizer = WordNetLemmatizer()\n",
    "toks = [lemmatizer.lemmatize(w) for w in toks]\n",
    "\n",
    "### exclude numbers\n",
    "\n",
    "#toks = [w for w in toks if not r'[0-9]*']\n",
    "\n",
    "### exclude news paper information\n",
    "\n",
    "source_inf = ['publication','proquest','copyright']\n",
    "toks = [w for w in toks if not w in source_inf]"
   ]
  },
  {
   "cell_type": "code",
   "execution_count": 19,
   "metadata": {},
   "outputs": [
    {
     "name": "stdout",
     "output_type": "stream",
     "text": [
      "Number of unique tokens is 30414\n"
     ]
    }
   ],
   "source": [
    "# count frequency \n",
    "freq = nltk.FreqDist(toks)\n",
    "print('Number of unique tokens is '+str(len(freq)))"
   ]
  },
  {
   "cell_type": "code",
   "execution_count": 20,
   "metadata": {},
   "outputs": [
    {
     "data": {
      "text/plain": [
       "[('amp', 24013),\n",
       " ('new', 21385),\n",
       " ('york', 18673),\n",
       " ('time', 13297),\n",
       " ('mr', 11046),\n",
       " ('said', 10759),\n",
       " ('year', 10165),\n",
       " ('state', 9561),\n",
       " ('percent', 9121),\n",
       " ('company', 8277),\n",
       " ('united', 8111),\n",
       " ('n', 7654),\n",
       " ('rate', 6798),\n",
       " ('2018', 6219),\n",
       " ('info', 6010),\n",
       " ('market', 5965),\n",
       " ('trump', 5952),\n",
       " ('economy', 5530),\n",
       " ('economic', 5449),\n",
       " ('http', 5435),\n",
       " ('would', 5336),\n",
       " ('1', 5218),\n",
       " ('fed', 4896),\n",
       " ('interest', 4751),\n",
       " ('last', 4653),\n",
       " ('document', 4584),\n",
       " ('title', 4525),\n",
       " ('tax', 4320),\n",
       " ('name', 4280),\n",
       " ('stock', 4197),\n",
       " ('country', 4171),\n",
       " ('com', 4160),\n",
       " ('people', 4155),\n",
       " ('president', 4097),\n",
       " ('growth', 4036),\n",
       " ('naics', 4035),\n",
       " ('2', 3934),\n",
       " ('one', 3874),\n",
       " ('price', 3809),\n",
       " ('inflation', 3581),\n",
       " ('american', 3579),\n",
       " ('late', 3560),\n",
       " ('could', 3367),\n",
       " ('bank', 3354),\n",
       " ('central', 3314),\n",
       " ('u', 3307),\n",
       " ('east', 3229),\n",
       " ('government', 3181),\n",
       " ('subject', 3142),\n",
       " ('search', 3138),\n",
       " ('business', 3133),\n",
       " ('type', 3133),\n",
       " ('also', 3129),\n",
       " ('date', 3085),\n",
       " ('coast', 3081),\n",
       " ('edition', 3019),\n",
       " ('docview', 3000),\n",
       " ('issn', 3000),\n",
       " ('proq', 3000),\n",
       " ('rft_id', 3000),\n",
       " ('11752', 2999),\n",
       " ('03624331', 2996),\n",
       " ('accountid', 2992),\n",
       " ('2019', 2973),\n",
       " ('like', 2946),\n",
       " ('china', 2915),\n",
       " ('trade', 2914),\n",
       " ('policy', 2908),\n",
       " ('financial', 2734),\n",
       " ('b', 2701),\n",
       " ('may', 2675),\n",
       " ('federal', 2617),\n",
       " ('many', 2443),\n",
       " ('job', 2432),\n",
       " ('even', 2424),\n",
       " ('month', 2421),\n",
       " ('3', 2404),\n",
       " ('2017', 2391),\n",
       " ('desk', 2391),\n",
       " ('url', 2352),\n",
       " ('cut', 2296),\n",
       " ('source', 2221),\n",
       " ('place', 2195),\n",
       " ('wage', 2190),\n",
       " ('investor', 2172),\n",
       " ('increase', 2165),\n",
       " ('worker', 2164),\n",
       " ('news', 2141),\n",
       " ('much', 2139),\n",
       " ('since', 2138),\n",
       " ('issue', 2106),\n",
       " ('two', 2051),\n",
       " ('economist', 1968),\n",
       " ('full', 1923),\n",
       " ('10', 1914),\n",
       " ('general', 1908),\n",
       " ('tariff', 1905),\n",
       " ('make', 1887),\n",
       " ('2c', 1878),\n",
       " ('day', 1878)]"
      ]
     },
     "execution_count": 20,
     "metadata": {},
     "output_type": "execute_result"
    }
   ],
   "source": [
    "list(freq.most_common(100))"
   ]
  },
  {
   "cell_type": "code",
   "execution_count": 21,
   "metadata": {},
   "outputs": [
    {
     "data": {
      "image/png": "[encoded data removed]",
      "text/plain": [
       "<Figure size 432x288 with 1 Axes>"
      ]
     },
     "metadata": {
      "needs_background": "light"
     },
     "output_type": "display_data"
    }
   ],
   "source": [
    "plt = freq.plot(20)"
   ]
  },
  {
   "cell_type": "code",
   "execution_count": 22,
   "metadata": {},
   "outputs": [],
   "source": [
    "## ngrams \n",
    "toks.sort()\n",
    "#bigram = list(nltk.bigrams(toks))\n",
    "#bigram[-100:-1]"
   ]
  },
  {
   "cell_type": "code",
   "execution_count": 23,
   "metadata": {
    "lines_to_next_cell": 0
   },
   "outputs": [],
   "source": [
    "# tokenize each articles"
   ]
  }
 ],
 "metadata": {
  "jupytext": {
   "formats": "ipynb,py:light"
  },
  "kernelspec": {
   "display_name": "Python 3",
   "language": "python",
   "name": "python3"
  },
  "language_info": {
   "codemirror_mode": {
    "name": "ipython",
    "version": 3
   },
   "file_extension": ".py",
   "mimetype": "text/x-python",
   "name": "python",
   "nbconvert_exporter": "python",
   "pygments_lexer": "ipython3",
   "version": "3.7.3"
  }
 },
 "nbformat": 4,
 "nbformat_minor": 2
}
