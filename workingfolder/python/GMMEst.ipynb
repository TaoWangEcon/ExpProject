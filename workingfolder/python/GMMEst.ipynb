{
 "cells": [
  {
   "cell_type": "markdown",
   "metadata": {},
   "source": [
    "### GMM Estimation of Model Parameters\n",
    "\n",
    "- This notebook includes functions that estimate the parameter of rigidity for different models\n",
    "- It allows for flexible choices of moments to be used, forecast error, disagreement, and uncertainty, etc. \n",
    "- It includes \n",
    "  - A general function that implements the estimation using the minimum distance algorithm. \n",
    "  - Model-specific functions that take real-time data and process parameters as inputs and produces forecasts as outputs. It is model-specific because different models of expectation formation bring about different forecasts. \n",
    "  - Auxiliary functions that compute the moments as well as the difference of data and model prediction, which will be used as inputs for GMM estimator. "
   ]
  },
  {
   "cell_type": "code",
   "execution_count": null,
   "metadata": {},
   "outputs": [],
   "source": [
    "from scipy.optimize import minimize"
   ]
  },
  {
   "cell_type": "code",
   "execution_count": null,
   "metadata": {
    "code_folding": [
     0
    ]
   },
   "outputs": [],
   "source": [
    "# a estimating function of the parameter\n",
    "def Estimator(moments,method):\n",
    "    \"\"\"\n",
    "    Inputs\n",
    "    ------\n",
    "    - moments: a function of the rigidity model parameter  \n",
    "    - method: method of optimization \n",
    "    \n",
    "    Outputs\n",
    "    -------\n",
    "    - parameter: an array of estimated parameter\n",
    "    \"\"\"\n",
    "    \n",
    "    parameter = minimize(moments,method=method)\n",
    "    return parameter "
   ]
  },
  {
   "cell_type": "code",
   "execution_count": null,
   "metadata": {
    "code_folding": [
     0
    ]
   },
   "outputs": [],
   "source": [
    "# a function that prepares moment conditions\n",
    "def PrepMom(model_moments,data_moments):\n",
    "    \"\"\"\n",
    "    Inputs\n",
    "    -----\n",
    "    model_moments: an array of moments from a certain model, i.e. forecast error, disagreement and uncertainty. \n",
    "    data_moments: an array of moments computed from the survey data\n",
    "    \n",
    "    Outputs\n",
    "    ------\n",
    "    diff: an array of distances of data and model \n",
    "    \n",
    "    \"\"\"\n",
    "    diff = model_moments - data_moments\n",
    "    return diff"
   ]
  },
  {
   "cell_type": "code",
   "execution_count": null,
   "metadata": {
    "code_folding": [
     0
    ]
   },
   "outputs": [],
   "source": [
    "# a function that generates population moments according to FIRE \n",
    "def FIREForecaster(real_time,horizon =10,process_para = process_para):\n",
    "    FIREFE = 0 \n",
    "    FIREDisg = 0\n",
    "    rho = process_para['rho']\n",
    "    sigma = process_para['sigma']\n",
    "    FIREVar = sum([rho**i * sigma**2 for i in range(horizon)])\n",
    "    return {\"FE\":FIREFE,\n",
    "           \"Disg\":FIREDisg,\n",
    "           \"Var\":FIREVar}"
   ]
  },
  {
   "cell_type": "code",
   "execution_count": null,
   "metadata": {
    "code_folding": [
     0
    ]
   },
   "outputs": [],
   "source": [
    "# a function that generates population moments according to SE \n",
    "def SEForecaster(real_time,horizon =10,process_para = process_para,exp_para = exp_para):\n",
    "    rho = process_para['rho']\n",
    "    sigma = process_para['sigma']\n",
    "    lambda = exp_para['lambda']\n",
    "    SEFE = # a function of lambda, real-time and process_para \n",
    "    SEDisg = 0 # same as above\n",
    "    SEVar = # same as above \n",
    "    return {\"FE\":SEFE,\n",
    "           \"Disg\":SEDisg,\n",
    "           \"Var\":SEVar}"
   ]
  },
  {
   "cell_type": "code",
   "execution_count": null,
   "metadata": {
    "code_folding": [
     0
    ]
   },
   "outputs": [],
   "source": [
    "# a function that generates population moments according to NI \n",
    "def NIForecaster(real_time,horizon =10,process_para = process_para,exp_para = exp_para):\n",
    "    rho = process_para['rho']\n",
    "    sigma = process_para['sigma']\n",
    "    sigma_pr = exp_para['sigma_pr']\n",
    "    sigma_pb = exp_para['sigma_pb']\n",
    "    \n",
    "    NIFE = # a function of lambda, real-time and process_para \n",
    "    NIDisg = 0 # same as above\n",
    "    NIVar = # same as above \n",
    "    return {\"FE\":NIFE,\n",
    "           \"Disg\":NIDisg,\n",
    "           \"Var\":NIVar}"
   ]
  }
 ],
 "metadata": {
  "jupytext": {
   "formats": "ipynb,py:light"
  },
  "kernelspec": {
   "display_name": "Python 3",
   "language": "python",
   "name": "python3"
  },
  "language_info": {
   "codemirror_mode": {
    "name": "ipython",
    "version": 3
   },
   "file_extension": ".py",
   "mimetype": "text/x-python",
   "name": "python",
   "nbconvert_exporter": "python",
   "pygments_lexer": "ipython3",
   "version": "3.7.3"
  }
 },
 "nbformat": 4,
 "nbformat_minor": 2
}
