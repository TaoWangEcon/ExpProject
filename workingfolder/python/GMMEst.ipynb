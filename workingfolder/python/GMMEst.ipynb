{
 "cells": [
  {
   "cell_type": "markdown",
   "metadata": {},
   "source": [
    "## GMM Estimation of Model Parameters of Expectation Formation\n",
    "\n",
    "- This notebook includes functions that estimate the parameter of rigidity for different models\n",
    "- It allows for flexible choices of moments to be used, forecast error, disagreement, and uncertainty, etc. \n",
    "- It includes \n",
    "  - A general function that implements the estimation using the minimum distance algorithm. \n",
    "  - Model-specific functions that take real-time data and process parameters as inputs and produces forecasts and moments as outputs. It is model-specific because different models of expectation formation bring about different forecasts. \n",
    "  - Auxiliary functions that compute the moments as well as the difference of data and model prediction, which will be used as inputs for GMM estimator. "
   ]
  },
  {
   "cell_type": "markdown",
   "metadata": {},
   "source": [
    "### 1. Estimation algorithms "
   ]
  },
  {
   "cell_type": "code",
   "execution_count": 52,
   "metadata": {},
   "outputs": [],
   "source": [
    "from scipy.optimize import minimize\n",
    "import numpy as np\n",
    "import matplotlib.pyplot as plt\n",
    "import pandas as pd"
   ]
  },
  {
   "cell_type": "code",
   "execution_count": 53,
   "metadata": {
    "code_folding": [
     0
    ]
   },
   "outputs": [],
   "source": [
    "# a general-purpose estimating function of the parameter\n",
    "def Estimator(obj_func,para_guess,method='CG'):\n",
    "    \"\"\"\n",
    "    Inputs\n",
    "    ------\n",
    "    - moments: a function of the rigidity model parameter  \n",
    "    - method: method of optimization \n",
    "    \n",
    "    Outputs\n",
    "    -------\n",
    "    - parameter: an array of estimated parameter\n",
    "    \"\"\"\n",
    "    \n",
    "    parameter = minimize(obj_func,x0 = para_guess,method=method)['x']\n",
    "    return parameter "
   ]
  },
  {
   "cell_type": "code",
   "execution_count": 54,
   "metadata": {
    "code_folding": [
     0
    ]
   },
   "outputs": [],
   "source": [
    "# a function that prepares moment conditions. So far the loss being simply the norm of the difference\n",
    "def PrepMom(model_moments,data_moments):\n",
    "    \"\"\"\n",
    "    Inputs\n",
    "    -----\n",
    "    model_moments: an array of moments from a certain model, i.e. forecast error, disagreement and uncertainty. \n",
    "    data_moments: an array of moments computed from the survey data\n",
    "    \n",
    "    Outputs\n",
    "    ------\n",
    "    diff: the Euclidean distance of two arrays of data and model \n",
    "    \n",
    "    \"\"\"\n",
    "    diff = np.linalg.norm(model_moments - data_moments)\n",
    "    return diff"
   ]
  },
  {
   "cell_type": "code",
   "execution_count": 55,
   "metadata": {
    "code_folding": [
     0
    ]
   },
   "outputs": [],
   "source": [
    "## auxiliary functions \n",
    "def hstepvar(h,sigma,rho):\n",
    "    return sum([ rho**(2*i)*sigma**2 for i in range(h)] )\n",
    "\n",
    "np.random.seed(12345)\n",
    "def hstepfe(h,sigma,rho):\n",
    "    return sum([rho**i*(np.random.randn(1)*sigma)*np.random.randn(h)[i] for i in range(h)])\n",
    "## This is not correct. \n",
    "\n",
    "\n",
    "def ForecastPlot(test):\n",
    "    x = plt.figure(figsize=([3,13]))\n",
    "    for i,val in enumerate(test):\n",
    "        plt.subplot(4,1,i+1)\n",
    "        plt.plot(test[val],label=val)\n",
    "        plt.legend(loc=1)\n",
    "    return x\n",
    "        \n",
    "def ForecastPlotDiag(test,data):\n",
    "    x = plt.figure(figsize=([3,13]))\n",
    "    for i,val in enumerate(test):\n",
    "        plt.subplot(4,1,i+1)\n",
    "        plt.plot(test[val],label='model:'+ val)\n",
    "        plt.plot(np.array(data[val]),label='data:'+ val)\n",
    "        plt.legend(loc=1)\n",
    "    return x\n",
    "        \n",
    "### AR1 simulator \n",
    "def AR1_simulator(rho,sigma,nobs):\n",
    "    xxx = np.zeros(nobs+1)\n",
    "    shocks = np.random.randn(nobs+1)*sigma\n",
    "    xxx[0] = 0 \n",
    "    for i in range(nobs):\n",
    "        xxx[i+1] = rho*xxx[i] + shocks[i+1]\n",
    "    return xxx[1:]"
   ]
  },
  {
   "cell_type": "code",
   "execution_count": 56,
   "metadata": {
    "code_folding": [
     0
    ]
   },
   "outputs": [],
   "source": [
    "## some process parameters \n",
    "rho = 0.95\n",
    "sigma = 0.1\n",
    "process_para = {'rho':rho,\n",
    "                'sigma':sigma}"
   ]
  },
  {
   "cell_type": "code",
   "execution_count": 57,
   "metadata": {
    "code_folding": [
     0
    ]
   },
   "outputs": [],
   "source": [
    "### create fake real-time data \n",
    "xxx = AR1_simulator(rho,sigma,100)"
   ]
  },
  {
   "cell_type": "code",
   "execution_count": 58,
   "metadata": {
    "code_folding": [
     0,
     8,
     11
    ]
   },
   "outputs": [],
   "source": [
    "## RE class \n",
    "class RationalExpectation:\n",
    "    def __init__(self,real_time,horizon=1,process_para = process_para,exp_para = {},max_back =10):\n",
    "        self.real_time = real_time\n",
    "        self.horizon = horizon\n",
    "        self.process_para = process_para\n",
    "        self.max_back = max_back\n",
    "    \n",
    "    def GetRealization(self,realized_series):\n",
    "        self.realized = realized_series\n",
    "        \n",
    "    def SimulateRealization(self):\n",
    "        n = len(self.real_time)\n",
    "        rho = self.process_para['rho']\n",
    "        sigma =self.process_para['sigma']\n",
    "        shocks = np.random.randn(n)*sigma\n",
    "        realized = np.zeros(n)\n",
    "        for i in range(n):\n",
    "            cum_shock = sum([rho**h*shocks[i+h] for h in range(self.horizon)])\n",
    "            realized[i] = rho**self.horizon*self.real_time[i] + cum_shock\n",
    "        self.realized = realized        \n",
    "        \n",
    "    def REForecaster(self):\n",
    "        ## parameters\n",
    "        n = len(self.real_time)\n",
    "        rho = self.process_para['rho']\n",
    "        sigma =self.process_para['sigma']\n",
    "        \n",
    "        ## parameters\n",
    "        max_back = self.max_back\n",
    "        real_time = self.real_time\n",
    "        horizon = self.horizon\n",
    "        \n",
    "        ## forecast moments \n",
    "        Disg =np.zeros(n)\n",
    "        infoset = real_time\n",
    "        nowcast = infoset\n",
    "        forecast = rho**horizon*nowcast\n",
    "        Var = hstepvar(horizon,sigma,rho)* np.ones(n)\n",
    "        FE = forecast - self.realized ## forecast errors depend on realized shocks \n",
    "        return {\"Forecast\":forecast,\n",
    "                \"FE\":FE,\n",
    "               \"Disg\":Disg,\n",
    "               \"Var\":Var}"
   ]
  },
  {
   "cell_type": "code",
   "execution_count": 59,
   "metadata": {
    "code_folding": [
     0
    ]
   },
   "outputs": [],
   "source": [
    "### create a RE instance \n",
    "FE_instance = RationalExpectation(real_time = xxx)"
   ]
  },
  {
   "cell_type": "code",
   "execution_count": 60,
   "metadata": {
    "code_folding": [
     0
    ]
   },
   "outputs": [],
   "source": [
    "### simulate a realized series \n",
    "FE_instance.SimulateRealization()"
   ]
  },
  {
   "cell_type": "code",
   "execution_count": 61,
   "metadata": {
    "code_folding": [
     0
    ]
   },
   "outputs": [],
   "source": [
    "### forecster\n",
    "fe_moms = FE_instance.REForecaster()\n",
    "#ForecastPlot(fe_moms)"
   ]
  },
  {
   "cell_type": "code",
   "execution_count": 62,
   "metadata": {
    "code_folding": [
     0
    ]
   },
   "outputs": [],
   "source": [
    "## expectation parameters \n",
    "SE_para_default = {'lambda':0.8}"
   ]
  },
  {
   "cell_type": "code",
   "execution_count": 65,
   "metadata": {
    "code_folding": [
     0,
     55
    ]
   },
   "outputs": [],
   "source": [
    "## SE class \n",
    "class StickyExpectation:\n",
    "    def __init__(self,real_time,horizon=1,\n",
    "                 process_para = process_para,\n",
    "                 exp_para = SE_para_default,\n",
    "                 max_back =10):\n",
    "        self.real_time = real_time\n",
    "        self.n = len(real_time)\n",
    "        self.horizon = horizon\n",
    "        self.process_para = process_para\n",
    "        self.exp_para = exp_para\n",
    "        self.max_back = max_back\n",
    "        self.data_moms_dct ={}\n",
    "        self.para_est = {}\n",
    "        self.moments = ['Forecast','Disg','Var']\n",
    "        \n",
    "    def GetRealization(self,realized_series):\n",
    "        self.realized = realized_series   \n",
    "    \n",
    "    def SimulateRealization(self):\n",
    "        n = self.n\n",
    "        rho = self.process_para['rho']\n",
    "        sigma =self.process_para['sigma']\n",
    "        shocks = np.random.randn(n)*sigma\n",
    "        realized = np.zeros(n)\n",
    "        for i in range(n):\n",
    "            cum_shock = sum([rho**h*shocks[i+h] for h in range(self.horizon)])\n",
    "            realized[i] = rho**self.horizon*self.real_time[i] +cum_shock\n",
    "        self.realized = realized\n",
    "        \n",
    "    def SEForecaster(self):\n",
    "        ## inputs \n",
    "        real_time = self.real_time\n",
    "        n = len(real_time)\n",
    "        rho = self.process_para['rho']\n",
    "        sigma =self.process_para['sigma']\n",
    "        lbd = self.exp_para['lambda']\n",
    "        max_back = self.max_back\n",
    "        horizon = self.horizon      \n",
    "        \n",
    "        ## forecast moments \n",
    "        #FE = sum( [lbd*(1-lbd)**tau*hstepfe(horizon+tau,sigma,rho) for tau in range(max_back)] ) * np.ones(n) # a function of lambda, real-time and process_para \n",
    "        Var = sum([ lbd*(1-lbd)**tau*hstepvar(horizon+tau,sigma,rho) for tau in range(max_back)] ) * np.ones(n)  \n",
    "        # same as above \n",
    "        nowcast = sum([ lbd*(1-lbd)**tau*(rho**tau)*np.roll(real_time,tau) for tau in range(max_back)]) \n",
    "        # the first tau needs to be burned\n",
    "        forecast = rho**horizon*nowcast\n",
    "        FE = forecast - self.realized\n",
    "        Disg =  sum([ lbd*(1-lbd)**tau*(rho**(tau+horizon)*np.roll(real_time,tau)-forecast)**2 for tau in range(max_back)] )\n",
    "        return {\"Forecast\":forecast, \n",
    "                \"FE\":FE,\n",
    "                \"Disg\":Disg,\n",
    "                \"Var\":Var}\n",
    "    \n",
    "    ## a function estimating SE model parameter only \n",
    "    def SE_EstObjfunc(self,lbd):\n",
    "        \"\"\"\n",
    "        input\n",
    "        -----\n",
    "        lbd: the parameter of SE model to be estimated\n",
    "        \n",
    "        output\n",
    "        -----\n",
    "        the objective function to minmize\n",
    "        \"\"\"\n",
    "        moments = self.moments\n",
    "        SE_para = {\"lambda\":lbd}\n",
    "        self.exp_para = SE_para  # give the new lambda\n",
    "        data_moms_dct = self.data_moms_dct\n",
    "        \n",
    "        SE_moms_dct = self.SEForecaster()\n",
    "        SE_moms = np.array([SE_moms_dct[key] for key in moments] )\n",
    "        data_moms = np.array([data_moms_dct[key] for key in moments] )\n",
    "        obj_func = PrepMom(SE_moms,data_moms)\n",
    "        return obj_func \n",
    "    \n",
    "    ## feeds the instance with data moments dictionary \n",
    "    def GetDataMoments(self,data_moms_dct):\n",
    "        self.data_moms_dct = data_moms_dct\n",
    "        \n",
    "    ## invoke the estimator \n",
    "    def ParaEstimate(self,para_guess=0.2,method='CG'):\n",
    "        self.para_est = Estimator(self.SE_EstObjfunc,para_guess=para_guess,method='CG')"
   ]
  },
  {
   "cell_type": "code",
   "execution_count": 66,
   "metadata": {
    "code_folding": [
     0
    ]
   },
   "outputs": [],
   "source": [
    "### create a SE instance using fake real time data \n",
    "SE_instance = StickyExpectation(real_time = xxx)"
   ]
  },
  {
   "cell_type": "code",
   "execution_count": 67,
   "metadata": {
    "code_folding": []
   },
   "outputs": [],
   "source": [
    "### simulate a realized series \n",
    "SE_instance.SimulateRealization()"
   ]
  },
  {
   "cell_type": "code",
   "execution_count": 68,
   "metadata": {
    "code_folding": [
     0
    ]
   },
   "outputs": [],
   "source": [
    "### fake data moments \n",
    "data_moms_dct_fake = SE_instance.SEForecaster()"
   ]
  },
  {
   "cell_type": "code",
   "execution_count": 69,
   "metadata": {
    "code_folding": []
   },
   "outputs": [],
   "source": [
    "#plot = ForecastPlot(data_moms_dct_fake)"
   ]
  },
  {
   "cell_type": "code",
   "execution_count": 70,
   "metadata": {
    "code_folding": [
     0
    ]
   },
   "outputs": [],
   "source": [
    "### feed the data moments\n",
    "SE_instance.GetDataMoments(data_moms_dct_fake)"
   ]
  },
  {
   "cell_type": "code",
   "execution_count": 71,
   "metadata": {
    "code_folding": [
     0
    ],
    "lines_to_next_cell": 0
   },
   "outputs": [
    {
     "data": {
      "text/plain": [
       "array([0.69678546])"
      ]
     },
     "execution_count": 71,
     "metadata": {},
     "output_type": "execute_result"
    }
   ],
   "source": [
    "### invokes the estimation \n",
    "SE_instance.ParaEstimate()\n",
    "SE_instance.para_est"
   ]
  },
  {
   "cell_type": "code",
   "execution_count": 72,
   "metadata": {
    "code_folding": []
   },
   "outputs": [],
   "source": [
    "NI_para_default = {'sigma_pb':0.2,\n",
    "                  'sigma_pr':0.1}"
   ]
  },
  {
   "cell_type": "code",
   "execution_count": 86,
   "metadata": {
    "code_folding": [
     0,
     16,
     19,
     30,
     80
    ],
    "lines_to_next_cell": 0
   },
   "outputs": [],
   "source": [
    "## class of Noisy information \n",
    "\n",
    "class NoisyInformation:\n",
    "    def __init__(self,real_time,\n",
    "                 horizon=1,\n",
    "                 process_para = process_para, \n",
    "                 exp_para = NI_para_default):\n",
    "        self.real_time = real_time\n",
    "        self.n = len(real_time)\n",
    "        self.horizon = horizon\n",
    "        self.process_para = process_para\n",
    "        self.exp_para = exp_para\n",
    "        self.data_moms_dct ={}\n",
    "        self.para_est = {}\n",
    "        self.moments = ['Forecast','Disg','Var']\n",
    "        \n",
    "    def GetRealization(self,realized_series):\n",
    "        self.realized = realized_series   \n",
    "    \n",
    "    def SimulateRealization(self):\n",
    "        n = self.n\n",
    "        rho = self.process_para['rho']\n",
    "        sigma =self.process_para['sigma']\n",
    "        shocks = np.random.randn(n)*sigma\n",
    "        realized = np.zeros(n)\n",
    "        for i in range(n):\n",
    "            cum_shock = sum([rho**h*shocks[i+h] for h in range(self.horizon)])\n",
    "            realized[i] = rho**self.horizon*self.real_time[i] + cum_shock\n",
    "        self.realized = realized\n",
    "        \n",
    "    def SimulateSignals(self):\n",
    "        n = self.n\n",
    "        sigma_pb = self.exp_para['sigma_pb']\n",
    "        sigma_pr =self.exp_para['sigma_pr']\n",
    "        s_pb = self.real_time+sigma_pb*np.random.randn(n)\n",
    "        s_pr = self.real_time+sigma_pr*np.random.randn(n)\n",
    "        self.signals = np.asmatrix(np.array([s_pb,s_pr]))\n",
    "        \n",
    "    # a function that generates population moments according to NI     \n",
    "    def NIForecaster(self):\n",
    "        ## inputs \n",
    "        real_time = self.real_time\n",
    "        n = self.n\n",
    "        rho  = self.process_para['rho']\n",
    "        sigma = self.process_para['sigma']\n",
    "        sigma_pb = self.exp_para['sigma_pb']\n",
    "        sigma_pr =self.exp_para['sigma_pr']\n",
    "        sigma_v = np.asmatrix([[sigma_pb**2,0],[0,sigma_pr**2]])\n",
    "        horizon = self.horizon      \n",
    "        s = self.signals\n",
    "        nb_s=len(self.signals) ## # of signals \n",
    "        H = np.asmatrix ([[1,1]]).T\n",
    "        Pkalman = np.zeros([n,nb_s])\n",
    "        nowcast = np.zeros(n)\n",
    "        nowcast[0] = real_time[0]\n",
    "        nowvar = np.zeros(n)\n",
    "        nowvar[0]= sigma**2/(1-rho**2)\n",
    "        Var = np.zeros(n)\n",
    "     \n",
    "        ## forecast moments\n",
    "        infoset = s\n",
    "        \n",
    "        for t in range(n-1):\n",
    "            Pkalman[t+1] = nowcast[t]*H.T*np.linalg.inv(H*nowcast[t]*H.T+sigma_v)\n",
    "            nowcast[t+1] = (1-Pkalman[t+1]*H)*rho*nowcast[t]+ Pkalman[t+1,0]*infoset[0,t+1]\n",
    "            nowvar[t+1] = nowvar[t]-nowvar[t]*H.T*np.linalg.inv(H*nowvar[t]*H.T+sigma_v)*H*nowvar[t]\n",
    "            \n",
    "        forecast = rho**horizon*nowcast    \n",
    "        FE = forecast - self.realized  \n",
    "\n",
    "        for t in range(n):\n",
    "            Var[t] = rho**(2*horizon)*nowvar[t] + hstepvar(horizon,sigma,rho)\n",
    "              \n",
    "        Disg = Pkalman[:,0]**2*rho**(2*horizon)*sigma_pr**2*np.ones(n)  #same as above\n",
    "\n",
    "        return {\"Forecast\":forecast,\n",
    "                \"FE\":FE,\n",
    "                \"Disg\":Disg,\n",
    "                \"Var\":Var}\n",
    "    ## a function estimating SE model parameter only \n",
    "    def NI_EstObjfunc(self,sigmas,moments = ['Forecast','Disg']):\n",
    "        \"\"\"\n",
    "        input\n",
    "        -----\n",
    "        sigma: the parameters of NI model to be estimated. A vector of sigma_pb and sigma_pr\n",
    "        \n",
    "        output\n",
    "        -----\n",
    "        the objective function to minmize\n",
    "        \"\"\"\n",
    "        NI_para = {\"sigma_pb\":sigmas[0],\n",
    "                  \"sigma_pr\":sigmas[1]}\n",
    "        self.exp_para = NI_para  # give the new lambda\n",
    "        data_moms_dct = self.data_moms_dct\n",
    "        \n",
    "        NI_moms_dct = self.NIForecaster()\n",
    "        NI_moms = np.array([NI_moms_dct[key] for key in moments] )\n",
    "        data_moms = np.array([data_moms_dct[key] for key in moments] )\n",
    "        obj_func = PrepMom(NI_moms,data_moms)\n",
    "        return obj_func \n",
    "    \n",
    "    ## feeds the instance with data moments dictionary \n",
    "    def GetDataMoments(self,data_moms_dct):\n",
    "        self.data_moms_dct = data_moms_dct\n",
    "        \n",
    "    ## invoke the estimator \n",
    "    def ParaEstimate(self,para_guess=np.array([0.2,0.2]),method='CG'):\n",
    "        self.para_est = Estimator(self.NI_EstObjfunc,para_guess=para_guess,method='CG')\n",
    "    \n",
    "\n"
   ]
  },
  {
   "cell_type": "code",
   "execution_count": 87,
   "metadata": {
    "lines_to_next_cell": 2
   },
   "outputs": [],
   "source": [
    "ni_instance = NoisyInformation(real_time = xxx)"
   ]
  },
  {
   "cell_type": "code",
   "execution_count": 88,
   "metadata": {},
   "outputs": [],
   "source": [
    "ni_instance.SimulateRealization()\n",
    "ni_instance.SimulateSignals()\n",
    "ni_mom_dct = ni_instance.NIForecaster()"
   ]
  },
  {
   "cell_type": "code",
   "execution_count": 89,
   "metadata": {},
   "outputs": [],
   "source": [
    "#plt.plot(ni_instance.signals.T)\n",
    "#plt.plot(xxx,'r-')"
   ]
  },
  {
   "cell_type": "code",
   "execution_count": 90,
   "metadata": {},
   "outputs": [],
   "source": [
    "#plt.plot(ni_mom_dct['Forecast'],label='forecast')\n",
    "#plt.plot(ni_instance.realized,label='realized')\n",
    "#plt.legend(loc=1)"
   ]
  },
  {
   "cell_type": "code",
   "execution_count": 91,
   "metadata": {},
   "outputs": [
    {
     "data": {
      "image/png": "[encoded data removed]",
      "text/plain": [
       "<Figure size 216x936 with 4 Axes>"
      ]
     },
     "metadata": {
      "needs_background": "light"
     },
     "output_type": "display_data"
    }
   ],
   "source": [
    "#ni_plot = ForecastPlot(ni_mom_dct)"
   ]
  },
  {
   "cell_type": "code",
   "execution_count": 92,
   "metadata": {},
   "outputs": [],
   "source": [
    "fake_data_moms_dct = ni_mom_dct\n",
    "ni_instance.GetDataMoments(fake_data_moms_dct)"
   ]
  },
  {
   "cell_type": "code",
   "execution_count": 93,
   "metadata": {},
   "outputs": [
    {
     "data": {
      "text/plain": [
       "'\\nni_instance.ParaEstimate(para_guess=np.array([0.01,0.01]))\\nparams_est_NI = ni_instance.para_est\\nprint(params_est_NI)\\n'"
      ]
     },
     "execution_count": 93,
     "metadata": {},
     "output_type": "execute_result"
    }
   ],
   "source": [
    "'''\n",
    "ni_instance.ParaEstimate(para_guess=np.array([0.01,0.01]))\n",
    "params_est_NI = ni_instance.para_est\n",
    "print(params_est_NI)\n",
    "'''"
   ]
  },
  {
   "cell_type": "code",
   "execution_count": 36,
   "metadata": {
    "code_folding": []
   },
   "outputs": [
    {
     "data": {
      "text/plain": [
       "'\\n## estimate for many times \\nnb_sim = 100\\nsim_para = np.zeros([1,2])\\n\\nfor i in range(nb_sim):\\n    ni_instance.SimulateRealization()\\n    ni_instance.SimulateSignals()\\n    ni_instance.GetDataMoments(fake_data_moms_dct)\\n    ni_instance.ParaEstimate()\\n    sim_para += ni_instance.para_est\\nest_av = sim_para/nb_sim\\n\\nprint(est_av)\\n'"
      ]
     },
     "execution_count": 36,
     "metadata": {},
     "output_type": "execute_result"
    }
   ],
   "source": [
    "'''\n",
    "## estimate for many times \n",
    "nb_sim = 100\n",
    "sim_para = np.zeros([1,2])\n",
    "\n",
    "for i in range(nb_sim):\n",
    "    ni_instance.SimulateRealization()\n",
    "    ni_instance.SimulateSignals()\n",
    "    ni_instance.GetDataMoments(fake_data_moms_dct)\n",
    "    ni_instance.ParaEstimate()\n",
    "    sim_para += ni_instance.para_est\n",
    "est_av = sim_para/nb_sim\n",
    "\n",
    "print(est_av)\n",
    "'''"
   ]
  }
 ],
 "metadata": {
  "jupytext": {
   "formats": "ipynb,py:light"
  },
  "kernelspec": {
   "display_name": "Python 3",
   "language": "python",
   "name": "python3"
  },
  "language_info": {
   "codemirror_mode": {
    "name": "ipython",
    "version": 3
   },
   "file_extension": ".py",
   "mimetype": "text/x-python",
   "name": "python",
   "nbconvert_exporter": "python",
   "pygments_lexer": "ipython3",
   "version": "3.7.3"
  }
 },
 "nbformat": 4,
 "nbformat_minor": 2
}
