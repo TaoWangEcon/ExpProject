{
 "cells": [
  {
   "cell_type": "markdown",
   "metadata": {},
   "source": [
    "## News-based Shock to Inflation \n",
    "\n",
    "- The codes in this notebook construct topic-specific shock to inflation based on news articles. \n",
    "- News media: New York Times. (Wall Streat Journal for future) \n",
    "- Currently, the sample period is 2009-2019, and there are,in total, 4670 articles."
   ]
  },
  {
   "cell_type": "code",
   "execution_count": 1,
   "metadata": {},
   "outputs": [],
   "source": [
    "import numpy as np\n",
    "import pandas as pd\n",
    "import nltk  \n",
    "#nltk.download('stopwords')\n",
    "#nltk.download('punkt')\n",
    "#nltk.download('wordnet')\n",
    "\n",
    "from nltk.corpus import stopwords\n",
    "from nltk.stem import WordNetLemmatizer\n",
    "\n",
    "import re\n",
    "\n",
    "from IPython.display import Markdown, display\n",
    "def printmd(string):\n",
    "    display(Markdown(string))"
   ]
  },
  {
   "cell_type": "markdown",
   "metadata": {},
   "source": [
    "### 1. Data Pro-processing"
   ]
  },
  {
   "cell_type": "code",
   "execution_count": 2,
   "metadata": {},
   "outputs": [],
   "source": [
    "test_txt = open('../TextData/InfNYT1.txt').read()"
   ]
  },
  {
   "cell_type": "code",
   "execution_count": 3,
   "metadata": {},
   "outputs": [
    {
     "name": "stdout",
     "output_type": "stream",
     "text": [
      "../TextData/InfNYT1.txt\n",
      "lenght of the txt is 4655162\n",
      "../TextData/InfNYT2.txt\n",
      "lenght of the txt is 1885043\n",
      "../TextData/InfNYT3.txt\n",
      "lenght of the txt is 944364\n",
      "../TextData/InfNYT4.txt\n",
      "lenght of the txt is 928643\n",
      "../TextData/InfNYT5.txt\n",
      "lenght of the txt is 902203\n",
      "../TextData/InfNYT6.txt\n",
      "lenght of the txt is 872190\n",
      "../TextData/InfNYT7.txt\n",
      "lenght of the txt is 833867\n",
      "../TextData/InfNYT8.txt\n",
      "lenght of the txt is 931250\n",
      "../TextData/InfNYT9.txt\n",
      "lenght of the txt is 895144\n",
      "../TextData/InfNYT10.txt\n",
      "lenght of the txt is 926493\n",
      "Total length of the text is 13774359\n"
     ]
    }
   ],
   "source": [
    "raw_txt =''\n",
    "for txt_id in range(10):\n",
    "    myfile = ('../TextData/InfNYT'+str(txt_id+1)+'.txt')\n",
    "    print(myfile)\n",
    "    txt_temp = open(myfile).read()\n",
    "    print('lenght of the txt is '+ str(len(txt_temp)))\n",
    "    raw_txt += txt_temp\n",
    "print('Total length of the text is '+str(len(raw_txt)))"
   ]
  },
  {
   "cell_type": "code",
   "execution_count": null,
   "metadata": {},
   "outputs": [],
   "source": [
    "# tokenize \n",
    "tokenizer = nltk.RegexpTokenizer(r'\\w+')  # ignore putuations \n",
    "toks = tokenizer.tokenize(raw_txt)\n",
    "# convert to lower case\n",
    "toks = [w.lower() for w in toks]\n",
    "\n",
    "## clean tokens\n",
    "\n",
    "### remove stop words\n",
    "stop_words = set(stopwords.words('english'))\n",
    "toks = [w for w in toks if not w in stop_words]\n",
    "toks.sort()\n",
    "\n",
    "### lemmatizing\n",
    "\n",
    "lemmatizer = WordNetLemmatizer()\n",
    "toks = [lemmatizer.lemmatize(w) for w in toks]\n",
    "\n",
    "### exclude numbers\n",
    "\n",
    "#toks = [w for w in toks if not r'[0-9]*']\n",
    "\n",
    "### exclude news paper information\n",
    "\n",
    "source_inf = ['publication','proquest','copyright']\n",
    "toks = [w for w in toks if not w in source_inf]\n",
    "\n"
   ]
  },
  {
   "cell_type": "code",
   "execution_count": null,
   "metadata": {},
   "outputs": [],
   "source": [
    "# count frequency \n",
    "freq = nltk.FreqDist(toks)\n",
    "print('Number of unique tokens is '+str(len(freq)))"
   ]
  },
  {
   "cell_type": "code",
   "execution_count": 6,
   "metadata": {},
   "outputs": [
    {
     "data": {
      "text/plain": [
       "[]"
      ]
     },
     "execution_count": 6,
     "metadata": {},
     "output_type": "execute_result"
    }
   ],
   "source": [
    "list(freq.most_common(100))"
   ]
  },
  {
   "cell_type": "code",
   "execution_count": 7,
   "metadata": {},
   "outputs": [
    {
     "data": {
      "text/plain": [
       "<Figure size 640x480 with 1 Axes>"
      ]
     },
     "metadata": {},
     "output_type": "display_data"
    }
   ],
   "source": [
    "plt = freq.plot(20)"
   ]
  },
  {
   "cell_type": "code",
   "execution_count": 8,
   "metadata": {},
   "outputs": [],
   "source": [
    "## ngrams \n",
    "toks.sort()\n",
    "#bigram = list(nltk.bigrams(toks))\n",
    "#bigram[-100:-1]"
   ]
  }
 ],
 "metadata": {
  "kernelspec": {
   "display_name": "Python 3",
   "language": "python",
   "name": "python3"
  },
  "language_info": {
   "codemirror_mode": {
    "name": "ipython",
    "version": 3
   },
   "file_extension": ".py",
   "mimetype": "text/x-python",
   "name": "python",
   "nbconvert_exporter": "python",
   "pygments_lexer": "ipython3",
   "version": "3.7.3"
  }
 },
 "nbformat": 4,
 "nbformat_minor": 2
}
