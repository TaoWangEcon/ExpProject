{
 "cells": [
  {
   "cell_type": "markdown",
   "metadata": {},
   "source": [
    "## GMM Estimation of Model Parameters of Expectation Formation\n",
    "\n",
    "- This notebook includes functions that estimate the parameter of rigidity for different models\n",
    "- It allows for flexible choices of moments to be used, forecast error, disagreement, and uncertainty, etc. \n",
    "- It includes \n",
    "  - A general function that implements the estimation using the minimum distance algorithm. \n",
    "  - Model-specific functions that take real-time data and process parameters as inputs and produces forecasts and moments as outputs. It is model-specific because different models of expectation formation bring about different forecasts. \n",
    "  - Auxiliary functions that compute the moments as well as the difference of data and model prediction, which will be used as inputs for GMM estimator. "
   ]
  },
  {
   "cell_type": "markdown",
   "metadata": {},
   "source": [
    "### 1. Estimation algorithms "
   ]
  },
  {
   "cell_type": "code",
   "execution_count": 1,
   "metadata": {},
   "outputs": [],
   "source": [
    "from scipy.optimize import minimize\n",
    "import numpy as np\n",
    "import matplotlib.pyplot as plt\n",
    "import pandas as pd\n",
    "import statsmodels.api as sm\n",
    "from statsmodels.tsa.api import AR\n",
    "import copy as cp \n",
    "from scipy.stats import bernoulli"
   ]
  },
  {
   "cell_type": "code",
   "execution_count": 2,
   "metadata": {
    "code_folding": [
     0,
     1
    ]
   },
   "outputs": [],
   "source": [
    "# a general-purpose estimating function of the parameter\n",
    "def Estimator(obj_func,\n",
    "              para_guess,\n",
    "              method='CG'):\n",
    "    \"\"\"\n",
    "    Inputs\n",
    "    ------\n",
    "    - moments: a function of the rigidity model parameter  \n",
    "    - method: method of optimization \n",
    "    \n",
    "    Outputs\n",
    "    -------\n",
    "    - parameter: an array of estimated parameter\n",
    "    \"\"\"\n",
    "    \n",
    "    parameter = minimize(obj_func,\n",
    "                         x0 = para_guess,\n",
    "                         method=method,\n",
    "                         options={'disp': True})['x']\n",
    "    return parameter "
   ]
  },
  {
   "cell_type": "code",
   "execution_count": 3,
   "metadata": {
    "code_folding": [
     0,
     1
    ]
   },
   "outputs": [],
   "source": [
    "# a function that prepares moment conditions. So far the loss being simply the norm of the difference\n",
    "def PrepMom(model_moments,\n",
    "            data_moments):\n",
    "    \"\"\"\n",
    "    Inputs\n",
    "    -----\n",
    "    model_moments: an array of moments from a certain model, i.e. forecast error, disagreement and uncertainty. \n",
    "    data_moments: an array of moments computed from the survey data\n",
    "    \n",
    "    Outputs\n",
    "    ------\n",
    "    diff: the Euclidean distance of two arrays of data and model \n",
    "    \n",
    "    \"\"\"\n",
    "    diff = np.linalg.norm(model_moments - data_moments)\n",
    "    return diff"
   ]
  },
  {
   "cell_type": "code",
   "execution_count": 4,
   "metadata": {
    "code_folding": [
     0,
     1,
     5
    ]
   },
   "outputs": [],
   "source": [
    "## auxiliary functions \n",
    "def hstepvar(h,sigma,rho):\n",
    "    return sum([ rho**(2*i)*sigma**2 for i in range(h)] )\n",
    "\n",
    "np.random.seed(12345)\n",
    "def hstepfe(h,sigma,rho):\n",
    "    return sum([rho**i*(np.random.randn(1)*sigma)*np.random.randn(h)[i] for i in range(h)])\n",
    "## This is not correct. \n",
    "\n",
    "\n",
    "def ForecastPlot(test):\n",
    "    x = plt.figure(figsize=([3,13]))\n",
    "    for i,val in enumerate(test):\n",
    "        plt.subplot(4,1,i+1)\n",
    "        plt.plot(test[val],label=val)\n",
    "        plt.legend(loc=1)\n",
    "    return x\n",
    "        \n",
    "def ForecastPlotDiag(test,data):\n",
    "    x = plt.figure(figsize=([3,13]))\n",
    "    for i,val in enumerate(test):\n",
    "        plt.subplot(4,1,i+1)\n",
    "        plt.plot(test[val],label='model:'+ val)\n",
    "        plt.plot(np.array(data[val]),label='data:'+ val)\n",
    "        plt.legend(loc=1)\n",
    "    return x\n",
    "        \n",
    "### AR1 simulator \n",
    "def AR1_simulator(rho,sigma,nobs):\n",
    "    xxx = np.zeros(nobs+1)\n",
    "    shocks = np.random.randn(nobs+1)*sigma\n",
    "    xxx[0] = 0 \n",
    "    for i in range(nobs):\n",
    "        xxx[i+1] = rho*xxx[i] + shocks[i+1]\n",
    "    return xxx[1:]"
   ]
  },
  {
   "cell_type": "code",
   "execution_count": 5,
   "metadata": {
    "code_folding": [
     0
    ]
   },
   "outputs": [],
   "source": [
    "## some process parameters \n",
    "rho = 0.95\n",
    "sigma = 0.1\n",
    "process_para = {'rho':rho,\n",
    "                'sigma':sigma}"
   ]
  },
  {
   "cell_type": "code",
   "execution_count": 6,
   "metadata": {
    "code_folding": [
     0
    ]
   },
   "outputs": [],
   "source": [
    "### create fake real-time data \n",
    "xxx = AR1_simulator(rho,sigma,100)"
   ]
  },
  {
   "cell_type": "code",
   "execution_count": 7,
   "metadata": {
    "code_folding": [
     0,
     2,
     13,
     16,
     27
    ]
   },
   "outputs": [],
   "source": [
    "## Rational Expectation (RE) class \n",
    "class RationalExpectation:\n",
    "    def __init__(self,\n",
    "                 real_time,\n",
    "                 horizon=1,\n",
    "                 process_para = process_para,\n",
    "                 exp_para = {},\n",
    "                 moments=['Forecast','Disg','Var']):\n",
    "        self.real_time = real_time\n",
    "        self.horizon = horizon\n",
    "        self.process_para = process_para\n",
    "        self.moments = moments\n",
    "    \n",
    "    def GetRealization(self,realized_series):\n",
    "        self.realized = realized_series\n",
    "        \n",
    "    def SimulateRealization(self):\n",
    "        n = len(self.real_time)\n",
    "        rho = self.process_para['rho']\n",
    "        sigma =self.process_para['sigma']\n",
    "        shocks = np.random.randn(n)*sigma\n",
    "        realized = np.zeros(n)\n",
    "        for i in range(n):\n",
    "            cum_shock = sum([rho**h*shocks[i+h] for h in range(self.horizon)])\n",
    "            realized[i] = rho**self.horizon*self.real_time[i] + cum_shock\n",
    "        self.realized = realized        \n",
    "        \n",
    "    def Forecaster(self):\n",
    "        ## parameters\n",
    "        n = len(self.real_time)\n",
    "        rho = self.process_para['rho']\n",
    "        sigma =self.process_para['sigma']\n",
    "        \n",
    "        ## parameters\n",
    "        max_back = self.max_back\n",
    "        real_time = self.real_time\n",
    "        horizon = self.horizon\n",
    "        \n",
    "        ## forecast moments \n",
    "        Disg =np.zeros(n)\n",
    "        infoset = real_time\n",
    "        nowcast = infoset\n",
    "        forecast = rho**horizon*nowcast\n",
    "        Var = hstepvar(horizon,sigma,rho)* np.ones(n)\n",
    "        FE = forecast - self.realized ## forecast errors depend on realized shocks \n",
    "        self.forecast_moments = {\"Forecast\":forecast,\n",
    "                                 \"FE\":FE,\n",
    "                                 \"Disg\":Disg,\n",
    "                                 \"Var\":Var}\n",
    "        return self.forecast_moments"
   ]
  },
  {
   "cell_type": "code",
   "execution_count": 8,
   "metadata": {
    "code_folding": []
   },
   "outputs": [],
   "source": [
    "### create a RE instance \n",
    "#FE_instance = RationalExpectation(real_time = xxx)"
   ]
  },
  {
   "cell_type": "code",
   "execution_count": 9,
   "metadata": {
    "code_folding": []
   },
   "outputs": [],
   "source": [
    "### simulate a realized series \n",
    "#FE_instance.SimulateRealization()"
   ]
  },
  {
   "cell_type": "code",
   "execution_count": 10,
   "metadata": {
    "code_folding": []
   },
   "outputs": [],
   "source": [
    "### forecster\n",
    "#fe_moms = FE_instance.Forecaster()\n",
    "#ForecastPlot(fe_moms)"
   ]
  },
  {
   "cell_type": "code",
   "execution_count": 11,
   "metadata": {
    "code_folding": [
     0
    ]
   },
   "outputs": [],
   "source": [
    "## expectation parameters \n",
    "SE_para_default = {'lambda':0.2}"
   ]
  },
  {
   "cell_type": "code",
   "execution_count": 12,
   "metadata": {
    "code_folding": [
     0,
     1,
     2,
     21,
     25,
     36,
     52,
     71,
     76,
     107,
     111,
     134,
     156,
     161,
     168,
     175
    ]
   },
   "outputs": [],
   "source": [
    "## Sticky Expectation(SE) class \n",
    "class StickyExpectation:\n",
    "    def __init__(self,\n",
    "                 real_time,\n",
    "                 history,\n",
    "                 horizon=1,\n",
    "                 process_para = process_para,\n",
    "                 exp_para = SE_para_default,\n",
    "                 max_back =10,\n",
    "                 moments = ['Forecast','Disg','Var']):\n",
    "        self.history = history\n",
    "        self.real_time = real_time\n",
    "        self.n = len(real_time)\n",
    "        self.horizon = horizon\n",
    "        self.process_para = process_para\n",
    "        self.exp_para = exp_para\n",
    "        self.max_back = max_back\n",
    "        self.data_moms_dct ={}\n",
    "        self.para_est = {}\n",
    "        self.moments = moments\n",
    "        \n",
    "    def GetRealization(self,\n",
    "                       realized_series):\n",
    "        self.realized = realized_series   \n",
    "    \n",
    "    def SimulateRealization(self):\n",
    "        n = self.n\n",
    "        rho = self.process_para['rho']\n",
    "        sigma =self.process_para['sigma']\n",
    "        shocks = np.random.randn(n)*sigma\n",
    "        realized = np.zeros(n)\n",
    "        for i in range(n):\n",
    "            cum_shock = sum([rho**h*shocks[i+h] for h in range(self.horizon)])\n",
    "            realized[i] = rho**self.horizon*self.real_time[i] + cum_shock\n",
    "        self.realized = realized\n",
    "        \n",
    "    def Forecaster(self):\n",
    "        ## inputs \n",
    "        real_time = self.real_time\n",
    "        history = self.history\n",
    "        n = len(real_time)\n",
    "        rho = self.process_para['rho']\n",
    "        sigma =self.process_para['sigma']\n",
    "        lbd = self.exp_para['lambda']\n",
    "        max_back = self.max_back\n",
    "        horizon = self.horizon      \n",
    "        n_burn = len(history) - n\n",
    "        n_history = n + n_burn  # of course equal to len(history)\n",
    "        \n",
    "        \n",
    "        ## forecast moments \n",
    "        Var_array = np.empty(n)\n",
    "        for i in range(n):\n",
    "            Var_this_i = sum([lbd*(1-lbd)**tau*hstepvar(tau+horizon,sigma,rho) for tau in range(i + n_burn)])\n",
    "            Var_array[i] = Var_this_i\n",
    "        Var = Var_array\n",
    "        #Var = sum([ lbd*(1-lbd)**tau*hstepvar(horizon+tau,sigma,rho) for tau in range(max_back)] ) * np.ones(n)  \n",
    "        \n",
    "        # average forecast \n",
    "        nowcast_array = np.empty(n)\n",
    "        for i in range(n):\n",
    "            nowcast_this_i = sum([lbd*(1-lbd)**tau*(rho**tau)*history[i+n_burn-tau] for tau in range(i+n_burn)])\n",
    "            nowcast_array[i] = nowcast_this_i\n",
    "        #nowcast= sum([ lbd*(1-lbd)**tau*(rho**tau)*np.roll(real_time,tau) for tau in range(max_back)])\n",
    "        nowcast = nowcast_array\n",
    "        forecast = rho**horizon*nowcast\n",
    "        # forecast errors\n",
    "        FE = forecast - self.realized\n",
    "        \n",
    "        ## diagreement \n",
    "        Disg_array = np.empty(n)\n",
    "        for i in range(n):\n",
    "            Disg_this_i = sum([lbd*(1-lbd)**tau*(rho**(tau+horizon)*history[i+n_burn-tau] - forecast[i])**2 for tau in range(i+n_burn)])\n",
    "            Disg_array[i] = Disg_this_i\n",
    "        Disg = Disg_array\n",
    "        #Disg =  sum([ lbd*(1-lbd)**tau*(rho**(tau+horizon)*np.roll(real_time,tau)-forecast)**2 for tau in range(max_back)] )\n",
    "        self.forecast_moments = {\"Forecast\":forecast, \n",
    "                \"FE\":FE,\n",
    "                \"Disg\":Disg,\n",
    "                \"Var\":Var}\n",
    "        return self.forecast_moments\n",
    "    \n",
    "    def ForecasterbySim(self,\n",
    "                        n_sim = 100):\n",
    "        ## inputs \n",
    "        real_time = self.real_time\n",
    "        history  = self.history \n",
    "        n = len(real_time)\n",
    "        rho = self.process_para['rho']\n",
    "        sigma =self.process_para['sigma']\n",
    "        lbd = self.exp_para['lambda']\n",
    "        max_back = self.max_back\n",
    "        horizon = self.horizon \n",
    "        n_burn = len(history) - n\n",
    "        n_history = n + n_burn  # of course equal to len(history)\n",
    "    \n",
    "        \n",
    "        ## simulation\n",
    "        update_or_not = bernoulli.rvs(p = lbd,\n",
    "                                      size=[n_sim,n_history])\n",
    "        most_recent_when = np.matrix(np.empty([n_sim,n_history]),dtype=int)\n",
    "        nowcasts_to_burn = np.matrix(np.empty([n_sim,n_history]))\n",
    "        Vars_to_burn = np.matrix(np.empty([n_sim,n_history]))\n",
    "        \n",
    "        ## look back for the most recent last update for each point of time  \n",
    "        for i in range(n_sim):\n",
    "            for j in range(n_history):\n",
    "                if any([x for x in range(j) if update_or_not[i,j-x] == True]):\n",
    "                    most_recent_when[i,j] = min([x for x in range(j) if update_or_not[i,j-x] == True])\n",
    "                    nowcasts_to_burn[i,j] = history[j - most_recent_when[i,j]]*rho**most_recent_when[i,j]\n",
    "                    Vars_to_burn[i,j] = hstepvar(most_recent_when[i,j]+horizon,sigma,rho)\n",
    "                else:\n",
    "                    most_recent_when[i,j] = j\n",
    "                    nowcasts_to_burn[i,j] = history[j - most_recent_when[i,j]]*rho**most_recent_when[i,j]\n",
    "                    Vars_to_burn[i,j]= hstepvar((most_recent_when[i,j]+horizon),sigma,rho)\n",
    "        \n",
    "        ## burn initial forecasts since history is too short \n",
    "        nowcasts = np.array( nowcasts_to_burn[:,n_burn:] )\n",
    "        forecasts = rho**horizon*nowcasts\n",
    "        Vars = np.array( Vars_to_burn[:,n_burn:])\n",
    "        \n",
    "        ## compuate population moments\n",
    "        forecasts_mean = np.mean(forecasts,axis=0)\n",
    "        forecasts_var = np.var(forecasts,axis=0)\n",
    "        FEs_mean = forecasts_mean - self.realized\n",
    "        Vars_mean = np.mean(Vars,axis=0) ## need to change \n",
    "        \n",
    "        self.forecast_moments_sim = {\"Forecast\":forecasts_mean, \n",
    "                \"FE\":FEs_mean,\n",
    "                \"Disg\":forecasts_var,\n",
    "                \"Var\":Vars_mean}\n",
    "        return self.forecast_moments_sim\n",
    "\n",
    "    ## a function estimating SE model parameter only \n",
    "    def SE_EstObjfunc(self,lbd):\n",
    "        \"\"\"\n",
    "        input\n",
    "        -----\n",
    "        lbd: the parameter of SE model to be estimated\n",
    "        \n",
    "        output\n",
    "        -----\n",
    "        the objective function to minmize\n",
    "        \"\"\"\n",
    "        moments = self.moments\n",
    "        SE_para = {\"lambda\":lbd}\n",
    "        self.exp_para = SE_para  # give the new lambda\n",
    "        data_moms_dct = self.data_moms_dct\n",
    "        \n",
    "        SE_moms_dct = self.Forecaster()\n",
    "        SE_moms = np.array([SE_moms_dct[key] for key in moments] )\n",
    "        data_moms = np.array([data_moms_dct[key] for key in moments] )\n",
    "        obj_func = PrepMom(SE_moms,data_moms)\n",
    "        return obj_func \n",
    "    \n",
    "    ## feeds the instance with data moments dictionary \n",
    "    def GetDataMoments(self,\n",
    "                       data_moms_dct):\n",
    "        self.data_moms_dct = data_moms_dct\n",
    "        \n",
    "    ## invoke the estimator \n",
    "    def ParaEstimate(self,\n",
    "                     para_guess=0.2,\n",
    "                     method='CG'):\n",
    "        self.para_est = Estimator(self.SE_EstObjfunc,\n",
    "                                  para_guess=para_guess,\n",
    "                                  method='CG')\n",
    "        \n",
    "    def ForecastPlot(self):\n",
    "        x = plt.figure(figsize=([3,13]))\n",
    "        for i,val in enumerate(self.moments):\n",
    "            plt.subplot(4,1,i+1)\n",
    "            plt.plot(self.forecast_moments[val],label=val)\n",
    "            plt.legend(loc=1)\n",
    "            \n",
    "    def ForecastPlotDiag(self):\n",
    "        exp_para_est_dct = {'lambda':self.para_est[0]}\n",
    "        new_instance = cp.deepcopy(self)\n",
    "        new_instance.exp_para = exp_para_est_dct\n",
    "        self.forecast_moments_est = new_instance.Forecaster()\n",
    "        x = plt.figure(figsize=([3,13]))\n",
    "        for i,val in enumerate(self.moments):\n",
    "            plt.subplot(4,1,i+1)\n",
    "            plt.plot(self.forecast_moments_est[val],'r-',label='model:'+ val)\n",
    "            plt.plot(np.array(self.data_moms_dct[val]),'*',label='data:'+ val)\n",
    "            plt.legend(loc=1)"
   ]
  },
  {
   "cell_type": "code",
   "execution_count": 1,
   "metadata": {
    "code_folding": [
     0
    ]
   },
   "outputs": [
    {
     "data": {
      "text/plain": [
       "\"\\n## test of ForecasterbySim\\nxx_history = AR1_simulator(rho,sigma,100)\\nxx_real_time = xx_history[20:]\\n\\n### create a SE instance using fake real time data \\nSE_instance = StickyExpectation(real_time = xx_real_time,\\n                                history = xx_history,\\n                               moments = ['Forecast','FE','Disg'])\\nSE_instance.SimulateRealization()\\n\\n### simulate a realized series \\nmom_dct =  SE_instance.Forecaster()\\nmom_sim_dct = SE_instance.ForecasterbySim(n_sim=100)\\n\\nmom_sim_and_pop = ForecastPlotDiag(mom_dct,mom_sim_dct)\\n\\n\""
      ]
     },
     "execution_count": 1,
     "metadata": {},
     "output_type": "execute_result"
    }
   ],
   "source": [
    "'''\n",
    "## test of ForecasterbySim\n",
    "xx_history = AR1_simulator(rho,sigma,100)\n",
    "xx_real_time = xx_history[20:]\n",
    "\n",
    "### create a SE instance using fake real time data \n",
    "SE_instance = StickyExpectation(real_time = xx_real_time,\n",
    "                                history = xx_history,\n",
    "                               moments = ['Forecast','FE','Disg'])\n",
    "SE_instance.SimulateRealization()\n",
    "\n",
    "### simulate a realized series \n",
    "mom_dct =  SE_instance.Forecaster()\n",
    "mom_sim_dct = SE_instance.ForecasterbySim(n_sim=100)\n",
    "\n",
    "mom_sim_and_pop = ForecastPlotDiag(mom_dct,mom_sim_dct)\n",
    "\n",
    "'''"
   ]
  },
  {
   "cell_type": "code",
   "execution_count": 15,
   "metadata": {
    "code_folding": []
   },
   "outputs": [],
   "source": [
    "### fake data moments \n",
    "data_moms_dct_fake = SE_instance.Forecaster()"
   ]
  },
  {
   "cell_type": "code",
   "execution_count": 16,
   "metadata": {
    "code_folding": []
   },
   "outputs": [],
   "source": [
    "#SE_instance.ForecastPlot()"
   ]
  },
  {
   "cell_type": "code",
   "execution_count": 17,
   "metadata": {
    "code_folding": []
   },
   "outputs": [],
   "source": [
    "### feed the data moments\n",
    "#SE_instance.GetDataMoments(data_moms_dct_fake)"
   ]
  },
  {
   "cell_type": "code",
   "execution_count": 18,
   "metadata": {
    "code_folding": [],
    "lines_to_next_cell": 0
   },
   "outputs": [],
   "source": [
    "### invokes the estimation \n",
    "#SE_instance.ParaEstimate()\n",
    "#SE_instance.para_est"
   ]
  },
  {
   "cell_type": "code",
   "execution_count": 19,
   "metadata": {},
   "outputs": [],
   "source": [
    "#SE_instance.ForecastPlotDiag()"
   ]
  },
  {
   "cell_type": "code",
   "execution_count": 21,
   "metadata": {
    "code_folding": [
     0
    ]
   },
   "outputs": [],
   "source": [
    "NI_para_default = {'sigma_pb':0.2,\n",
    "                  'sigma_pr':0.1,\n",
    "                  'var_init':0.1}"
   ]
  },
  {
   "cell_type": "code",
   "execution_count": 22,
   "metadata": {
    "code_folding": [
     43,
     88
    ],
    "lines_to_next_cell": 0
   },
   "outputs": [],
   "source": [
    "## Noisy Information(NI) class \n",
    "\n",
    "class NoisyInformation:\n",
    "    def __init__(self,\n",
    "                 real_time,\n",
    "                 horizon=1,\n",
    "                 process_para = process_para, \n",
    "                 exp_para = NI_para_default,\n",
    "                 moments = ['Forecast','Disg','Var']):\n",
    "        self.real_time = real_time\n",
    "        self.n = len(real_time)\n",
    "        self.horizon = horizon\n",
    "        self.process_para = process_para\n",
    "        self.exp_para = exp_para\n",
    "        self.data_moms_dct ={}\n",
    "        self.para_est = {}\n",
    "        self.moments = moments\n",
    "    \n",
    "        \n",
    "    def GetRealization(self,\n",
    "                       realized_series):\n",
    "        self.realized = realized_series   \n",
    "    \n",
    "    def SimulateRealization(self):\n",
    "        n = self.n\n",
    "        rho = self.process_para['rho']\n",
    "        sigma =self.process_para['sigma']\n",
    "        shocks = np.random.randn(n)*sigma\n",
    "        realized = np.zeros(n)\n",
    "        for i in range(n):\n",
    "            cum_shock = sum([rho**h*shocks[i+h] for h in range(self.horizon)])\n",
    "            realized[i] = rho**self.horizon*self.real_time[i] + cum_shock\n",
    "        self.realized = realized\n",
    "        \n",
    "    def SimulateSignals(self):\n",
    "        n = self.n\n",
    "        sigma_pb = self.exp_para['sigma_pb']\n",
    "        sigma_pr =self.exp_para['sigma_pr']\n",
    "        s_pb = self.real_time+sigma_pb*np.random.randn(n)\n",
    "        s_pr = self.real_time+sigma_pr*np.random.randn(n)\n",
    "        self.signals = np.asmatrix(np.array([s_pb,s_pr]))\n",
    "        \n",
    "    # a function that generates population moments according to NI     \n",
    "    def Forecaster(self):\n",
    "        ## inputs \n",
    "        real_time = self.real_time\n",
    "        n = self.n\n",
    "        rho  = self.process_para['rho']\n",
    "        sigma = self.process_para['sigma']\n",
    "        sigma_pb = self.exp_para['sigma_pb']\n",
    "        sigma_pr =self.exp_para['sigma_pr']\n",
    "        var_init = self.exp_para['var_init']\n",
    "        sigma_v = np.asmatrix([[sigma_pb**2,0],[0,sigma_pr**2]])\n",
    "        horizon = self.horizon      \n",
    "        s = self.signals\n",
    "        nb_s=len(self.signals) ## # of signals \n",
    "        H = np.asmatrix ([[1,1]]).T\n",
    "        Pkalman = np.zeros([n,nb_s])\n",
    "        nowcast = np.zeros(n)\n",
    "        nowcast[0] = real_time[0]\n",
    "        nowvar = np.zeros(n)\n",
    "        nowvar[0]= var_init\n",
    "        Var = np.zeros(n)\n",
    "     \n",
    "        ## forecast moments\n",
    "        infoset = s\n",
    "        \n",
    "        for t in range(n-1):\n",
    "            Pkalman[t+1] = nowcast[t]*H.T*np.linalg.inv(H*nowcast[t]*H.T+sigma_v)\n",
    "            nowcast[t+1] = (1-Pkalman[t+1]*H)*rho*nowcast[t]+ Pkalman[t+1,0]*infoset[0,t+1]\n",
    "            nowvar[t+1] = nowvar[t]-nowvar[t]*H.T*np.linalg.inv(H*nowvar[t]*H.T+sigma_v)*H*nowvar[t]\n",
    "            \n",
    "        forecast = rho**horizon*nowcast    \n",
    "        FE = forecast - self.realized  \n",
    "\n",
    "        for t in range(n):\n",
    "            Var[t] = rho**(2*horizon)*nowvar[t] + hstepvar(horizon,sigma,rho)\n",
    "              \n",
    "        Disg = Pkalman[:,0]**2*rho**(2*horizon)*sigma_pr**2*np.ones(n)  #same as above\n",
    "\n",
    "        self.forecast_moments = {\"Forecast\":forecast, \n",
    "                \"FE\":FE,\n",
    "                \"Disg\":Disg,\n",
    "                \"Var\":Var}\n",
    "        \n",
    "        return self.forecast_moments\n",
    "    \n",
    "    ## a function estimating SE model parameter only \n",
    "    def NI_EstObjfunc(self,\n",
    "                      ni_paras):\n",
    "        \"\"\"\n",
    "        input\n",
    "        -----\n",
    "        sigma: the parameters of NI model to be estimated. A vector of sigma_pb and sigma_pr\n",
    "        \n",
    "        output\n",
    "        -----\n",
    "        the objective function to minmize\n",
    "        \"\"\"\n",
    "        moments = self.moments\n",
    "        NI_para = {\"sigma_pb\":ni_paras[0],\n",
    "                  \"sigma_pr\":ni_paras[1],\n",
    "                  'var_init':ni_paras[2]}\n",
    "        self.exp_para = NI_para  # give the new lambda\n",
    "        data_moms_dct = self.data_moms_dct\n",
    "        \n",
    "        NI_moms_dct = self.Forecaster()\n",
    "        NI_moms = np.array([NI_moms_dct[key] for key in moments] )\n",
    "        data_moms = np.array([data_moms_dct[key] for key in moments] )\n",
    "        obj_func = PrepMom(NI_moms,data_moms)\n",
    "        return obj_func \n",
    "    \n",
    "    ## feeds the instance with data moments dictionary \n",
    "    def GetDataMoments(self,\n",
    "                       data_moms_dct):\n",
    "        self.data_moms_dct = data_moms_dct\n",
    "        \n",
    "    ## invoke the estimator \n",
    "    def ParaEstimate(self,\n",
    "                     para_guess=np.array([0.2,0.2,0.2]),\n",
    "                     method='CG'):\n",
    "        self.para_est = Estimator(self.NI_EstObjfunc,para_guess=para_guess,method='CG')\n",
    "    \n",
    "    ## plot functions\n",
    "    def ForecastPlot(self):\n",
    "        x = plt.figure(figsize=([3,13]))\n",
    "        for i,val in enumerate(self.moments):\n",
    "            plt.subplot(4,1,i+1)\n",
    "            plt.plot(self.forecast_moments[val],label=val)\n",
    "            plt.legend(loc=1)\n",
    "    \n",
    "    ## diagostic plots \n",
    "    \n",
    "    def ForecastPlotDiag(self):\n",
    "        exp_para_est_dct = {'sigma_pb':self.para_est[0],\n",
    "                           'sigma_pr':self.para_est[1],\n",
    "                           'var_init':self.para_est[2]}\n",
    "        new_instance = cp.deepcopy(self)\n",
    "        new_instance.exp_para = exp_para_est_dct\n",
    "        self.forecast_moments_est = new_instance.Forecaster()\n",
    "        x = plt.figure(figsize=([3,13]))\n",
    "        for i,val in enumerate(self.moments):\n",
    "            plt.subplot(4,1,i+1)\n",
    "            plt.plot(self.forecast_moments_est[val],'r-',label='model:'+ val)\n",
    "            plt.plot(np.array(self.data_moms_dct[val]),'*',label='data:'+ val)\n",
    "            plt.legend(loc=1)"
   ]
  },
  {
   "cell_type": "code",
   "execution_count": 23,
   "metadata": {
    "lines_to_next_cell": 2
   },
   "outputs": [],
   "source": [
    "ni_instance = NoisyInformation(real_time = xxx)"
   ]
  },
  {
   "cell_type": "code",
   "execution_count": 24,
   "metadata": {},
   "outputs": [],
   "source": [
    "ni_instance.SimulateRealization()\n",
    "ni_instance.SimulateSignals()\n",
    "ni_mom_dct = ni_instance.Forecaster().copy()"
   ]
  },
  {
   "cell_type": "code",
   "execution_count": 25,
   "metadata": {},
   "outputs": [],
   "source": [
    "#plt.plot(ni_mom_dct['Forecast'],label='forecast')\n",
    "#plt.plot(ni_instance.realized,label='realized')\n",
    "#plt.legend(loc=1)"
   ]
  },
  {
   "cell_type": "code",
   "execution_count": 26,
   "metadata": {},
   "outputs": [],
   "source": [
    "#ni_plot = ForecastPlot(ni_mom_dct)"
   ]
  },
  {
   "cell_type": "code",
   "execution_count": 27,
   "metadata": {},
   "outputs": [],
   "source": [
    "#fake_data_moms_dct = ni_mom_dct\n",
    "#ni_instance.GetDataMoments(fake_data_moms_dct)"
   ]
  },
  {
   "cell_type": "code",
   "execution_count": 28,
   "metadata": {},
   "outputs": [],
   "source": [
    "#ni_instance.ParaEstimate(para_guess=np.array([0.1,0.1,0.1]))\n",
    "#params_est_NI = ni_instance.para_est\n",
    "#print(params_est_NI)"
   ]
  },
  {
   "cell_type": "code",
   "execution_count": 29,
   "metadata": {},
   "outputs": [],
   "source": [
    "#ni_instance.ForecastPlotDiag()"
   ]
  },
  {
   "cell_type": "code",
   "execution_count": 30,
   "metadata": {
    "code_folding": []
   },
   "outputs": [
    {
     "data": {
      "text/plain": [
       "'\\n## estimate for many times \\nnb_sim = 100\\nsim_para = np.zeros([1,2])\\n\\nfor i in range(nb_sim):\\n    ni_instance.SimulateRealization()\\n    ni_instance.SimulateSignals()\\n    ni_instance.GetDataMoments(fake_data_moms_dct)\\n    ni_instance.ParaEstimate()\\n    sim_para += ni_instance.para_est\\nest_av = sim_para/nb_sim\\n\\nprint(est_av)\\n'"
      ]
     },
     "execution_count": 30,
     "metadata": {},
     "output_type": "execute_result"
    }
   ],
   "source": [
    "'''\n",
    "## estimate for many times \n",
    "nb_sim = 100\n",
    "sim_para = np.zeros([1,2])\n",
    "\n",
    "for i in range(nb_sim):\n",
    "    ni_instance.SimulateRealization()\n",
    "    ni_instance.SimulateSignals()\n",
    "    ni_instance.GetDataMoments(fake_data_moms_dct)\n",
    "    ni_instance.ParaEstimate()\n",
    "    sim_para += ni_instance.para_est\n",
    "est_av = sim_para/nb_sim\n",
    "\n",
    "print(est_av)\n",
    "'''"
   ]
  },
  {
   "cell_type": "code",
   "execution_count": 31,
   "metadata": {},
   "outputs": [],
   "source": [
    "## parameter learning estimator \n",
    "PL_para_default = SE_para_default"
   ]
  },
  {
   "cell_type": "code",
   "execution_count": 32,
   "metadata": {
    "code_folding": [
     0,
     22,
     33,
     55
    ]
   },
   "outputs": [],
   "source": [
    "### Paramter Learning(PL) class \n",
    "\n",
    "class ParameterLearning:\n",
    "    def __init__(self,real_time,\n",
    "                 horizon=1,\n",
    "                 process_para = process_para,\n",
    "                 exp_para = PL_para_default,\n",
    "                 max_back =10,\n",
    "                 moments=['Forecast','Disg','Var']):\n",
    "        self.real_time = real_time\n",
    "        self.n = len(real_time)\n",
    "        self.horizon = horizon\n",
    "        self.process_para = process_para\n",
    "        self.exp_para = exp_para\n",
    "        self.max_back = max_back\n",
    "        self.data_moms_dct ={}\n",
    "        self.para_est = {}\n",
    "        self.moments = moments\n",
    "        \n",
    "    def GetRealization(self,realized_series):\n",
    "        self.realized = realized_series   \n",
    "    \n",
    "    def SimulateRealization(self):\n",
    "        n = self.n\n",
    "        rho = self.process_para['rho']\n",
    "        sigma =self.process_para['sigma']\n",
    "        shocks = np.random.randn(n)*sigma\n",
    "        realized = np.zeros(n)\n",
    "        for i in range(n):\n",
    "            cum_shock = sum([rho**h*shocks[i+h] for h in range(self.horizon)])\n",
    "            realized[i] = rho**self.horizon*self.real_time[i] +cum_shock\n",
    "        self.realized = realized\n",
    "    \n",
    "    def LearningParameters(self):\n",
    "        n = self.n\n",
    "        real_time = self.real_time\n",
    "        rhos = np.zeros(n)\n",
    "        sigmas = np.zeros(n)\n",
    "        \n",
    "        for i in range(n):\n",
    "            ## OLS parameter learning here\n",
    "            if i >=2:\n",
    "                x = real_time[0:i]\n",
    "                model = AR(x)\n",
    "                ar_rs = model.fit(1,trend='nc')\n",
    "                rhos[i] = ar_rs.params[0]\n",
    "                sigmas[i] = np.sqrt(sum(ar_rs.resid**2)/(len(x)-1))\n",
    "            else:\n",
    "                pass \n",
    "        self.rhos = rhos\n",
    "        self.sigmas = sigmas\n",
    "        self.process_para_learned = {'rho':rhos,\n",
    "                                    'sigma':sigmas}\n",
    "    \n",
    "    \n",
    "    def Forecaster(self):\n",
    "        ## parameters\n",
    "        n = len(self.real_time)\n",
    "        rhos = self.process_para_learned['rho']\n",
    "        sigmas =self.process_para_learned['sigma']\n",
    "        \n",
    "        ## parameters\n",
    "        max_back = self.max_back\n",
    "        real_time = self.real_time\n",
    "        horizon = self.horizon\n",
    "        \n",
    "        ## forecast moments \n",
    "        Disg =np.zeros(n)\n",
    "        infoset = real_time\n",
    "        nowcast = infoset\n",
    "        forecast = np.multiply(rhos**horizon,nowcast)\n",
    "        Var = [hstepvar(horizon,sigmas[i],rhos[i]) for i in range(n)] # this does not include var parameter\n",
    "        FE = forecast - self.realized ## forecast errors depend on realized shocks \n",
    "        self.forecast_moments = {\"Forecast\":forecast, \n",
    "                \"FE\":FE,\n",
    "                \"Disg\":Disg,\n",
    "                \"Var\":Var}\n",
    "        return self.forecast_moments\n",
    "    \n",
    "    ## a function estimating SE model parameter only \n",
    "    def PL_EstObjfunc(self,lbd):\n",
    "        \"\"\"\n",
    "        input\n",
    "        -----\n",
    "        lbd: the parameter of PL model to be estimated\n",
    "        \n",
    "        output\n",
    "        -----\n",
    "        the objective function to minmize\n",
    "        \"\"\"\n",
    "        moments = self.moments\n",
    "        PL_para = {\"lambda\":lbd}\n",
    "        self.exp_para = PL_para  # give the new lambda\n",
    "        data_moms_dct = self.data_moms_dct\n",
    "        \n",
    "        PL_moms_dct = self.Forecaster()\n",
    "        PL_moms = np.array([PL_moms_dct[key] for key in moments] )\n",
    "        data_moms = np.array([data_moms_dct[key] for key in moments] )\n",
    "        obj_func = PrepMom(PL_moms,data_moms)\n",
    "        return obj_func \n",
    "    \n",
    "    ## feeds the instance with data moments dictionary \n",
    "    def GetDataMoments(self,data_moms_dct):\n",
    "        self.data_moms_dct = data_moms_dct\n",
    "        \n",
    "    ## invoke the estimator \n",
    "    def ParaEstimate(self,para_guess=0.2,method='CG'):\n",
    "        self.para_est = Estimator(self.PL_EstObjfunc,para_guess=para_guess,method='CG')\n",
    "        \n",
    "        \n",
    "    def ForecastPlot(self):\n",
    "        x = plt.figure(figsize=([3,13]))\n",
    "        for i,val in enumerate(self.moments):\n",
    "            plt.subplot(4,1,i+1)\n",
    "            plt.plot(self.forecast_moments[val],label=val)\n",
    "            plt.legend(loc=1)"
   ]
  },
  {
   "cell_type": "code",
   "execution_count": 276,
   "metadata": {
    "code_folding": []
   },
   "outputs": [],
   "source": [
    "## try parameter learning \n",
    "#pl_instance = ParameterLearning(real_time = xxx)\n",
    "#pl_instance.SimulateRealization()\n",
    "#pl_instance.LearningParameters()\n",
    "#pl_moms_dct = pl_instance.PLForecaster()"
   ]
  },
  {
   "cell_type": "code",
   "execution_count": 277,
   "metadata": {},
   "outputs": [],
   "source": [
    "#pl_instance.ForecastPlot()"
   ]
  }
 ],
 "metadata": {
  "jupytext": {
   "formats": "ipynb,py:light"
  },
  "kernelspec": {
   "display_name": "Python 3",
   "language": "python",
   "name": "python3"
  },
  "language_info": {
   "codemirror_mode": {
    "name": "ipython",
    "version": 3
   },
   "file_extension": ".py",
   "mimetype": "text/x-python",
   "name": "python",
   "nbconvert_exporter": "python",
   "pygments_lexer": "ipython3",
   "version": "3.7.3"
  }
 },
 "nbformat": 4,
 "nbformat_minor": 2
}
