{
 "cells": [
  {
   "cell_type": "markdown",
   "metadata": {},
   "source": [
    "### GMM Estimation of Model Parameters\n",
    "\n",
    "- This notebook includes functions that estimate the parameter of rigidity for different models\n",
    "- It allows for flexible choices of moments to be used, forecast error, disagreement, and uncertainty, etc. \n",
    "- It includes \n",
    "  - A general function that implements the estimation using the minimum distance algorithm. \n",
    "  - Model-specific functions that take real-time data and process parameters as inputs and produces forecasts as outputs. It is model-specific because different models of expectation formation bring about different forecasts. \n",
    "  - Auxiliary functions that compute the moments as well as the difference of data and model prediction, which will be used as inputs for GMM estimator. "
   ]
  },
  {
   "cell_type": "code",
   "execution_count": 1,
   "metadata": {},
   "outputs": [],
   "source": [
    "from scipy.optimize import minimize\n",
    "import numpy as np"
   ]
  },
  {
   "cell_type": "code",
   "execution_count": 2,
   "metadata": {
    "code_folding": [
     0
    ]
   },
   "outputs": [],
   "source": [
    "# a estimating function of the parameter\n",
    "def Estimator(moments,method):\n",
    "    \"\"\"\n",
    "    Inputs\n",
    "    ------\n",
    "    - moments: a function of the rigidity model parameter  \n",
    "    - method: method of optimization \n",
    "    \n",
    "    Outputs\n",
    "    -------\n",
    "    - parameter: an array of estimated parameter\n",
    "    \"\"\"\n",
    "    \n",
    "    parameter = minimize(moments,method=method)\n",
    "    return parameter "
   ]
  },
  {
   "cell_type": "code",
   "execution_count": 3,
   "metadata": {
    "code_folding": [
     0
    ]
   },
   "outputs": [],
   "source": [
    "# a function that prepares moment conditions\n",
    "def PrepMom(model_moments,data_moments):\n",
    "    \"\"\"\n",
    "    Inputs\n",
    "    -----\n",
    "    model_moments: an array of moments from a certain model, i.e. forecast error, disagreement and uncertainty. \n",
    "    data_moments: an array of moments computed from the survey data\n",
    "    \n",
    "    Outputs\n",
    "    ------\n",
    "    diff: an array of distances of data and model \n",
    "    \n",
    "    \"\"\"\n",
    "    diff = model_moments - data_moments\n",
    "    return diff"
   ]
  },
  {
   "cell_type": "code",
   "execution_count": 4,
   "metadata": {
    "code_folding": [
     0
    ]
   },
   "outputs": [],
   "source": [
    "## some parameters \n",
    "rho = 0.95\n",
    "sigma = 0.1\n",
    "process_para = {'rho':rho,\n",
    "                'sigma':sigma}"
   ]
  },
  {
   "cell_type": "code",
   "execution_count": 21,
   "metadata": {
    "code_folding": [
     0
    ]
   },
   "outputs": [],
   "source": [
    "## auxiliary functions \n",
    "def hstepvar(h,sigma,rho):\n",
    "    return sum([ rho**(2*i)*sigma**2 for i in range(h)] )"
   ]
  },
  {
   "cell_type": "code",
   "execution_count": 32,
   "metadata": {
    "code_folding": [
     0
    ]
   },
   "outputs": [],
   "source": [
    "# a function that generates population moments according to FIRE \n",
    "def FIREForecaster(real_time,horizon =10,process_para = process_para):\n",
    "    n = len(real_time)\n",
    "    FE = np.zeros(n) \n",
    "    Disg =np.zeros(n)\n",
    "    rho = process_para['rho']\n",
    "    sigma = process_para['sigma']\n",
    "    infoset = real_time\n",
    "    nowcast = infoset\n",
    "    forecast = rho**horizon*nowcast\n",
    "    Var = hstepvar(horizon,sigma,rho)* np.ones(n)\n",
    "    return {\"Forecast\":forecast,\n",
    "            \"FE\":FE,\n",
    "           \"Disg\":Disg,\n",
    "           \"Var\":Var}"
   ]
  },
  {
   "cell_type": "code",
   "execution_count": 33,
   "metadata": {
    "code_folding": [
     0
    ]
   },
   "outputs": [
    {
     "data": {
      "text/plain": [
       "{'Forecast': array([0.59873694, 1.19747388]),\n",
       " 'FE': array([0., 0.]),\n",
       " 'Disg': array([0., 0.]),\n",
       " 'Var': array([0.06579632, 0.06579632])}"
      ]
     },
     "execution_count": 33,
     "metadata": {},
     "output_type": "execute_result"
    }
   ],
   "source": [
    "## test\n",
    "FIREtest = FIREForecaster(np.array([1,2]))\n",
    "FIREtest"
   ]
  },
  {
   "cell_type": "code",
   "execution_count": 7,
   "metadata": {
    "code_folding": [
     0
    ]
   },
   "outputs": [],
   "source": [
    "## SE parameters\n",
    "\n",
    "SE_para ={'lambda':0.75}"
   ]
  },
  {
   "cell_type": "code",
   "execution_count": 29,
   "metadata": {
    "code_folding": [
     0
    ]
   },
   "outputs": [],
   "source": [
    "# a function that generates population moments according to SE \n",
    "def SEForecaster(real_time,horizon =10,process_para = process_para,exp_para = SE_para):\n",
    "    n = len(real_time)\n",
    "    rho = process_para['rho']\n",
    "    sigma = process_para['sigma']\n",
    "    lbd = exp_para['lambda']\n",
    "    max_back = 10 # need to avoid magic numbers \n",
    "    FE = 0 # a function of lambda, real-time and process_para \n",
    "    Disg = 0 # same as above\n",
    "    Var = sum([ lbd*(1-lbd)**tau*hstepvar(horizon+tau,sigma,rho) for tau in range(max_back)] ) * np.ones(n)  \n",
    "    # same as above \n",
    "    nowcast = sum([ lbd*(1-lbd)**tau*(rho**tau)*np.roll(real_time,tau) for tau in range(max_back)]) \n",
    "    # the first tau needs to be burned\n",
    "    forecast = rho**horizon*nowcast\n",
    "    return {\"Forecast\":forecast, \n",
    "            \"FE\":FE,\n",
    "            \"Disg\":Disg,\n",
    "            \"Var\":Var}"
   ]
  },
  {
   "cell_type": "code",
   "execution_count": 31,
   "metadata": {},
   "outputs": [
    {
     "data": {
      "text/plain": [
       "{'Forecast': array([0.4091756 , 0.27733146, 0.64679667, 0.35378098, 0.45837141,\n",
       "        0.39756091, 0.14048374, 0.18236721, 0.46914632, 0.12981461]),\n",
       " 'FE': 0,\n",
       " 'Disg': 0,\n",
       " 'Var': array([0.01291357, 0.01291357, 0.01291357, 0.01291357, 0.01291357,\n",
       "        0.01291357, 0.01291357, 0.01291357, 0.01291357, 0.01291357])}"
      ]
     },
     "execution_count": 31,
     "metadata": {},
     "output_type": "execute_result"
    }
   ],
   "source": [
    "## test \n",
    "xxx = np.random.rand(10)\n",
    "SEForecaster(xxx,horizon=1)"
   ]
  },
  {
   "cell_type": "code",
   "execution_count": 10,
   "metadata": {
    "code_folding": [
     0
    ]
   },
   "outputs": [
    {
     "ename": "SyntaxError",
     "evalue": "invalid syntax (<ipython-input-10-d78c263bed00>, line 8)",
     "output_type": "error",
     "traceback": [
      "\u001b[0;36m  File \u001b[0;32m\"<ipython-input-10-d78c263bed00>\"\u001b[0;36m, line \u001b[0;32m8\u001b[0m\n\u001b[0;31m    NIFE = # a function of lambda, real-time and process_para\u001b[0m\n\u001b[0m                                                              ^\u001b[0m\n\u001b[0;31mSyntaxError\u001b[0m\u001b[0;31m:\u001b[0m invalid syntax\n"
     ]
    }
   ],
   "source": [
    "# a function that generates population moments according to NI \n",
    "def NIForecaster(real_time,horizon =10,process_para = process_para,exp_para = exp_para):\n",
    "    rho = process_para['rho']\n",
    "    sigma = process_para['sigma']\n",
    "    sigma_pr = exp_para['sigma_pr']\n",
    "    sigma_pb = exp_para['sigma_pb']\n",
    "    \n",
    "    NIFE = # a function of lambda, real-time and process_para \n",
    "    NIDisg = 0 # same as above\n",
    "    NIVar = # same as above \n",
    "    return {\"FE\":NIFE,\n",
    "           \"Disg\":NIDisg,\n",
    "           \"Var\":NIVar}"
   ]
  }
 ],
 "metadata": {
  "jupytext": {
   "formats": "ipynb,py:light"
  },
  "kernelspec": {
   "display_name": "Python 3",
   "language": "python",
   "name": "python3"
  },
  "language_info": {
   "codemirror_mode": {
    "name": "ipython",
    "version": 3
   },
   "file_extension": ".py",
   "mimetype": "text/x-python",
   "name": "python",
   "nbconvert_exporter": "python",
   "pygments_lexer": "ipython3",
   "version": "3.7.3"
  }
 },
 "nbformat": 4,
 "nbformat_minor": 2
}
