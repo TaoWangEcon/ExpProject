{
 "cells": [
  {
   "cell_type": "markdown",
   "metadata": {},
   "source": [
    "## SMM Estimation of Theories of Expectation Formation on Inflation \n",
    "\n",
    "- The codes are organized in following ways\n",
    "\n",
    "  1. Each pair of a theory of expectation formation (re, se, ni, de,etc) and an assumed process of inflation process (ar1 or sv)  are encapsulated in a specific python class. \n",
    "    - the class initilizes corresponding parameters of inflation process and expectation formation \n",
    "    - and embodies a specific function that generates all the SMM moments of both inflation and expectations \n",
    "    \n",
    "  2. A generaly written objective function that computes the distances in moments as a function of parameters specific to the chosen model, moments and the data. \n",
    "  3.  The general function is to be used to compute the specific objective function that takes parameter as the only input for the minimizor to work\n",
    "  4.  Then a general function that does optimization algorithm takes the specific objective function and estimates the parameters"
   ]
  },
  {
   "cell_type": "code",
   "execution_count": 50,
   "metadata": {},
   "outputs": [],
   "source": [
    "import numpy as np\n",
    "from scipy.optimize import minimize\n",
    "import matplotlib.pyplot as plt\n",
    "#import statsmodels.api as sm\n",
    "import numba as nb\n",
    "from numba import jit, njit, jitclass, float64, int64\n",
    "#from numba.typed import List"
   ]
  },
  {
   "cell_type": "code",
   "execution_count": 2,
   "metadata": {
    "code_folding": [
     0,
     2,
     11
    ]
   },
   "outputs": [],
   "source": [
    "## auxiliary functions \n",
    "@njit\n",
    "def hstepvar(h,\n",
    "             ρ,\n",
    "             σ):\n",
    "    var = 0\n",
    "    for i in range(h):\n",
    "        var += ρ**(2*i)*σ**2 \n",
    "    return var \n",
    "\n",
    "@njit\n",
    "def SimAR1(ρ,\n",
    "           σ,\n",
    "           T):\n",
    "    xxx = np.zeros(T+1)\n",
    "    shocks = np.random.randn(T+1)*σ\n",
    "    xxx[0] = 0 \n",
    "    for i in range(T):\n",
    "        xxx[i+1] = ρ*xxx[i] + shocks[i+1]\n",
    "    return xxx[1:]"
   ]
  },
  {
   "cell_type": "code",
   "execution_count": 132,
   "metadata": {
    "code_folding": [
     1,
     19
    ]
   },
   "outputs": [],
   "source": [
    "@njit\n",
    "def ObjGen(model,\n",
    "           paras,\n",
    "           data_mom_dict,\n",
    "           moment_choice,\n",
    "           how = 'expectation'):\n",
    "    if how =='expectation':\n",
    "        model.exp_para = paras\n",
    "    elif how=='process':\n",
    "        model.process_para = paras\n",
    "        \n",
    "    # simulated moments \n",
    "    model_mom_dict = model.SMM()\n",
    "    diff = np.array([model_mom_dict[mom] - data_mom_dict[mom] for mom in moment_choice]) \n",
    "    distance = np.linalg.norm(diff)\n",
    "    \n",
    "    return distance\n",
    "\n",
    "@njit\n",
    "def ObjJointGen(model,\n",
    "               paras,\n",
    "               data_mom_dict,\n",
    "               moment_choice,\n",
    "               n_exp_paras = 1):\n",
    "    model.exp_para = paras[n_exp_paras-1]\n",
    "    model.process_para = paras[n_exp_paras:]\n",
    "        \n",
    "    # simulated moments \n",
    "    model_mom_dict = model.SMM()\n",
    "    diff = np.array([model_mom_dict[mom] - data_mom_dict[mom] for mom in moment_choice]) \n",
    "    distance = np.linalg.norm(diff)\n",
    "    \n",
    "    return distance"
   ]
  },
  {
   "cell_type": "code",
   "execution_count": 4,
   "metadata": {
    "code_folding": [
     0,
     1
    ]
   },
   "outputs": [],
   "source": [
    "## parameter estimation non-jitted because jit does not support scipy.optimize\n",
    "def ParaEst(ObjSpec,\n",
    "            para_guess,\n",
    "            method = 'Nelder-Mead',\n",
    "            bounds = None,\n",
    "            options = {'disp': True}):\n",
    "    \n",
    "    parameter = minimize(ObjSpec,\n",
    "                         x0 = para_guess,\n",
    "                         method = method,\n",
    "                         bounds = bounds,\n",
    "                         options = options)['x']\n",
    "    return parameter "
   ]
  },
  {
   "cell_type": "markdown",
   "metadata": {},
   "source": [
    "### Rational Expectation (RE) + AR1"
   ]
  },
  {
   "cell_type": "code",
   "execution_count": 5,
   "metadata": {
    "code_folding": [
     0
    ]
   },
   "outputs": [],
   "source": [
    "model_data = [\n",
    "    ('exp_para', float64[:]),             # parameters for expectation formation, empty for re\n",
    "    ('process_para', float64[:]),         # parameters for inflation process, 2 entries for AR1 \n",
    "    ('horizon', int64),                   # forecast horizons \n",
    "    ('real_time',float64[:]),             # real time data on inflation \n",
    "    ('history',float64[:]),               # a longer history of inflation \n",
    "    ('realized',float64[:])               # realized inflation \n",
    "]"
   ]
  },
  {
   "cell_type": "code",
   "execution_count": 6,
   "metadata": {
    "code_folding": [
     1,
     2,
     14,
     18
    ]
   },
   "outputs": [],
   "source": [
    "@jitclass(model_data)\n",
    "class RationalExpectationAR:\n",
    "    def __init__(self,\n",
    "                 exp_para,\n",
    "                 process_para,\n",
    "                 real_time,\n",
    "                 history,\n",
    "                 horizon = 1):\n",
    "        self.exp_para = exp_para\n",
    "        self.process_para = process_para\n",
    "        self.horizon = horizon\n",
    "        self.real_time = real_time\n",
    "        self.history = history\n",
    "\n",
    "    def GetRealization(self,\n",
    "                       realized_series):\n",
    "        self.realized = realized_series\n",
    "        \n",
    "    def SimForecasts(self):\n",
    "        ## parameters\n",
    "        n = len(self.real_time)\n",
    "        ρ,σ = self.process_para\n",
    "        horizon = self.horizon\n",
    "\n",
    "        ## information set \n",
    "        real_time = self.real_time\n",
    "        \n",
    "        ## forecast moments \n",
    "        Disg = np.zeros(n)\n",
    "        nowcast = real_time\n",
    "        forecast = ρ**horizon*nowcast\n",
    "        Var = hstepvar(horizon,ρ,σ)* np.ones(n)\n",
    "        FE = forecast - self.realized           ## forecast errors depend on realized shocks\n",
    "        FEATV = np.zeros(n)\n",
    "        forecast_moments = {\"FE\":FE,\n",
    "                            \"Disg\":Disg,\n",
    "                            \"Var\":Var}\n",
    "        return forecast_moments\n",
    "    \n",
    "    def SMM(self):\n",
    "        \n",
    "        ρ,σ = self.process_para\n",
    "        \n",
    "        #################################\n",
    "        # inflation moments \n",
    "        #################################\n",
    "\n",
    "        InfAV  = 0.0\n",
    "        InfVar = σ**2/(1-ρ**2)\n",
    "        InfATV = ρ**2*InfVar\n",
    "        \n",
    "        #################################\n",
    "        # expectation moments \n",
    "        #################################\n",
    "        ## simulate forecasts\n",
    "        moms_sim = self.SimForecasts()\n",
    "        \n",
    "        FEs_sim = moms_sim['FE']\n",
    "        Disgs_sim = moms_sim['Disg']\n",
    "        Vars_sim = moms_sim['Var']\n",
    "        \n",
    "        ## SMM moments     \n",
    "        FE_sim = np.mean(FEs_sim)\n",
    "        FEVar_sim = np.var(FEs_sim)\n",
    "        FEATV_sim = np.cov(np.stack( (FEs_sim[1:],FEs_sim[:-1]),axis = 0 ))[0,1]\n",
    "        Disg_sim = np.mean(Disgs_sim)\n",
    "        DisgVar_sim = np.var(Disgs_sim)\n",
    "        DisgATV_sim = np.cov(np.stack( (Disgs_sim[1:],Disgs_sim[:-1]),axis = 0))[0,1]\n",
    "        \n",
    "        Var_sim = np.mean(Vars_sim)\n",
    "    \n",
    "        SMMMoments = {\"InfAV\":InfAV,\n",
    "                      \"InfVar\":InfVar,\n",
    "                      \"InfATV\":InfATV,\n",
    "                      \"FE\":FE_sim,\n",
    "                      \"FEVar\":FEVar_sim,\n",
    "                      \"FEATV\":FEATV_sim,\n",
    "                      \"Disg\":Disg_sim,\n",
    "                      \"DisgVar\":DisgVar_sim,\n",
    "                      \"DisgATV\":DisgATV_sim,\n",
    "                      \"Var\":Var_sim}\n",
    "        return SMMMoments"
   ]
  },
  {
   "cell_type": "code",
   "execution_count": 7,
   "metadata": {
    "code_folding": []
   },
   "outputs": [],
   "source": [
    "## generate an instance of the model\n",
    "\n",
    "ρ0,σ0 = 0.95,0.1\n",
    "\n",
    "history0 = SimAR1(ρ0,\n",
    "                  σ0,\n",
    "                  200)\n",
    "real_time0 = history0[11:-2]\n",
    "\n",
    "realized0 = history0[12:-1]\n",
    "\n",
    "\n",
    "## initialize an re instance \n",
    "\n",
    "rear0 = RationalExpectationAR(exp_para = np.array([]),\n",
    "                              process_para = np.array([ρ0,σ0]),\n",
    "                              real_time = real_time0,\n",
    "                              history = history0,\n",
    "                              horizon = 1)\n",
    "\n",
    "rear0.GetRealization(realized0)\n",
    "\n",
    "\n",
    "## fake data moments dictionary \n",
    "\n",
    "data_mom_dict0 = rear0.SMM()\n",
    "\n",
    "\n",
    "## specific objective function for estimation \n",
    "moments0 = ['InfAV',\n",
    "           'InfVar',\n",
    "           'InfATV']\n",
    "#typed_moments0 = List()\n",
    "#[typed_moments0.append(mom) for mom in moments0]\n",
    "\n",
    "## specific objective function \n",
    "\n",
    "def Objrear(paras):\n",
    "    scalor = ObjGen(rear0,\n",
    "                    paras= paras,\n",
    "                    data_mom_dict = data_mom_dict0,\n",
    "                    moment_choice = moments0,\n",
    "                    how = 'process')\n",
    "    return scalor"
   ]
  },
  {
   "cell_type": "code",
   "execution_count": 12,
   "metadata": {
    "code_folding": []
   },
   "outputs": [
    {
     "name": "stdout",
     "output_type": "stream",
     "text": [
      "Optimization terminated successfully.\n",
      "         Current function value: 0.000006\n",
      "         Iterations: 32\n",
      "         Function evaluations: 61\n"
     ]
    },
    {
     "data": {
      "text/plain": [
       "array([0.94998787, 0.10001442])"
      ]
     },
     "execution_count": 12,
     "metadata": {},
     "output_type": "execute_result"
    }
   ],
   "source": [
    "## invoke estimation \n",
    "\n",
    "ParaEst(Objrear,\n",
    "        para_guess = (0.8,0.1)\n",
    "       )"
   ]
  },
  {
   "cell_type": "markdown",
   "metadata": {},
   "source": [
    "### Sticky Expectation (SE) + AR1\n",
    "\n"
   ]
  },
  {
   "cell_type": "code",
   "execution_count": 23,
   "metadata": {
    "code_folding": [
     0,
     3
    ]
   },
   "outputs": [],
   "source": [
    "### Some jitted functions that are needed (https://github.com/numba/numba/issues/1269)\n",
    "\n",
    "@njit\n",
    "def np_apply_along_axis(func1d, axis, arr):\n",
    "    assert arr.ndim == 2\n",
    "    assert axis in [0, 1]\n",
    "    if axis == 0:\n",
    "        result = np.empty(arr.shape[1])\n",
    "        for i in range(len(result)):\n",
    "            result[i] = func1d(arr[:, i])\n",
    "    else:\n",
    "        result = np.empty(arr.shape[0])\n",
    "        for i in range(len(result)):\n",
    "            result[i] = func1d(arr[i, :])\n",
    "    return result\n",
    "\n",
    "@njit\n",
    "def np_mean(array, axis):\n",
    "    return np_apply_along_axis(np.mean, axis, array)\n",
    "\n",
    "@njit\n",
    "def np_std(array, axis):\n",
    "    return np_apply_along_axis(np.std, axis, array)\n",
    "\n",
    "@njit\n",
    "def np_var(array, axis):\n",
    "    return np_apply_along_axis(np.var, axis, array)\n",
    "\n",
    "@njit\n",
    "def np_max(array, axis):\n",
    "    return np_apply_along_axis(np.max, axis, array)\n",
    "\n",
    "\n",
    "@njit\n",
    "def np_min(array, axis):\n",
    "    return np_apply_along_axis(np.min, axis, array)"
   ]
  },
  {
   "cell_type": "code",
   "execution_count": 161,
   "metadata": {
    "code_folding": [
     2,
     14,
     18,
     44,
     81
    ]
   },
   "outputs": [],
   "source": [
    "@jitclass(model_data)\n",
    "class StickyExpectationAR:\n",
    "    def __init__(self,\n",
    "                 exp_para,\n",
    "                 process_para,\n",
    "                 real_time,\n",
    "                 history,\n",
    "                 horizon = 1):\n",
    "        self.exp_para = exp_para\n",
    "        self.process_para = process_para\n",
    "        self.horizon = horizon\n",
    "        self.real_time = real_time\n",
    "        self.history = history\n",
    "\n",
    "    def GetRealization(self,\n",
    "                       realized_series):\n",
    "        self.realized = realized_series\n",
    "        \n",
    "    def SimForecasts(self,\n",
    "                     n_sim = 500):        \n",
    "        ## parameters and inputs \n",
    "        real_time = self.real_time\n",
    "        history  = self.history\n",
    "        \n",
    "        n = len(real_time)\n",
    "        ρ,σ = self.process_para\n",
    "        lbd = self.exp_para\n",
    "        horizon = self.horizon\n",
    "        \n",
    "        n_history = len(history) # of course equal to len(history)\n",
    "        n_burn = len(history) - n\n",
    "        \n",
    "        ## simulation\n",
    "        np.random.seed(12345)\n",
    "        update_or_not_val = np.random.uniform(0,\n",
    "                                              1,\n",
    "                                              size = (n_sim,n_history))\n",
    "        update_or_not_bool = update_or_not_val>=1-lbd\n",
    "        update_or_not = update_or_not_bool.astype(np.int64)\n",
    "        most_recent_when = np.empty((n_sim,n_history),dtype = np.int64)\n",
    "        nowcasts_to_burn = np.empty((n_sim,n_history),dtype = np.float64)\n",
    "        Vars_to_burn = np.empty((n_sim,n_history),dtype = np.float64)\n",
    "        \n",
    "        # look back for the most recent last update for each point of time  \n",
    "        for i in range(n_sim):\n",
    "            for j in range(n_history):\n",
    "                most_recent = j \n",
    "                for x in range(j):\n",
    "                    if update_or_not[i,j-x]==1 and most_recent<=x:\n",
    "                        most_recent = most_recent\n",
    "                    elif update_or_not[i,j-x]==1 and most_recent>x:\n",
    "                        most_recent = x\n",
    "                most_recent_when[i,j] = most_recent\n",
    "                nowcasts_to_burn[i,j] = history[j - most_recent_when[i,j]]*ρ**most_recent_when[i,j]\n",
    "                Vars_to_burn[i,j]= hstepvar((most_recent_when[i,j]+horizon),\n",
    "                                            ρ,\n",
    "                                            σ)\n",
    "        \n",
    "        ## burn initial forecasts since history is too short \n",
    "        nowcasts = nowcasts_to_burn[:,n_burn:] \n",
    "        forecasts = ρ**horizon*nowcasts\n",
    "        Vars = Vars_to_burn[:,n_burn:]\n",
    "        FEs = forecasts - self.realized\n",
    "        \n",
    "        ## compuate population moments\n",
    "        forecasts_mean = np_mean(forecasts,axis = 0)\n",
    "        forecasts_var = np_var(forecasts,axis = 0)\n",
    "        FEs_mean = forecasts_mean - self.realized\n",
    "            \n",
    "        Vars_mean = np_mean(Vars,axis = 0) ## need to change \n",
    "        \n",
    "        forecasts_vcv = np.cov(forecasts.T)\n",
    "        forecasts_atv = np.array([forecasts_vcv[i+1,i] for i in range(n-1)])\n",
    "        FEs_vcv = np.cov(FEs.T)\n",
    "        FEs_atv = np.array([FEs_vcv[i+1,i] for i in range(n-1)]) ## this is no longer needed\n",
    "        \n",
    "        forecast_moments_sim = {\"FE\":FEs_mean,\n",
    "                                \"Disg\":forecasts_var,\n",
    "                                \"Var\":Vars_mean}\n",
    "        return forecast_moments_sim\n",
    "            \n",
    "    def SMM(self):\n",
    "        \n",
    "        ρ,σ = self.process_para\n",
    "        \n",
    "        #################################\n",
    "        # inflation moments \n",
    "        #################################\n",
    "\n",
    "        InfAV  = 0.0\n",
    "        InfVar = σ**2/(1-ρ**2)\n",
    "        InfATV = ρ**2*InfVar\n",
    "        \n",
    "        #################################\n",
    "        # expectation moments \n",
    "        #################################\n",
    "        ## simulate forecasts\n",
    "        moms_sim = self.SimForecasts()\n",
    "        \n",
    "        FEs_sim = moms_sim['FE']\n",
    "        Disgs_sim = moms_sim['Disg']\n",
    "        Vars_sim = moms_sim['Var']\n",
    "        \n",
    "        ## SMM moments     \n",
    "        FE_sim = np.mean(FEs_sim)\n",
    "        FEVar_sim = np.var(FEs_sim)\n",
    "        FEATV_sim = np.cov(np.stack( (FEs_sim[1:],FEs_sim[:-1]),axis = 0 ))[0,1]\n",
    "        Disg_sim = np.mean(Disgs_sim)\n",
    "        DisgVar_sim = np.var(Disgs_sim)\n",
    "        DisgATV_sim = np.cov(np.stack( (Disgs_sim[1:],Disgs_sim[:-1]),axis = 0))[0,1]\n",
    "        \n",
    "        Var_sim = np.mean(Vars_sim)\n",
    "    \n",
    "        SMMMoments = {\"InfAV\":InfAV,\n",
    "                      \"InfVar\":InfVar,\n",
    "                      \"InfATV\":InfATV,\n",
    "                      \"FE\":FE_sim,\n",
    "                      \"FEVar\":FEVar_sim,\n",
    "                      \"FEATV\":FEATV_sim,\n",
    "                      \"Disg\":Disg_sim,\n",
    "                      \"DisgVar\":DisgVar_sim,\n",
    "                      \"DisgATV\":DisgATV_sim,\n",
    "                      \"Var\":Var_sim}\n",
    "        return SMMMoments"
   ]
  },
  {
   "cell_type": "code",
   "execution_count": 162,
   "metadata": {
    "code_folding": []
   },
   "outputs": [],
   "source": [
    "## intialize the instance \n",
    "sear0 = StickyExpectationAR(exp_para = np.array([0.2]),\n",
    "                            process_para = np.array([ρ0,σ0]),\n",
    "                            real_time = real_time0,\n",
    "                            history = history0,\n",
    "                            horizon = 1)\n",
    "\n",
    "sear0.GetRealization(realized0)"
   ]
  },
  {
   "cell_type": "code",
   "execution_count": 171,
   "metadata": {
    "code_folding": [
     2
    ],
    "scrolled": false
   },
   "outputs": [],
   "source": [
    "## get a fake data moment dictionary under a different parameter \n",
    "\n",
    "sear1 = StickyExpectationAR(exp_para = np.array([0.8]),\n",
    "                            process_para = np.array([ρ0,σ0]),\n",
    "                            real_time = real_time0,\n",
    "                            history = history0,\n",
    "                            horizon = 1)\n",
    "\n",
    "sear1.GetRealization(realized0)\n",
    "\n",
    "data_mom_dict1 = sear1.SMM()"
   ]
  },
  {
   "cell_type": "code",
   "execution_count": 172,
   "metadata": {
    "code_folding": [
     0,
     5
    ]
   },
   "outputs": [],
   "source": [
    "moments0 = ['FE',\n",
    "            'FEVar',\n",
    "            'FEATV',\n",
    "            'Disg']\n",
    "\n",
    "def Objsear(paras):\n",
    "    scalor = ObjGen(sear0,\n",
    "                    paras = paras,\n",
    "                    data_mom_dict = data_mom_dict1,\n",
    "                    moment_choice = moments0,\n",
    "                    how = 'expectation')\n",
    "    return scalor"
   ]
  },
  {
   "cell_type": "code",
   "execution_count": 173,
   "metadata": {},
   "outputs": [
    {
     "name": "stdout",
     "output_type": "stream",
     "text": [
      "Optimization terminated successfully.\n",
      "         Current function value: 0.000000\n",
      "         Iterations: 18\n",
      "         Function evaluations: 36\n"
     ]
    },
    {
     "data": {
      "text/plain": [
       "array([0.8])"
      ]
     },
     "execution_count": 173,
     "metadata": {},
     "output_type": "execute_result"
    }
   ],
   "source": [
    "ParaEst(Objsear,\n",
    "        para_guess = (0.2),\n",
    "        method='Nelder-Mead',\n",
    "        bounds = ((0,1),)\n",
    "       )"
   ]
  }
 ],
 "metadata": {
  "kernelspec": {
   "display_name": "Python 3",
   "language": "python",
   "name": "python3"
  },
  "language_info": {
   "codemirror_mode": {
    "name": "ipython",
    "version": 3
   },
   "file_extension": ".py",
   "mimetype": "text/x-python",
   "name": "python",
   "nbconvert_exporter": "python",
   "pygments_lexer": "ipython3",
   "version": "3.7.3"
  }
 },
 "nbformat": 4,
 "nbformat_minor": 4
}
